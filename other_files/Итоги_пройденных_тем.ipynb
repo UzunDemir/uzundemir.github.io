{
  "nbformat": 4,
  "nbformat_minor": 0,
  "metadata": {
    "colab": {
      "provenance": [],
      "authorship_tag": "ABX9TyOtw5CQnm25c2adGg9x2Gwi",
      "include_colab_link": true
    },
    "kernelspec": {
      "name": "python3",
      "display_name": "Python 3"
    },
    "language_info": {
      "name": "python"
    }
  },
  "cells": [
    {
      "cell_type": "markdown",
      "metadata": {
        "id": "view-in-github",
        "colab_type": "text"
      },
      "source": [
        "<a href=\"https://colab.research.google.com/github/UzunDemir/uzundemir.github.io/blob/master/other_files/%D0%98%D1%82%D0%BE%D0%B3%D0%B8_%D0%BF%D1%80%D0%BE%D0%B9%D0%B4%D0%B5%D0%BD%D0%BD%D1%8B%D1%85_%D1%82%D0%B5%D0%BC.ipynb\" target=\"_parent\"><img src=\"https://colab.research.google.com/assets/colab-badge.svg\" alt=\"Open In Colab\"/></a>"
      ]
    },
    {
      "cell_type": "markdown",
      "source": [
        "## Предлагаем выполнить два задания (средний и сложный уровень), чтобы научиться применять знания, полученные в модуле.\n",
        "\n",
        "\n",
        "\n",
        "Что нужно сделать\n",
        "* С помощью SymPy найдите полиномы, описывающие наборы точек ниже. \n",
        "* Проведите полное исследование каждого полученного полинома: проверьте чётность/нечётность, найдите нули, промежутки знакопостоянства. \n",
        "* Постройте графики полиномов. \n",
        "* Изменяя промежуток для x, добейтесь того, чтобы все нули отображались на графике функции."
      ],
      "metadata": {
        "id": "6a3_S24mUFAE"
      }
    },
    {
      "cell_type": "markdown",
      "source": [
        "### Средний уровень\n",
        "Набор точек, для которого нужно решить задание: (−2, 2), (−1, 1), (0, 0), (1, 1), (2, 2)."
      ],
      "metadata": {
        "id": "QGB1q0T_UW78"
      }
    },
    {
      "cell_type": "markdown",
      "source": [
        "Решение задания среднего уровня, шаг 1\n",
        "Для начала нужно импортировать библиотеку SymPy и функцию plot из модуля sympy.plotting, чтобы отрисовать графики:"
      ],
      "metadata": {
        "id": "SRBr4iERUfEU"
      }
    },
    {
      "cell_type": "code",
      "source": [
        "import sympy as sp\n",
        "from sympy.plotting import plot\n",
        "sp.init_printing(use_unicode=False, wrap_line=False, no_global=True)"
      ],
      "metadata": {
        "id": "LznFaLYnUQYU"
      },
      "execution_count": 1,
      "outputs": []
    },
    {
      "cell_type": "markdown",
      "source": [
        "Решение задания среднего уровня, шаг 2\n",
        "Набор состоит из пяти пар точек, поэтому и символьных переменных для коэффициентов будет пять. Заведём символьные переменные для коэффициентов:"
      ],
      "metadata": {
        "id": "6TLZNlN8VE6D"
      }
    },
    {
      "cell_type": "code",
      "source": [
        "a4, a3, a2, a1, a0 = sp.symbols('a4, a3, a2, a1, a0')"
      ],
      "metadata": {
        "id": "TFBVTsFFUjJE"
      },
      "execution_count": 2,
      "outputs": []
    },
    {
      "cell_type": "code",
      "source": [
        "eq1_lp = a4*(-2)**4 + a3*(-2)**3 + a2*(-2)**2 + a1*(-2) + a0 - 2\n",
        "eq2_lp = a4*(-1)**4 + a3*(-1)**3 + a2*(-1)**2 + a1*(-1) + a0 - 1\n",
        "eq3_lp = a4*(0)**4 + a3*(0)**3 + a2*(0)**2 + a1*(0) + a0 - 0\n",
        "eq4_lp = a4*(1)**4 + a3*(1)**3 + a2*(1)**2 + a1*(1) + a0 - 1\n",
        "eq5_lp = a4*(2)**4 + a3*(2)**3 + a2*(2)**2 + a1*(2) + a0 - 2\n"
      ],
      "metadata": {
        "id": "Uq5B47c9VZtS"
      },
      "execution_count": 4,
      "outputs": []
    },
    {
      "cell_type": "markdown",
      "source": [
        "Решение задания среднего уровня, шаг 4\n",
        "Когда все данные перенесены в левую часть, нужно передать список левых частей уравнений в функцию nonlinsolve. Вторым аргументом передаём список символьных переменных, чтобы подсказать функции, что искать:"
      ],
      "metadata": {
        "id": "DoG8eAkfVTDy"
      }
    },
    {
      "cell_type": "code",
      "source": [
        "sp.nonlinsolve([eq1_lp, eq2_lp, eq3_lp, eq4_lp, eq5_lp], [a4, a3, a2, a1, a0])"
      ],
      "metadata": {
        "colab": {
          "base_uri": "https://localhost:8080/",
          "height": 58
        },
        "id": "iNBhPnXpVI5L",
        "outputId": "c8ac13de-fb4c-48bd-a702-a8fb64f48ce1"
      },
      "execution_count": 5,
      "outputs": [
        {
          "output_type": "execute_result",
          "data": {
            "text/plain": [
              "{(-1/6, 0, 7/6, 0, 0)}"
            ],
            "text/latex": "$\\displaystyle \\left\\{\\left( - \\frac{1}{6}, \\  0, \\  \\frac{7}{6}, \\  0, \\  0\\right)\\right\\}$"
          },
          "metadata": {},
          "execution_count": 5
        }
      ]
    },
    {
      "cell_type": "markdown",
      "source": [
        "Решение задания среднего уровня, шаг 5\n",
        "Теперь создаём функцию с найденными коэффициентами:"
      ],
      "metadata": {
        "id": "hHmZLmBNXBzB"
      }
    },
    {
      "cell_type": "code",
      "source": [
        "x = sp.Symbol('x')\n",
        "f = -1/6 * x**4 + 7/6*x**2\n",
        "f"
      ],
      "metadata": {
        "colab": {
          "base_uri": "https://localhost:8080/",
          "height": 38
        },
        "id": "6zBBx8_6XCuh",
        "outputId": "8b59ee01-321c-4928-aeb5-839ed4222407"
      },
      "execution_count": 6,
      "outputs": [
        {
          "output_type": "execute_result",
          "data": {
            "text/plain": [
              "                     4                     2\n",
              "- 0.166666666666667*x  + 1.16666666666667*x "
            ],
            "text/latex": "$\\displaystyle - 0.166666666666667 x^{4} + 1.16666666666667 x^{2}$"
          },
          "metadata": {},
          "execution_count": 6
        }
      ]
    },
    {
      "cell_type": "markdown",
      "source": [
        "Решение задания среднего уровня, шаг 6\n",
        "Отрисуем график так, чтобы на нём были видны все нули. Для этого в функцию plot вторым параметром передадим диапазон для отрисовки (от −3 до 3 достаточно):"
      ],
      "metadata": {
        "id": "EuxWfyzgXJa4"
      }
    },
    {
      "cell_type": "code",
      "source": [
        "plot(f, (x, -3, 3));"
      ],
      "metadata": {
        "colab": {
          "base_uri": "https://localhost:8080/",
          "height": 486
        },
        "id": "OAu8uAhnXFJ5",
        "outputId": "79b876f7-1796-4837-86af-f2249e7f704b"
      },
      "execution_count": 7,
      "outputs": [
        {
          "output_type": "display_data",
          "data": {
            "text/plain": [
              "<Figure size 640x480 with 1 Axes>"
            ],
            "image/png": "[encoded data removed]"
          },
          "metadata": {}
        }
      ]
    },
    {
      "cell_type": "markdown",
      "source": [
        "Решение задания среднего уровня, шаг 7\n",
        "Судя по графику, функция чётная. Убедимся в этом, подставив в неё противоположные значения:"
      ],
      "metadata": {
        "id": "S6gMhAH0XRbo"
      }
    },
    {
      "cell_type": "code",
      "source": [
        "f.subs(x, -1)"
      ],
      "metadata": {
        "colab": {
          "base_uri": "https://localhost:8080/",
          "height": 37
        },
        "id": "osxosjHJXM84",
        "outputId": "975606e7-4920-4b9e-e27f-68d90dc38d65"
      },
      "execution_count": 8,
      "outputs": [
        {
          "output_type": "execute_result",
          "data": {
            "text/plain": [
              "1.00000000000000"
            ],
            "text/latex": "$\\displaystyle 1.0$"
          },
          "metadata": {},
          "execution_count": 8
        }
      ]
    },
    {
      "cell_type": "code",
      "source": [
        "f.subs(x, 1)"
      ],
      "metadata": {
        "colab": {
          "base_uri": "https://localhost:8080/",
          "height": 37
        },
        "id": "SvlXZ3SVXUI4",
        "outputId": "d0f646ee-cbd9-4071-f403-11f6022d9da6"
      },
      "execution_count": 13,
      "outputs": [
        {
          "output_type": "execute_result",
          "data": {
            "text/plain": [
              "1.00000000000000"
            ],
            "text/latex": "$\\displaystyle 1.0$"
          },
          "metadata": {},
          "execution_count": 13
        }
      ]
    },
    {
      "cell_type": "code",
      "source": [
        "f.subs(x, -100)"
      ],
      "metadata": {
        "colab": {
          "base_uri": "https://localhost:8080/",
          "height": 37
        },
        "id": "YECH_Hm9XXIQ",
        "outputId": "d9219e13-d284-4bcc-96dc-8377d897e61e"
      },
      "execution_count": 15,
      "outputs": [
        {
          "output_type": "execute_result",
          "data": {
            "text/plain": [
              "-16655000.0000000"
            ],
            "text/latex": "$\\displaystyle -16655000.0$"
          },
          "metadata": {},
          "execution_count": 15
        }
      ]
    },
    {
      "cell_type": "code",
      "source": [
        "f.subs(x, 100)"
      ],
      "metadata": {
        "colab": {
          "base_uri": "https://localhost:8080/",
          "height": 37
        },
        "id": "aOmY9Wh2Xw6Z",
        "outputId": "4e2dc426-0f24-4180-cf12-754a3ca5bc84"
      },
      "execution_count": 17,
      "outputs": [
        {
          "output_type": "execute_result",
          "data": {
            "text/plain": [
              "-16655000.0000000"
            ],
            "text/latex": "$\\displaystyle -16655000.0$"
          },
          "metadata": {},
          "execution_count": 17
        }
      ]
    },
    {
      "cell_type": "markdown",
      "source": [
        "Решение задания среднего уровня, шаг 8\n",
        "Определим нули с помощью функции solve:"
      ],
      "metadata": {
        "id": "BFboqaOYYEw3"
      }
    },
    {
      "cell_type": "code",
      "source": [
        "sp.solve(f)"
      ],
      "metadata": {
        "colab": {
          "base_uri": "https://localhost:8080/",
          "height": 37
        },
        "id": "HkcAIKC4X-mY",
        "outputId": "d79df0ef-9390-4e0d-e75d-3e1c13b6c960"
      },
      "execution_count": 18,
      "outputs": [
        {
          "output_type": "execute_result",
          "data": {
            "text/plain": [
              "[-2.64575131106459, 0.0, 2.64575131106459]"
            ],
            "text/latex": "$\\displaystyle \\left[ -2.64575131106459, \\  0.0, \\  2.64575131106459\\right]$"
          },
          "metadata": {},
          "execution_count": 18
        }
      ]
    },
    {
      "cell_type": "markdown",
      "source": [
        "Решение задания среднего уровня, шаг 9\n",
        "Теперь необходимо определить промежутки знакопостоянства. Для этого используем функцию solve_univariate_inequality:"
      ],
      "metadata": {
        "id": "wtKYp_DtYSJH"
      }
    },
    {
      "cell_type": "code",
      "source": [
        "sp.solve_univariate_inequality(f > 0, x)  # Функция положительна"
      ],
      "metadata": {
        "colab": {
          "base_uri": "https://localhost:8080/",
          "height": 38
        },
        "id": "kpixVrHbYLK_",
        "outputId": "6cf718e6-35a7-451d-f52a-0966582718fe"
      },
      "execution_count": 20,
      "outputs": [
        {
          "output_type": "execute_result",
          "data": {
            "text/plain": [
              "And(x > -2.64575131106459, x < 2.64575131106459, x != 0)"
            ],
            "text/latex": "$\\displaystyle x > -2.64575131106459 \\wedge x < 2.64575131106459 \\wedge x \\neq 0$"
          },
          "metadata": {},
          "execution_count": 20
        }
      ]
    },
    {
      "cell_type": "code",
      "source": [
        "sp.solve_univariate_inequality(f < 0, x)  # Функция отрицательна"
      ],
      "metadata": {
        "colab": {
          "base_uri": "https://localhost:8080/",
          "height": 38
        },
        "id": "yJy3fL9FYVO3",
        "outputId": "7d682eba-3247-4dc3-f662-ba28debe4510"
      },
      "execution_count": 21,
      "outputs": [
        {
          "output_type": "execute_result",
          "data": {
            "text/plain": [
              "Or(And(2.64575131106459 < x, x < oo), And(-oo < x, x < -2.64575131106459))"
            ],
            "text/latex": "$\\displaystyle \\left(2.64575131106459 < x \\wedge x < \\infty\\right) \\vee \\left(-\\infty < x \\wedge x < -2.64575131106459\\right)$"
          },
          "metadata": {},
          "execution_count": 21
        }
      ]
    },
    {
      "cell_type": "markdown",
      "source": [
        "### Задание сложного уровня\n",
        "Набор точек, для которого нужно решить задание: (−3, 33), (−2, 31), (−1, 18), (1, −18), (2, −31), (3, −33)"
      ],
      "metadata": {
        "id": "ev5EXFKRYbYX"
      }
    },
    {
      "cell_type": "code",
      "source": [
        "a5, a4, a3, a2, a1, a0 = sp.symbols('a5, a4, a3, a2, a1, a0')"
      ],
      "metadata": {
        "id": "9-MXr1w7YX9P"
      },
      "execution_count": 23,
      "outputs": []
    },
    {
      "cell_type": "code",
      "source": [
        "eq1_lp = (-3)**5*a5 + (-3)**4*a4 + (-3)**3*a3 + (-3)**2*a2 + (-3)*a1 + a0 - 33 \n",
        "eq2_lp = (-2)**5*a5 + (-2)**4*a4 + (-2)**3*a3 + (-2)**2*a2 + (-2)*a1 + a0 - 31  \n",
        "eq3_lp = (-1)**5*a5 + (-1)**4*a4 + (-1)**3*a3 + (-1)**2*a2 + (-1)*a1 + a0 - 18 \n",
        "eq4_lp =  (1)**5*a5 +  (1)**4*a4 +  (1)**3*a3 +  (1)**2*a2 +  (1)*a1 + a0 + 18 \n",
        "eq5_lp =  (2)**5*a5 +  (2)**4*a4 +  (2)**3*a3 +  (2)**2*a2 +  (2)*a1 + a0 + 31 \n",
        "eq6_lp =  (3)**5*a5 +  (3)**4*a4 +  (3)**3*a3 +  (3)**2*a2 +  (3)*a1 + a0 + 33 "
      ],
      "metadata": {
        "id": "D94Wn_7-bGr9"
      },
      "execution_count": 24,
      "outputs": []
    },
    {
      "cell_type": "code",
      "source": [
        "sp.nonlinsolve([eq1_lp, eq2_lp, eq3_lp, eq4_lp, eq5_lp, eq6_lp], [a5, a4, a3, a2, a1, a0])"
      ],
      "metadata": {
        "colab": {
          "base_uri": "https://localhost:8080/",
          "height": 58
        },
        "id": "7e9U7hdDbSfs",
        "outputId": "b516a68b-b299-4e8c-ace6-d8da8cc51523"
      },
      "execution_count": 26,
      "outputs": [
        {
          "output_type": "execute_result",
          "data": {
            "text/plain": [
              "            19               \n",
              "{(1/120, 0, --, 0, -94/5, 0)}\n",
              "            24               "
            ],
            "text/latex": "$\\displaystyle \\left\\{\\left( \\frac{1}{120}, \\  0, \\  \\frac{19}{24}, \\  0, \\  - \\frac{94}{5}, \\  0\\right)\\right\\}$"
          },
          "metadata": {},
          "execution_count": 26
        }
      ]
    },
    {
      "cell_type": "code",
      "source": [
        "import matplotlib.pyplot as plt\n",
        "import numpy as np"
      ],
      "metadata": {
        "id": "e80HT5LGbVJ8"
      },
      "execution_count": 27,
      "outputs": []
    },
    {
      "cell_type": "code",
      "source": [
        "points_X = [-3, -2, -1, 1, 2, 3]\n",
        "points_Y = [33, 31, 18, -18, -31, -33]\n",
        "\n",
        "X = np.arange(-5, 5, 0.01)\n",
        "Y = [1/120 * x**5 + 19/24 * x**3 - 94/5 * x for x in X]\n",
        "\n",
        "plt.scatter(points_X, points_Y, c='r')\n",
        "plt.plot(X, Y, 'b')\n",
        "plt.show()"
      ],
      "metadata": {
        "colab": {
          "base_uri": "https://localhost:8080/",
          "height": 430
        },
        "id": "KhpTH0NHbc5s",
        "outputId": "73818991-85a7-4ec4-edf2-5eb3166bd339"
      },
      "execution_count": 28,
      "outputs": [
        {
          "output_type": "display_data",
          "data": {
            "text/plain": [
              "<Figure size 640x480 with 1 Axes>"
            ],
            "image/png": "[encoded data removed]"
          },
          "metadata": {}
        }
      ]
    },
    {
      "cell_type": "code",
      "source": [
        "x = sp.Symbol('x')\n",
        "f = 1/120 * x**5 + 19/24 * x**3 - 94/5 * x \n",
        "f"
      ],
      "metadata": {
        "colab": {
          "base_uri": "https://localhost:8080/",
          "height": 38
        },
        "id": "jQkghNc5bfUM",
        "outputId": "45a7496a-f40a-4fd2-f50e-bcc75a59d5c1"
      },
      "execution_count": 30,
      "outputs": [
        {
          "output_type": "execute_result",
          "data": {
            "text/plain": [
              "                     5                      3         \n",
              "0.00833333333333333*x  + 0.791666666666667*x  - 18.8*x"
            ],
            "text/latex": "$\\displaystyle 0.00833333333333333 x^{5} + 0.791666666666667 x^{3} - 18.8 x$"
          },
          "metadata": {},
          "execution_count": 30
        }
      ]
    },
    {
      "cell_type": "code",
      "source": [
        "f.subs(x, -1)"
      ],
      "metadata": {
        "colab": {
          "base_uri": "https://localhost:8080/",
          "height": 37
        },
        "id": "43v7uDrKbi00",
        "outputId": "0f5603c0-f675-462c-a54d-50d804596a4d"
      },
      "execution_count": 31,
      "outputs": [
        {
          "output_type": "execute_result",
          "data": {
            "text/plain": [
              "18.0000000000000"
            ],
            "text/latex": "$\\displaystyle 18.0$"
          },
          "metadata": {},
          "execution_count": 31
        }
      ]
    },
    {
      "cell_type": "code",
      "source": [
        "f.subs(x, 1)"
      ],
      "metadata": {
        "colab": {
          "base_uri": "https://localhost:8080/",
          "height": 37
        },
        "id": "oaTIpXNIbwAE",
        "outputId": "1a854c3c-644f-4b8c-b0a1-d655734eeb6e"
      },
      "execution_count": 32,
      "outputs": [
        {
          "output_type": "execute_result",
          "data": {
            "text/plain": [
              "-18.0000000000000"
            ],
            "text/latex": "$\\displaystyle -18.0$"
          },
          "metadata": {},
          "execution_count": 32
        }
      ]
    },
    {
      "cell_type": "code",
      "source": [
        "f.subs(x, -100)"
      ],
      "metadata": {
        "colab": {
          "base_uri": "https://localhost:8080/",
          "height": 37
        },
        "id": "Rx0Nd1dSbyGU",
        "outputId": "46877423-187f-4300-fca3-b9a0c965b156"
      },
      "execution_count": 33,
      "outputs": [
        {
          "output_type": "execute_result",
          "data": {
            "text/plain": [
              "-84123120.0000000"
            ],
            "text/latex": "$\\displaystyle -84123120.0$"
          },
          "metadata": {},
          "execution_count": 33
        }
      ]
    },
    {
      "cell_type": "code",
      "source": [
        "f.subs(x, 100)"
      ],
      "metadata": {
        "colab": {
          "base_uri": "https://localhost:8080/",
          "height": 37
        },
        "id": "K9eMNHRQb0GL",
        "outputId": "5a7333fd-8291-4dd5-c04d-a630337640d8"
      },
      "execution_count": 34,
      "outputs": [
        {
          "output_type": "execute_result",
          "data": {
            "text/plain": [
              "84123120.0000000"
            ],
            "text/latex": "$\\displaystyle 84123120.0$"
          },
          "metadata": {},
          "execution_count": 34
        }
      ]
    },
    {
      "cell_type": "code",
      "source": [
        "sp.solve(f)"
      ],
      "metadata": {
        "colab": {
          "base_uri": "https://localhost:8080/",
          "height": 38
        },
        "id": "HbXWdRWXb23D",
        "outputId": "c548991c-ca05-4278-c14a-eb8650f33c6c"
      },
      "execution_count": 36,
      "outputs": [
        {
          "output_type": "execute_result",
          "data": {
            "text/plain": [
              "[-4.43545751638198, 0.0, 4.43545751638198, -10.7085612189327*I, 10.7085612189327*I]"
            ],
            "text/latex": "$\\displaystyle \\left[ -4.43545751638198, \\  0.0, \\  4.43545751638198, \\  - 10.7085612189327 i, \\  10.7085612189327 i\\right]$"
          },
          "metadata": {},
          "execution_count": 36
        }
      ]
    },
    {
      "cell_type": "code",
      "source": [
        "sp.solve_univariate_inequality(f > 0, x)"
      ],
      "metadata": {
        "colab": {
          "base_uri": "https://localhost:8080/",
          "height": 38
        },
        "id": "qpa6qmbxb5I7",
        "outputId": "9cf1d4fa-f867-41f5-de54-8c7d86f286ef"
      },
      "execution_count": 37,
      "outputs": [
        {
          "output_type": "execute_result",
          "data": {
            "text/plain": [
              "Or(And(-4.43545751638198 < x, x < 0), And(4.43545751638198 < x, x < oo))"
            ],
            "text/latex": "$\\displaystyle \\left(-4.43545751638198 < x \\wedge x < 0\\right) \\vee \\left(4.43545751638198 < x \\wedge x < \\infty\\right)$"
          },
          "metadata": {},
          "execution_count": 37
        }
      ]
    },
    {
      "cell_type": "code",
      "source": [
        "sp.solve_univariate_inequality(f < 0, x)"
      ],
      "metadata": {
        "colab": {
          "base_uri": "https://localhost:8080/",
          "height": 38
        },
        "id": "0aUX4Oomb9Yr",
        "outputId": "07023f43-6dbb-401a-d110-912ded3c350a"
      },
      "execution_count": 38,
      "outputs": [
        {
          "output_type": "execute_result",
          "data": {
            "text/plain": [
              "Or(And(-oo < x, x < -4.43545751638198), And(0 < x, x < 4.43545751638198))"
            ],
            "text/latex": "$\\displaystyle \\left(-\\infty < x \\wedge x < -4.43545751638198\\right) \\vee \\left(0 < x \\wedge x < 4.43545751638198\\right)$"
          },
          "metadata": {},
          "execution_count": 38
        }
      ]
    },
    {
      "cell_type": "code",
      "source": [],
      "metadata": {
        "id": "9180zvjecA0M"
      },
      "execution_count": null,
      "outputs": []
    }
  ]
}