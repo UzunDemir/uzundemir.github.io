{
 "cells": [
  {
   "cell_type": "markdown",
   "id": "66980236",
   "metadata": {
    "tags": [],
    "toc": true
   },
   "source": [
    "# Матрицы"
   ]
  },
  {
   "cell_type": "markdown",
   "id": "779ac00d-a9a3-448d-a940-56cd2ba907ae",
   "metadata": {
    "tags": []
   },
   "source": [
    "## Создание матриц"
   ]
  },
  {
   "cell_type": "markdown",
   "id": "e2b63657-fb9a-49c1-8900-6ec5a591a1f1",
   "metadata": {
    "tags": []
   },
   "source": [
    "### Использование вложенных списков:"
   ]
  },
  {
   "cell_type": "code",
   "execution_count": 9,
   "id": "f2461122",
   "metadata": {
    "scrolled": true
   },
   "outputs": [
    {
     "name": "stdout",
     "output_type": "stream",
     "text": [
      "[[1, 2, 3], [4, 5, 6]] \n",
      " [[7, 8], [9, 10], [11, 12]]\n"
     ]
    }
   ],
   "source": [
    "matrix1 = [[1, 2, 3], [4, 5, 6]]\n",
    "matrix2 = [[7, 8], [9, 10], [11, 12]]\n",
    "print(matrix1, '\\n', matrix2)"
   ]
  },
  {
   "cell_type": "code",
   "execution_count": 10,
   "id": "35832e7e",
   "metadata": {},
   "outputs": [
    {
     "name": "stdout",
     "output_type": "stream",
     "text": [
      "[[1 2 3]\n",
      " [3 4 5]]\n",
      "[[1.1 2.  3. ]\n",
      " [3.  4.  5. ]]\n",
      "[[1.+0.j 2.+0.j 3.+0.j]\n",
      " [3.+0.j 4.+0.j 5.+0.j]]\n"
     ]
    }
   ],
   "source": [
    "import numpy as np\n",
    "\n",
    "A = np.array([[1, 2, 3], [3, 4, 5]])\n",
    "print(A)\n",
    "\n",
    "A = np.array([[1.1, 2, 3], [3, 4, 5]]) # Массив чисел с плавающей запятой\n",
    "print(A)\n",
    "\n",
    "A = np.array([[1, 2, 3], [3, 4, 5]], dtype = complex) # Массив составных чисел\n",
    "print(A)"
   ]
  },
  {
   "cell_type": "markdown",
   "id": "a3da2908-0723-460c-8228-e4925f9e2569",
   "metadata": {},
   "source": [
    "В первом случае, matrix1 является обычным списком списков, где каждый внутренний список представляет строку матрицы. Это базовая структура данных в Python, которая позволяет хранить последовательности элементов.\n",
    "Во втором случае, matrix1 является объектом типа numpy.ndarray, который представляет многомерный массив. numpy.ndarray предоставляет мощные возможности для работы с массивами, включая математические операции, индексацию и срезы, а также функции для работы с массивами.\n",
    "Использование numpy.ndarray вместо обычных списков может быть полезным, особенно при работе с большими массивами данных или при выполнении вычислений на массивах. numpy.ndarray обеспечивает более эффективное использование памяти и более быстрые операции над массивами.\n",
    "Например, с использованием numpy.ndarray, можно выполнять математические операции над матрицами, такие как сложение, умножение и транспонирование, с помощью встроенных функций numpy. Это может быть удобно при работе с линейной алгеброй или обработкой данных.\n",
    "В обоих случаях можно вывести матрицу по строкам, как я показал в предыдущих ответах. Однако, при использовании numpy.ndarray, можно также использовать множество других функций и методов, предоставляемых библиотекой NumPy, для работы с массивами."
   ]
  },
  {
   "cell_type": "markdown",
   "id": "fe24ee6a-ad85-4a68-aaee-5bf69c004927",
   "metadata": {},
   "source": [
    "В данном случае, `matrix1` и `matrix2` создаются с использованием функции `np.matrix()` из библиотеки NumPy. Функция `np.matrix()` принимает двумерный массив или строку, представляющую матрицу, и создает объект типа `numpy.matrix`.\n",
    "\n",
    "Объекты типа `numpy.matrix` представляют двумерные матрицы и предоставляют удобные методы и операции для работы с ними. Они поддерживают матричное умножение, сложение, транспонирование и другие операции, которые могут быть полезны при работе с линейной алгеброй.\n",
    "\n",
    "Однако, в более новых версиях библиотеки NumPy рекомендуется использовать объекты типа `numpy.ndarray` вместо `numpy.matrix`. Вместо `np.matrix()`, можно использовать функцию `np.array()` для создания объектов типа `numpy.ndarray`, которые предоставляют более широкий набор функций и методов для работы с массивами.\n",
    "\n",
    "Вот пример, как можно создать `matrix1` и `matrix2` с использованием `np.array()` вместо `np.matrix()`:\n",
    "Такой подход с использованием `np.array()` является более современным и рекомендуется для работы с массивами в библиотеке NumPy."
   ]
  },
  {
   "cell_type": "code",
   "execution_count": 15,
   "id": "3b54a8a4-2263-40e6-a7b2-6556bdecbd36",
   "metadata": {},
   "outputs": [
    {
     "name": "stdout",
     "output_type": "stream",
     "text": [
      "[[1 2 3]\n",
      " [4 5 6]] \n",
      " \n",
      " [[ 7  8]\n",
      " [ 9 10]\n",
      " [11 12]]\n"
     ]
    }
   ],
   "source": [
    "\n",
    "import numpy as np\n",
    "\n",
    "matrix1 = np.array([[1, 2, 3], [4, 5, 6]])\n",
    "matrix2 = np.array([[7, 8], [9, 10], [11, 12]])\n",
    "print(matrix1, '\\n','\\n', matrix2)"
   ]
  },
  {
   "cell_type": "markdown",
   "id": "e9479cab-9028-474d-a3a9-22562413f886",
   "metadata": {
    "tags": []
   },
   "source": [
    "### Использование функции numpy.zeros(), numpy.ones() и numpy.eye():"
   ]
  },
  {
   "cell_type": "code",
   "execution_count": 17,
   "id": "68314cab-689e-4427-a0f8-30d19328ccbd",
   "metadata": {},
   "outputs": [
    {
     "name": "stdout",
     "output_type": "stream",
     "text": [
      "[[0. 0. 0.]\n",
      " [0. 0. 0.]] \n",
      " \n",
      " [[0. 0.]\n",
      " [0. 0.]\n",
      " [0. 0.]]\n"
     ]
    }
   ],
   "source": [
    "import numpy as np\n",
    "\n",
    "matrix1 = np.zeros((2, 3))  # Создает матрицу 2x3 заполненную нулями\n",
    "matrix2 = np.zeros((3, 2))  # Создает матрицу 3x2 заполненную нулями\n",
    "print(matrix1, '\\n','\\n', matrix2)"
   ]
  },
  {
   "cell_type": "code",
   "execution_count": 18,
   "id": "20bde1bf-5f01-40c4-ae36-bba94a2d56ba",
   "metadata": {},
   "outputs": [
    {
     "name": "stdout",
     "output_type": "stream",
     "text": [
      "[[1. 1. 1.]\n",
      " [1. 1. 1.]] \n",
      " \n",
      " [[1. 1.]\n",
      " [1. 1.]\n",
      " [1. 1.]]\n"
     ]
    }
   ],
   "source": [
    "import numpy as np\n",
    "\n",
    "matrix1 = np.ones((2, 3))  # Создает матрицу 2x3 заполненную единицами\n",
    "matrix2 = np.ones((3, 2))  # Создает матрицу 3x2 заполненную единицами\n",
    "print(matrix1, '\\n','\\n', matrix2)"
   ]
  },
  {
   "cell_type": "markdown",
   "id": "dbd117c5-7dff-4da3-85ff-c8b25590bf85",
   "metadata": {},
   "source": [
    "Единичная матрица - это квадратная матрица, у которой все элементы на главной диагонали равны 1, а все остальные элементы равны 0.\n",
    "\n",
    "В NumPy можно создать единичную матрицу с помощью функции `numpy.eye()`. Эта функция принимает один аргумент `n`, который указывает размерность квадратной матрицы, и возвращает единичную матрицу этого размера.\n",
    "\n",
    "Вот пример создания единичной матрицы размером 3x3 с использованием `numpy.eye()`:\n",
    "\n",
    "В этом примере мы импортируем библиотеку NumPy и используем функцию `np.eye(3)` для создания единичной матрицы размером 3x3. Затем мы выводим ее на экран с помощью функции `print()`."
   ]
  },
  {
   "cell_type": "code",
   "execution_count": 19,
   "id": "08f7ecbb-6322-47dc-997f-bc403dec79df",
   "metadata": {},
   "outputs": [
    {
     "name": "stdout",
     "output_type": "stream",
     "text": [
      "[[1. 0. 0.]\n",
      " [0. 1. 0.]\n",
      " [0. 0. 1.]]\n"
     ]
    }
   ],
   "source": [
    "\n",
    "import numpy as np\n",
    "\n",
    "identity_matrix = np.eye(3)\n",
    "print(identity_matrix)\n",
    "\n",
    "\n"
   ]
  },
  {
   "cell_type": "code",
   "execution_count": 15,
   "id": "9c8e2c17-7d65-41b9-81cc-0acd99db9e36",
   "metadata": {},
   "outputs": [
    {
     "name": "stdout",
     "output_type": "stream",
     "text": [
      "Результат умножения матриц:\n",
      "1 * 5 + 2 * 7 = 19\n",
      "1 * 6 + 2 * 8 = 22\n",
      "3 * 5 + 4 * 7 = 43\n",
      "3 * 6 + 4 * 8 = 50\n"
     ]
    }
   ],
   "source": [
    "import numpy as np\n",
    "import time\n",
    "\n",
    "def matrix_multiplication_animation(matrix1, matrix2):\n",
    "    result = np.dot(matrix1, matrix2)\n",
    "    rows1, cols1 = matrix1.shape\n",
    "    rows2, cols2 = matrix2.shape\n",
    "\n",
    "    if cols1 != rows2:\n",
    "        print(\"Умножение матриц невозможно. Количество столбцов первой матрицы должно быть равно количеству строк второй матрицы.\")\n",
    "        return\n",
    "\n",
    "    print(\"Результат умножения матриц:\")\n",
    "    for i in range(rows1):\n",
    "        for j in range(cols2):\n",
    "            animation = \"\"\n",
    "            for k in range(cols1):\n",
    "                animation += f\"{matrix1[i][k]} * {matrix2[k][j]} + \"\n",
    "                time.sleep(0.5)  # Задержка для создания анимации\n",
    "            animation = animation[:-2]  # Удаление последнего \"+\"\n",
    "            animation += f\"= {result[i][j]}\"\n",
    "            print(animation)\n",
    "            time.sleep(1)  # Задержка между шагами анимации\n",
    "\n",
    "# Пример использования\n",
    "matrix1 = np.array([[1, 2], [3, 4]])\n",
    "matrix2 = np.array([[5, 6], [7, 8]])\n",
    "matrix_multiplication_animation(matrix1, matrix2)\n"
   ]
  },
  {
   "cell_type": "code",
   "execution_count": 16,
   "id": "4d08f02b-b0ce-4604-b271-140961041ec1",
   "metadata": {},
   "outputs": [
    {
     "name": "stdout",
     "output_type": "stream",
     "text": [
      "Первая матрица:\n",
      "[[1 2]\n",
      " [3 4]]\n",
      "Вторая матрица:\n",
      "[[5 6]\n",
      " [7 8]]\n",
      "Результат умножения матриц:\n",
      "1 * 5 + 2 * 7 = 19\n",
      "1 * 6 + 2 * 8 = 22\n",
      "3 * 5 + 4 * 7 = 43\n",
      "3 * 6 + 4 * 8 = 50\n"
     ]
    }
   ],
   "source": [
    "import numpy as np\n",
    "import time\n",
    "\n",
    "def matrix_multiplication_animation(matrix1, matrix2):\n",
    "    result = np.dot(matrix1, matrix2)\n",
    "    rows1, cols1 = matrix1.shape\n",
    "    rows2, cols2 = matrix2.shape\n",
    "\n",
    "    if cols1 != rows2:\n",
    "        print(\"Умножение матриц невозможно. Количество столбцов первой матрицы должно быть равно количеству строк второй матрицы.\")\n",
    "        return\n",
    "\n",
    "    print(\"Первая матрица:\")\n",
    "    print(matrix1)\n",
    "    print(\"Вторая матрица:\")\n",
    "    print(matrix2)\n",
    "    print(\"Результат умножения матриц:\")\n",
    "    for i in range(rows1):\n",
    "        for j in range(cols2):\n",
    "            animation = \"\"\n",
    "            for k in range(cols1):\n",
    "                animation += f\"{matrix1[i][k]} * {matrix2[k][j]} + \"\n",
    "                time.sleep(0.5)  # Задержка для создания анимации\n",
    "            animation = animation[:-2]  # Удаление последнего \"+\"\n",
    "            animation += f\"= {result[i][j]}\"\n",
    "            print(animation)\n",
    "            time.sleep(1)  # Задержка между шагами анимации\n",
    "\n",
    "# Пример использования\n",
    "matrix1 = np.array([[1, 2], [3, 4]])\n",
    "matrix2 = np.array([[5, 6], [7, 8]])\n",
    "matrix_multiplication_animation(matrix1, matrix2)\n"
   ]
  },
  {
   "cell_type": "code",
   "execution_count": 19,
   "id": "8ad4d836-780d-448c-915f-8badb008f109",
   "metadata": {},
   "outputs": [
    {
     "name": "stdout",
     "output_type": "stream",
     "text": [
      "Первая матрица:\n",
      "[[1 2]\n",
      " [3 4]]\n",
      "Вторая матрица:\n",
      "[[5 6]\n",
      " [7 8]]\n",
      "Результат умножения матриц:\n",
      "1 * 5 + 2 * 7 = 19\n",
      "1 * 6 + 2 * 8 = 22\n",
      "3 * 5 + 4 * 7 = 43\n",
      "3 * 6 + 4 * 8 = 50\n",
      "Конечная матрица:\n",
      "[[19 22]\n",
      " [43 50]]\n"
     ]
    }
   ],
   "source": [
    "import numpy as np\n",
    "import time\n",
    "\n",
    "def matrix_multiplication_animation(matrix1, matrix2):\n",
    "    result = np.dot(matrix1, matrix2)\n",
    "    rows1, cols1 = matrix1.shape\n",
    "    rows2, cols2 = matrix2.shape\n",
    "\n",
    "    if cols1 != rows2:\n",
    "        print(\"Умножение матриц невозможно. Количество столбцов первой матрицы должно быть равно количеству строк второй матрицы.\")\n",
    "        return\n",
    "\n",
    "    print(\"Первая матрица:\")\n",
    "    print(matrix1)\n",
    "    print(\"Вторая матрица:\")\n",
    "    print(matrix2)\n",
    "    print(\"Результат умножения матриц:\")\n",
    "    for i in range(rows1):\n",
    "        for j in range(cols2):\n",
    "            animation = \"\"\n",
    "            for k in range(cols1):\n",
    "                animation += f\"{matrix1[i][k]} * {matrix2[k][j]} + \"\n",
    "                time.sleep(0.5)  # Задержка для создания анимации\n",
    "            animation = animation[:-2]  # Удаление последнего \"+\"\n",
    "            animation += f\"= {result[i][j]}\"\n",
    "            print(animation)\n",
    "            time.sleep(1)  # Задержка между шагами анимации\n",
    "\n",
    "    print(\"Конечная матрица:\")\n",
    "    print(result)\n",
    "\n",
    "# Пример использования\n",
    "matrix1 = np.array([[1, 2], [3, 4]])\n",
    "matrix2 = np.array([[5, 6], [7, 8]])\n",
    "matrix_multiplication_animation(matrix1, matrix2)\n"
   ]
  },
  {
   "cell_type": "code",
   "execution_count": 20,
   "id": "e22bb1b8-6440-466c-b806-2236400f61c7",
   "metadata": {},
   "outputs": [
    {
     "name": "stdin",
     "output_type": "stream",
     "text": [
      "Введите количество строк для первой матрицы:  2\n",
      "Введите количество столбцов для первой матрицы:  2\n",
      "Введите количество строк для второй матрицы:  2\n",
      "Введите количество столбцов для второй матрицы:  2\n"
     ]
    },
    {
     "name": "stdout",
     "output_type": "stream",
     "text": [
      "Введите значения для матрицы размером 2x2:\n"
     ]
    },
    {
     "name": "stdin",
     "output_type": "stream",
     "text": [
      "Введите значение для элемента [1][1]:  1\n",
      "Введите значение для элемента [1][2]:  2\n",
      "Введите значение для элемента [2][1]:  3\n",
      "Введите значение для элемента [2][2]:  4\n"
     ]
    },
    {
     "name": "stdout",
     "output_type": "stream",
     "text": [
      "Введите значения для матрицы размером 2x2:\n"
     ]
    },
    {
     "name": "stdin",
     "output_type": "stream",
     "text": [
      "Введите значение для элемента [1][1]:  5\n",
      "Введите значение для элемента [1][2]:  6\n",
      "Введите значение для элемента [2][1]:  7\n",
      "Введите значение для элемента [2][2]:  8\n"
     ]
    },
    {
     "name": "stdout",
     "output_type": "stream",
     "text": [
      "Результат умножения матриц:\n",
      "[[19. 22.]\n",
      " [43. 50.]]\n"
     ]
    }
   ],
   "source": [
    "import numpy as np\n",
    "\n",
    "def matrix_multiplication(matrix1, matrix2):\n",
    "    result = np.dot(matrix1, matrix2)\n",
    "    return result\n",
    "\n",
    "# Функция для ввода матрицы\n",
    "def input_matrix(rows, cols):\n",
    "    matrix = []\n",
    "    print(f\"Введите значения для матрицы размером {rows}x{cols}:\")\n",
    "    for i in range(rows):\n",
    "        row = []\n",
    "        for j in range(cols):\n",
    "            value = float(input(f\"Введите значение для элемента [{i+1}][{j+1}]: \"))\n",
    "            row.append(value)\n",
    "        matrix.append(row)\n",
    "    return np.array(matrix)\n",
    "\n",
    "# Ввод размеров матриц\n",
    "rows1 = int(input(\"Введите количество строк для первой матрицы: \"))\n",
    "cols1 = int(input(\"Введите количество столбцов для первой матрицы: \"))\n",
    "rows2 = int(input(\"Введите количество строк для второй матрицы: \"))\n",
    "cols2 = int(input(\"Введите количество столбцов для второй матрицы: \"))\n",
    "\n",
    "# Ввод матриц\n",
    "matrix1 = input_matrix(rows1, cols1)\n",
    "matrix2 = input_matrix(rows2, cols2)\n",
    "\n",
    "# Проверка возможности умножения матриц\n",
    "if cols1 != rows2:\n",
    "    print(\"Умножение матриц невозможно. Количество столбцов первой матрицы должно быть равно количеству строк второй матрицы.\")\n",
    "else:\n",
    "    # Выполнение умножения матриц\n",
    "    result = matrix_multiplication(matrix1, matrix2)\n",
    "    print(\"Результат умножения матриц:\")\n",
    "    print(result)\n"
   ]
  },
  {
   "cell_type": "code",
   "execution_count": 22,
   "id": "57efed43-ea5d-4939-bed4-297f032382c0",
   "metadata": {},
   "outputs": [
    {
     "name": "stdin",
     "output_type": "stream",
     "text": [
      "Введите количество строк для первой матрицы:  2\n",
      "Введите количество столбцов для первой матрицы:  2\n",
      "Введите количество строк для второй матрицы:  2\n",
      "Введите количество столбцов для второй матрицы:  2\n"
     ]
    },
    {
     "name": "stdout",
     "output_type": "stream",
     "text": [
      "Введите значения для матрицы размером 2x2:\n"
     ]
    },
    {
     "name": "stdin",
     "output_type": "stream",
     "text": [
      "Введите значение для элемента [1][1]:  1\n",
      "Введите значение для элемента [1][2]:  2\n",
      "Введите значение для элемента [2][1]:  3\n",
      "Введите значение для элемента [2][2]:  4\n"
     ]
    },
    {
     "name": "stdout",
     "output_type": "stream",
     "text": [
      "Введите значения для матрицы размером 2x2:\n"
     ]
    },
    {
     "name": "stdin",
     "output_type": "stream",
     "text": [
      "Введите значение для элемента [1][1]:  5\n",
      "Введите значение для элемента [1][2]:  6\n",
      "Введите значение для элемента [2][1]:  7\n",
      "Введите значение для элемента [2][2]:  8\n"
     ]
    },
    {
     "name": "stdout",
     "output_type": "stream",
     "text": [
      "Первая матрица:\n",
      "[[1. 2.]\n",
      " [3. 4.]]\n",
      "Вторая матрица:\n",
      "[[5. 6.]\n",
      " [7. 8.]]\n",
      "Результат умножения матриц:\n",
      "1.0 * 5.0 + 2.0 * 7.0 = 19.0\n",
      "1.0 * 6.0 + 2.0 * 8.0 = 22.0\n",
      "3.0 * 5.0 + 4.0 * 7.0 = 43.0\n",
      "3.0 * 6.0 + 4.0 * 8.0 = 50.0\n",
      "Конечная матрица:\n",
      "[[19. 22.]\n",
      " [43. 50.]]\n"
     ]
    }
   ],
   "source": [
    "import numpy as np\n",
    "import time\n",
    "\n",
    "def matrix_multiplication_animation(matrix1, matrix2):\n",
    "    result = np.dot(matrix1, matrix2)\n",
    "    rows1, cols1 = matrix1.shape\n",
    "    rows2, cols2 = matrix2.shape\n",
    "\n",
    "    if cols1 != rows2:\n",
    "        print(\"Умножение матриц невозможно. Количество столбцов первой матрицы должно быть равно количеству строк второй матрицы.\")\n",
    "        return\n",
    "\n",
    "    print(\"Первая матрица:\")\n",
    "    print(matrix1)\n",
    "    print(\"Вторая матрица:\")\n",
    "    print(matrix2)\n",
    "    print(\"Результат умножения матриц:\")\n",
    "    for i in range(rows1):\n",
    "        for j in range(cols2):\n",
    "            animation = \"\"\n",
    "            for k in range(cols1):\n",
    "                animation += f\"{matrix1[i][k]} * {matrix2[k][j]} + \"\n",
    "                time.sleep(0.3)  # Задержка для создания анимации\n",
    "            animation = animation[:-2]  # Удаление последнего \"+\"\n",
    "            animation += f\"= {result[i][j]}\"\n",
    "            print(animation)\n",
    "            time.sleep(1)  # Задержка между шагами анимации\n",
    "\n",
    "    print(\"Конечная матрица:\")\n",
    "    print(result)\n",
    "\n",
    "# Функция для ввода матрицы\n",
    "def input_matrix(rows, cols):\n",
    "    matrix = []\n",
    "    print(f\"Введите значения для матрицы размером {rows}x{cols}:\")\n",
    "    for i in range(rows):\n",
    "        row = []\n",
    "        for j in range(cols):\n",
    "            value = float(input(f\"Введите значение для элемента [{i+1}][{j+1}]: \"))\n",
    "            row.append(value)\n",
    "        matrix.append(row)\n",
    "    return np.array(matrix)\n",
    "\n",
    "# Ввод размеров матриц\n",
    "rows1 = int(input(\"Введите количество строк для первой матрицы: \"))\n",
    "cols1 = int(input(\"Введите количество столбцов для первой матрицы: \"))\n",
    "rows2 = int(input(\"Введите количество строк для второй матрицы: \"))\n",
    "cols2 = int(input(\"Введите количество столбцов для второй матрицы: \"))\n",
    "\n",
    "# Ввод матриц\n",
    "matrix1 = input_matrix(rows1, cols1)\n",
    "matrix2 = input_matrix(rows2, cols2)\n",
    "\n",
    "# Выполнение умножения матриц с анимацией\n",
    "matrix_multiplication_animation(matrix1, matrix2)\n"
   ]
  },
  {
   "cell_type": "code",
   "execution_count": 26,
   "id": "6ed41e77-ddc6-4f40-be25-05da082d4f34",
   "metadata": {},
   "outputs": [
    {
     "name": "stdin",
     "output_type": "stream",
     "text": [
      "Введите количество строк первой матрицы:  2\n",
      "Введите количество столбцов первой матрицы:  2\n"
     ]
    },
    {
     "name": "stdout",
     "output_type": "stream",
     "text": [
      "Введите элементы первой матрицы:\n"
     ]
    },
    {
     "name": "stdin",
     "output_type": "stream",
     "text": [
      "Элемент [1][1]:  1\n",
      "Элемент [1][2]:  2\n",
      "Элемент [2][1]:  3\n",
      "Элемент [2][2]:  4\n",
      "Введите количество строк второй матрицы:  2\n",
      "Введите количество столбцов второй матрицы:  2\n"
     ]
    },
    {
     "name": "stdout",
     "output_type": "stream",
     "text": [
      "Введите элементы второй матрицы:\n"
     ]
    },
    {
     "name": "stdin",
     "output_type": "stream",
     "text": [
      "Элемент [1][1]:  5\n",
      "Элемент [1][2]:  6\n",
      "Элемент [2][1]:  7\n",
      "Элемент [2][2]:  8\n"
     ]
    },
    {
     "name": "stdout",
     "output_type": "stream",
     "text": [
      "Исходная матрица 1:\n",
      "[[1. 2.]\n",
      " [3. 4.]]\n",
      "Исходная матрица 2:\n",
      "[[5. 6.]\n",
      " [7. 8.]]\n",
      "Результат умножения матриц:\n",
      "1.0 * 5.0 + 2.0 * 7.0 = 19.0\n",
      "1.0 * 6.0 + 2.0 * 8.0 = 22.0\n",
      "3.0 * 5.0 + 4.0 * 7.0 = 43.0\n",
      "3.0 * 6.0 + 4.0 * 8.0 = 50.0\n",
      "Конечная матрица:\n",
      "[[19. 22.]\n",
      " [43. 50.]]\n"
     ]
    }
   ],
   "source": [
    "import numpy as np\n",
    "import time\n",
    "\n",
    "def matrix_multiplication_animation():\n",
    "    rows1 = int(input(\"Введите количество строк первой матрицы: \"))\n",
    "    cols1 = int(input(\"Введите количество столбцов первой матрицы: \"))\n",
    "\n",
    "    matrix1 = np.zeros((rows1, cols1))\n",
    "\n",
    "    print(\"Введите элементы первой матрицы:\")\n",
    "    for i in range(rows1):\n",
    "        for j in range(cols1):\n",
    "            matrix1[i][j] = float(input(f\"Элемент [{i+1}][{j+1}]: \"))\n",
    "\n",
    "    rows2 = int(input(\"Введите количество строк второй матрицы: \"))\n",
    "    cols2 = int(input(\"Введите количество столбцов второй матрицы: \"))\n",
    "\n",
    "    matrix2 = np.zeros((rows2, cols2))\n",
    "\n",
    "    print(\"Введите элементы второй матрицы:\")\n",
    "    for i in range(rows2):\n",
    "        for j in range(cols2):\n",
    "            matrix2[i][j] = float(input(f\"Элемент [{i+1}][{j+1}]: \"))\n",
    "\n",
    "    if cols1 != rows2:\n",
    "        print(\"Умножение матриц невозможно. Количество столбцов первой матрицы должно быть равно количеству строк второй матрицы.\")\n",
    "        return\n",
    "\n",
    "    result = np.dot(matrix1, matrix2)\n",
    "\n",
    "    print(\"Исходная матрица 1:\")\n",
    "    print(matrix1)\n",
    "    print(\"Исходная матрица 2:\")\n",
    "    print(matrix2)\n",
    "    print(\"Результат умножения матриц:\")\n",
    "    for i in range(rows1):\n",
    "        for j in range(cols2):\n",
    "            animation = \"\"\n",
    "            for k in range(cols1):\n",
    "                animation += f\"{matrix1[i][k]} * {matrix2[k][j]} + \"\n",
    "                time.sleep(0.5)  # Задержка для создания анимации\n",
    "            animation = animation[:-2]  # Удаление последнего \"+\"\n",
    "            animation += f\"= {result[i][j]}\"\n",
    "            print(animation)\n",
    "            time.sleep(1)  # Задержка между шагами анимации\n",
    "\n",
    "    print(\"Конечная матрица:\")\n",
    "    print(result)\n",
    "\n",
    "# Запуск анимации умножения матриц\n",
    "matrix_multiplication_animation()\n"
   ]
  },
  {
   "cell_type": "code",
   "execution_count": 35,
   "id": "97904a0b-5346-41df-8f17-67408cc98a03",
   "metadata": {},
   "outputs": [
    {
     "name": "stdin",
     "output_type": "stream",
     "text": [
      "Введите количество строк матрицы:  4\n",
      "Введите количество столбцов матрицы:  4\n"
     ]
    },
    {
     "name": "stdout",
     "output_type": "stream",
     "text": [
      "Введите элементы матрицы:\n"
     ]
    },
    {
     "name": "stdin",
     "output_type": "stream",
     "text": [
      "Элемент [1][1]:  1\n",
      "Элемент [1][2]:  2\n",
      "Элемент [1][3]:  3\n",
      "Элемент [1][4]:  4\n",
      "Элемент [2][1]:  5\n",
      "Элемент [2][2]:  6\n",
      "Элемент [2][3]:  7\n",
      "Элемент [2][4]:  8\n",
      "Элемент [3][1]:  9\n",
      "Элемент [3][2]:  0\n",
      "Элемент [3][3]:  1\n",
      "Элемент [3][4]:  2\n",
      "Элемент [4][1]:  43\n",
      "Элемент [4][2]:  4\n",
      "Элемент [4][3]:  5\n",
      "Элемент [4][4]:  6\n"
     ]
    },
    {
     "data": {
      "image/png": "[encoded data removed]",
      "text/plain": [
       "<Figure size 600x800 with 2 Axes>"
      ]
     },
     "metadata": {},
     "output_type": "display_data"
    }
   ],
   "source": [
    "import numpy as np\n",
    "import matplotlib.pyplot as plt\n",
    "\n",
    "def matrix_transposition_visualization():\n",
    "    rows = int(input(\"Введите количество строк матрицы: \"))\n",
    "    cols = int(input(\"Введите количество столбцов матрицы: \"))\n",
    "\n",
    "    matrix = np.zeros((rows, cols))\n",
    "\n",
    "    print(\"Введите элементы матрицы:\")\n",
    "    for i in range(rows):\n",
    "        for j in range(cols):\n",
    "            matrix[i][j] = float(input(f\"Элемент [{i+1}][{j+1}]: \"))\n",
    "\n",
    "    transposed_matrix = np.transpose(matrix)\n",
    "\n",
    "    fig, ax = plt.subplots(2, 1, figsize=(6, 8))\n",
    "\n",
    "    # Отображение исходной матрицы\n",
    "    ax[0].imshow(matrix, cmap='viridis')\n",
    "    ax[0].set_title('Исходная матрица')\n",
    "\n",
    "    # Отображение транспонированной матрицы\n",
    "    ax[1].imshow(transposed_matrix, cmap='viridis')\n",
    "    ax[1].set_title('Транспонированная матрица')\n",
    "\n",
    "    plt.tight_layout()\n",
    "    plt.show()\n",
    "\n",
    "# Запуск визуализации транспонирования матрицы\n",
    "matrix_transposition_visualization()\n"
   ]
  },
  {
   "cell_type": "markdown",
   "id": "c8bb3479-5371-4413-9780-6f6d069fcc90",
   "metadata": {},
   "source": [
    "### Транспонирование матрицы\n"
   ]
  },
  {
   "cell_type": "markdown",
   "id": "60a5e408-435c-4714-8e3b-4d265155b1b8",
   "metadata": {},
   "source": [
    "#### Использование встроенных списков Python"
   ]
  },
  {
   "cell_type": "code",
   "execution_count": 40,
   "id": "66d4457c-3494-41d3-b73f-ac5d8494dde9",
   "metadata": {},
   "outputs": [
    {
     "name": "stdout",
     "output_type": "stream",
     "text": [
      " matrix \n",
      " [[1, 2, 3], [4, 5, 6], [7, 8, 9]] \n",
      " transposed_matrix \n",
      " [[1, 4, 7], [2, 5, 8], [3, 6, 9]]\n"
     ]
    }
   ],
   "source": [
    "# Создание матрицы\n",
    "matrix = [[1, 2, 3], [4, 5, 6], [7, 8, 9]]\n",
    "\n",
    "# Транспонирование матрицы\n",
    "transposed_matrix = [[matrix[j][i] for j in range(len(matrix))] for i in range(len(matrix[0]))]\n",
    "print(' matrix','\\n', matrix, '\\n', 'transposed_matrix', '\\n', transposed_matrix)"
   ]
  },
  {
   "cell_type": "markdown",
   "id": "a9cff913-6488-437a-b25c-ff76197ed3f1",
   "metadata": {},
   "source": [
    "#### Использование библиотеки NumPy:"
   ]
  },
  {
   "cell_type": "code",
   "execution_count": 42,
   "id": "aa684923-04ae-417c-86e6-6760f603a46a",
   "metadata": {},
   "outputs": [
    {
     "name": "stdout",
     "output_type": "stream",
     "text": [
      " matrix \n",
      " [[1 2 3]\n",
      " [4 5 6]\n",
      " [7 8 9]] \n",
      " transposed_matrix \n",
      " [[1 4 7]\n",
      " [2 5 8]\n",
      " [3 6 9]]\n"
     ]
    }
   ],
   "source": [
    "import numpy as np\n",
    "\n",
    "# Создание матрицы\n",
    "matrix = np.array([[1, 2, 3], [4, 5, 6], [7, 8, 9]])\n",
    "\n",
    "# Транспонирование матрицы\n",
    "transposed_matrix = np.transpose(matrix)\n",
    "print(' matrix','\\n', matrix, '\\n', 'transposed_matrix', '\\n', transposed_matrix)"
   ]
  }
 ],
 "metadata": {
  "kernelspec": {
   "display_name": "Python 3 (ipykernel)",
   "language": "python",
   "name": "python3"
  },
  "language_info": {
   "codemirror_mode": {
    "name": "ipython",
    "version": 3
   },
   "file_extension": ".py",
   "mimetype": "text/x-python",
   "name": "python",
   "nbconvert_exporter": "python",
   "pygments_lexer": "ipython3",
   "version": "3.9.7"
  },
  "toc": {
   "base_numbering": 1,
   "nav_menu": {},
   "number_sections": true,
   "sideBar": true,
   "skip_h1_title": false,
   "title_cell": "Table of Contents",
   "title_sidebar": "Contents",
   "toc_cell": true,
   "toc_position": {},
   "toc_section_display": true,
   "toc_window_display": true
  }
 },
 "nbformat": 4,
 "nbformat_minor": 5
}
