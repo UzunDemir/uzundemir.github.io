{
 "cells": [
  {
   "cell_type": "markdown",
   "metadata": {
    "id": "Bg0HRgT0wlqF"
   },
   "source": [
    "# Практика. Обучение модели с помощью sklearn"
   ]
  },
  {
   "cell_type": "markdown",
   "metadata": {
    "id": "VwU-MY06ab56"
   },
   "source": [
    "\n",
    "\n",
    "```\n",
    "# Выбран кодовый формат\n",
    "```\n",
    "\n",
    "## Цели задания\n",
    "\n",
    "- Научиться строить модель линейной регрессии.\n",
    "- Познакомиться с функционалом библиотеки Scikit-learn."
   ]
  },
  {
   "cell_type": "code",
   "execution_count": null,
   "metadata": {
    "id": "ms-_Y7VGcX-H"
   },
   "outputs": [],
   "source": []
  },
  {
   "cell_type": "markdown",
   "metadata": {
    "id": "VoLGAEREab8N"
   },
   "source": [
    "## Что нужно сделать\n",
    "\n",
    "- Загрузить данные и ознакомиться с ними.\n",
    "- Разделить данные на обучающую и тестовую выборки.\n",
    "- Реализовать построение модели с помощью  библиотеки Scikit-learn.\n",
    "- Получить качество модели с помощью MSE и MAE.\n",
    "- Дополнить данные переменной.\n",
    "- Реализовать построение новой модели с помощью  библиотеки Scikit-learn.\n",
    "- Получить качество новой модели с помощью MSE и MAE.\n",
    "- Сравнить полученные модели и сделать выводы."
   ]
  },
  {
   "cell_type": "markdown",
   "metadata": {
    "id": "JElIC39PacBH"
   },
   "source": [
    "Обратите внимание, что задание не нужно сдавать на проверку. \n",
    "После выполнения задания рекомендуем свериться с ответами, представленными ниже."
   ]
  },
  {
   "cell_type": "markdown",
   "metadata": {
    "id": "k_y-MyCfawYh"
   },
   "source": [
    "## Задача"
   ]
  },
  {
   "cell_type": "markdown",
   "metadata": {
    "id": "jhetY6H5azrD"
   },
   "source": [
    "Подключите библиотеки."
   ]
  },
  {
   "cell_type": "code",
   "execution_count": 55,
   "metadata": {
    "id": "7Re8dEmpwkpk"
   },
   "outputs": [],
   "source": [
    "%matplotlib inline\n",
    "import matplotlib.pyplot as plt\n",
    "import numpy as np\n",
    "import pandas as pd"
   ]
  },
  {
   "cell_type": "markdown",
   "metadata": {
    "id": "uIGcDfqU5c-v"
   },
   "source": [
    "Инициализируйте данные.\n",
    "\n",
    "Пусть нам заданы 1000 точек — это матрица **X**, и есть целевая функция **Y**."
   ]
  },
  {
   "cell_type": "code",
   "execution_count": 56,
   "metadata": {
    "colab": {
     "base_uri": "https://localhost:8080/",
     "height": 260
    },
    "id": "cFwPutr7wkrj",
    "outputId": "e88e8b66-40ba-4d4c-9157-be9581a18d14"
   },
   "outputs": [
    {
     "data": {
      "text/html": [
       "<div>\n",
       "<style scoped>\n",
       "    .dataframe tbody tr th:only-of-type {\n",
       "        vertical-align: middle;\n",
       "    }\n",
       "\n",
       "    .dataframe tbody tr th {\n",
       "        vertical-align: top;\n",
       "    }\n",
       "\n",
       "    .dataframe thead th {\n",
       "        text-align: right;\n",
       "    }\n",
       "</style>\n",
       "<table border=\"1\" class=\"dataframe\">\n",
       "  <thead>\n",
       "    <tr style=\"text-align: right;\">\n",
       "      <th></th>\n",
       "      <th>x</th>\n",
       "      <th>y</th>\n",
       "    </tr>\n",
       "  </thead>\n",
       "  <tbody>\n",
       "    <tr>\n",
       "      <th>0</th>\n",
       "      <td>0.548814</td>\n",
       "      <td>4.389189</td>\n",
       "    </tr>\n",
       "    <tr>\n",
       "      <th>1</th>\n",
       "      <td>0.715189</td>\n",
       "      <td>7.401929</td>\n",
       "    </tr>\n",
       "    <tr>\n",
       "      <th>2</th>\n",
       "      <td>0.602763</td>\n",
       "      <td>7.056917</td>\n",
       "    </tr>\n",
       "    <tr>\n",
       "      <th>3</th>\n",
       "      <td>0.544883</td>\n",
       "      <td>4.230707</td>\n",
       "    </tr>\n",
       "    <tr>\n",
       "      <th>4</th>\n",
       "      <td>0.423655</td>\n",
       "      <td>2.823973</td>\n",
       "    </tr>\n",
       "  </tbody>\n",
       "</table>\n",
       "</div>"
      ],
      "text/plain": [
       "          x         y\n",
       "0  0.548814  4.389189\n",
       "1  0.715189  7.401929\n",
       "2  0.602763  7.056917\n",
       "3  0.544883  4.230707\n",
       "4  0.423655  2.823973"
      ]
     },
     "execution_count": 56,
     "metadata": {},
     "output_type": "execute_result"
    }
   ],
   "source": [
    "np.random.seed(0) # для воспроизведения результатов\n",
    "x = np.random.rand(1000, 1)\n",
    "y = 1 + 5 * x + 15 * x ** 5 + np.random.randn(1000, 1)\n",
    "\n",
    "d = {'x': x.reshape(1,1000)[0], 'y': y.reshape(1,1000)[0]}\n",
    "df = pd.DataFrame(data=d)\n",
    "df.head()"
   ]
  },
  {
   "cell_type": "code",
   "execution_count": 57,
   "metadata": {
    "colab": {
     "base_uri": "https://localhost:8080/",
     "height": 280
    },
    "id": "WC1pUS-jxRm3",
    "outputId": "dfdafbb5-145e-4132-f26c-6872584057d8"
   },
   "outputs": [
    {
     "data": {
      "image/png": "[encoded data removed]",
      "text/plain": [
       "<Figure size 640x480 with 1 Axes>"
      ]
     },
     "metadata": {},
     "output_type": "display_data"
    }
   ],
   "source": [
    "plt.scatter(df['x'], df['y'], s=10)\n",
    "plt.xlabel('x')\n",
    "plt.ylabel('y')\n",
    "plt.show()"
   ]
  },
  {
   "cell_type": "markdown",
   "metadata": {
    "id": "Mei-BNcY6B9m"
   },
   "source": [
    "### 1. Найдите заданную зависимость с помощью линейной регресии\n"
   ]
  },
  {
   "cell_type": "markdown",
   "metadata": {
    "id": "AQS2Wr0mhSR7"
   },
   "source": [
    "\n",
    "Разделите исходные данные на обучающую и тестовую выборки в соотношении 70% и 30%."
   ]
  },
  {
   "cell_type": "code",
   "execution_count": 58,
   "metadata": {
    "id": "EmE2yl9AbdYr"
   },
   "outputs": [],
   "source": [
    "# подключить библиотеку для разделения на обучающую и тестовую выборки\n",
    "\n",
    "from sklearn.model_selection import train_test_split\n"
   ]
  },
  {
   "cell_type": "code",
   "execution_count": 59,
   "metadata": {
    "id": "R7SDn8HObmmU"
   },
   "outputs": [],
   "source": [
    "# разделить исходные данные на обучающую и тестовую выборки\n",
    "\n",
    "train, test = train_test_split(df, train_size = 0.7, random_state = 42)"
   ]
  },
  {
   "cell_type": "markdown",
   "metadata": {
    "id": "xBBMLZGvbwmU"
   },
   "source": [
    "Для построения самой модели подключите необходимый функционал из `sklearn`."
   ]
  },
  {
   "cell_type": "code",
   "execution_count": 60,
   "metadata": {
    "id": "20WkohGfb3cv"
   },
   "outputs": [],
   "source": [
    "from sklearn.linear_model import LinearRegression"
   ]
  },
  {
   "cell_type": "markdown",
   "metadata": {
    "id": "2GMSQLT66iXh"
   },
   "source": [
    "Создайте экземпляр класса `LinearRegression`, который будет содержать в себе модель регрессии."
   ]
  },
  {
   "cell_type": "code",
   "execution_count": 69,
   "metadata": {
    "id": "eV_K2Sabb84P"
   },
   "outputs": [],
   "source": [
    "model = LinearRegression()"
   ]
  },
  {
   "cell_type": "markdown",
   "metadata": {
    "id": "GsaVsp348YUH"
   },
   "source": [
    "Чтобы обучить модель, необходимо вызвать метод `.fit()` на объект `model`. В качестве аргументов здесь передаются матрица **X** и целевая функция **Y**. Обучать модель будем на обучающей выборке."
   ]
  },
  {
   "cell_type": "code",
   "execution_count": 70,
   "metadata": {
    "id": "A5JtEyC8cBID"
   },
   "outputs": [
    {
     "data": {
      "text/html": [
       "<style>#sk-container-id-9 {color: black;background-color: white;}#sk-container-id-9 pre{padding: 0;}#sk-container-id-9 div.sk-toggleable {background-color: white;}#sk-container-id-9 label.sk-toggleable__label {cursor: pointer;display: block;width: 100%;margin-bottom: 0;padding: 0.3em;box-sizing: border-box;text-align: center;}#sk-container-id-9 label.sk-toggleable__label-arrow:before {content: \"▸\";float: left;margin-right: 0.25em;color: #696969;}#sk-container-id-9 label.sk-toggleable__label-arrow:hover:before {color: black;}#sk-container-id-9 div.sk-estimator:hover label.sk-toggleable__label-arrow:before {color: black;}#sk-container-id-9 div.sk-toggleable__content {max-height: 0;max-width: 0;overflow: hidden;text-align: left;background-color: #f0f8ff;}#sk-container-id-9 div.sk-toggleable__content pre {margin: 0.2em;color: black;border-radius: 0.25em;background-color: #f0f8ff;}#sk-container-id-9 input.sk-toggleable__control:checked~div.sk-toggleable__content {max-height: 200px;max-width: 100%;overflow: auto;}#sk-container-id-9 input.sk-toggleable__control:checked~label.sk-toggleable__label-arrow:before {content: \"▾\";}#sk-container-id-9 div.sk-estimator input.sk-toggleable__control:checked~label.sk-toggleable__label {background-color: #d4ebff;}#sk-container-id-9 div.sk-label input.sk-toggleable__control:checked~label.sk-toggleable__label {background-color: #d4ebff;}#sk-container-id-9 input.sk-hidden--visually {border: 0;clip: rect(1px 1px 1px 1px);clip: rect(1px, 1px, 1px, 1px);height: 1px;margin: -1px;overflow: hidden;padding: 0;position: absolute;width: 1px;}#sk-container-id-9 div.sk-estimator {font-family: monospace;background-color: #f0f8ff;border: 1px dotted black;border-radius: 0.25em;box-sizing: border-box;margin-bottom: 0.5em;}#sk-container-id-9 div.sk-estimator:hover {background-color: #d4ebff;}#sk-container-id-9 div.sk-parallel-item::after {content: \"\";width: 100%;border-bottom: 1px solid gray;flex-grow: 1;}#sk-container-id-9 div.sk-label:hover label.sk-toggleable__label {background-color: #d4ebff;}#sk-container-id-9 div.sk-serial::before {content: \"\";position: absolute;border-left: 1px solid gray;box-sizing: border-box;top: 0;bottom: 0;left: 50%;z-index: 0;}#sk-container-id-9 div.sk-serial {display: flex;flex-direction: column;align-items: center;background-color: white;padding-right: 0.2em;padding-left: 0.2em;position: relative;}#sk-container-id-9 div.sk-item {position: relative;z-index: 1;}#sk-container-id-9 div.sk-parallel {display: flex;align-items: stretch;justify-content: center;background-color: white;position: relative;}#sk-container-id-9 div.sk-item::before, #sk-container-id-9 div.sk-parallel-item::before {content: \"\";position: absolute;border-left: 1px solid gray;box-sizing: border-box;top: 0;bottom: 0;left: 50%;z-index: -1;}#sk-container-id-9 div.sk-parallel-item {display: flex;flex-direction: column;z-index: 1;position: relative;background-color: white;}#sk-container-id-9 div.sk-parallel-item:first-child::after {align-self: flex-end;width: 50%;}#sk-container-id-9 div.sk-parallel-item:last-child::after {align-self: flex-start;width: 50%;}#sk-container-id-9 div.sk-parallel-item:only-child::after {width: 0;}#sk-container-id-9 div.sk-dashed-wrapped {border: 1px dashed gray;margin: 0 0.4em 0.5em 0.4em;box-sizing: border-box;padding-bottom: 0.4em;background-color: white;}#sk-container-id-9 div.sk-label label {font-family: monospace;font-weight: bold;display: inline-block;line-height: 1.2em;}#sk-container-id-9 div.sk-label-container {text-align: center;}#sk-container-id-9 div.sk-container {/* jupyter's `normalize.less` sets `[hidden] { display: none; }` but bootstrap.min.css set `[hidden] { display: none !important; }` so we also need the `!important` here to be able to override the default hidden behavior on the sphinx rendered scikit-learn.org. See: https://github.com/scikit-learn/scikit-learn/issues/21755 */display: inline-block !important;position: relative;}#sk-container-id-9 div.sk-text-repr-fallback {display: none;}</style><div id=\"sk-container-id-9\" class=\"sk-top-container\"><div class=\"sk-text-repr-fallback\"><pre>LinearRegression()</pre><b>In a Jupyter environment, please rerun this cell to show the HTML representation or trust the notebook. <br />On GitHub, the HTML representation is unable to render, please try loading this page with nbviewer.org.</b></div><div class=\"sk-container\" hidden><div class=\"sk-item\"><div class=\"sk-estimator sk-toggleable\"><input class=\"sk-toggleable__control sk-hidden--visually\" id=\"sk-estimator-id-9\" type=\"checkbox\" checked><label for=\"sk-estimator-id-9\" class=\"sk-toggleable__label sk-toggleable__label-arrow\">LinearRegression</label><div class=\"sk-toggleable__content\"><pre>LinearRegression()</pre></div></div></div></div></div>"
      ],
      "text/plain": [
       "LinearRegression()"
      ]
     },
     "execution_count": 70,
     "metadata": {},
     "output_type": "execute_result"
    }
   ],
   "source": [
    "model.fit(train[['x']], train[['y']])"
   ]
  },
  {
   "cell_type": "markdown",
   "metadata": {
    "id": "in-cPQCT9quc"
   },
   "source": [
    "Поздравляем, модель готова!"
   ]
  },
  {
   "cell_type": "markdown",
   "metadata": {
    "id": "zvk2NPpecKaN"
   },
   "source": [
    "Проанализируйте коэффициенты полученной модели."
   ]
  },
  {
   "cell_type": "code",
   "execution_count": 72,
   "metadata": {
    "id": "dGTGn_7VcPdy"
   },
   "outputs": [
    {
     "data": {
      "text/plain": [
       "array([[15.86533985]])"
      ]
     },
     "execution_count": 72,
     "metadata": {},
     "output_type": "execute_result"
    }
   ],
   "source": [
    "coefficients = model.coef_\n",
    "coefficients"
   ]
  },
  {
   "cell_type": "code",
   "execution_count": 73,
   "metadata": {},
   "outputs": [
    {
     "name": "stdout",
     "output_type": "stream",
     "text": [
      "w_0: [-1.77415807]\n",
      "w_1: [[15.86533985]]\n"
     ]
    }
   ],
   "source": [
    "# коэффициенты модели\n",
    "print('w_0:', model.intercept_)\n",
    "print('w_1:', model.coef_)"
   ]
  },
  {
   "cell_type": "markdown",
   "metadata": {
    "id": "A4qaYjlCcTqP"
   },
   "source": [
    "Запишите полученное уравнение модели линейной регрессии."
   ]
  },
  {
   "cell_type": "markdown",
   "metadata": {
    "id": "yKcQFkBEe00u"
   },
   "source": [
    "Уравнение модели линейной регрессии будет иметь следующий вид:\n",
    "\n",
    "`y = intercept + coef * x`\n",
    "\n",
    "где:\n",
    "\n",
    "`y` - предсказанное значение целевой переменной,\n",
    "\n",
    "`intercept` - значение смещения (intercept),\n",
    "\n",
    "`coef` - значение коэффициента (coefficient),\n",
    "\n",
    "`x` - значение признака.\n",
    "\n",
    "`y = -1.77415807 + 15.86533985 * x`"
   ]
  },
  {
   "cell_type": "markdown",
   "metadata": {
    "id": "uI79wwmVBH07"
   },
   "source": [
    "Посмотрите на графике, какую модель получили. Для этого создайте переменную `y_predict_train` и заполните её предсказанными значениями по обучающей выборке."
   ]
  },
  {
   "cell_type": "code",
   "execution_count": 81,
   "metadata": {
    "id": "9AgGEWYOcxOK"
   },
   "outputs": [],
   "source": [
    "y_predict_train = model.predict(train[['x']])\n",
    "y_predict_test = model.predict(test[['x']])"
   ]
  },
  {
   "cell_type": "code",
   "execution_count": 83,
   "metadata": {
    "id": "aZH86xJP9UI-"
   },
   "outputs": [
    {
     "data": {
      "image/png": "[encoded data removed]",
      "text/plain": [
       "<Figure size 640x480 with 1 Axes>"
      ]
     },
     "metadata": {},
     "output_type": "display_data"
    }
   ],
   "source": [
    "# расскомментируйте код перед запуском\n",
    "# если меняли названия объектов, то здесь также нужно их заменить\n",
    "\n",
    "plt.plot(train['x'], y_predict_train, linewidth=4, c='g')\n",
    "plt.scatter(train['x'], train['y'], s=10, c='b')\n",
    "plt.scatter(test['x'], test['y'], s=10, c='r')\n",
    "plt.xlabel('x')\n",
    "plt.ylabel('y')\n",
    "plt.show()"
   ]
  },
  {
   "cell_type": "markdown",
   "metadata": {
    "id": "QUpYWIJUBt3p"
   },
   "source": [
    "Получите результаты предсказания модели по тестовой выборке."
   ]
  },
  {
   "cell_type": "code",
   "execution_count": null,
   "metadata": {
    "id": "iJg6-5Epc_Nc"
   },
   "outputs": [],
   "source": [
    "y_predict_test = model.predict(test[['x']])"
   ]
  },
  {
   "cell_type": "markdown",
   "metadata": {
    "id": "ophA-rR4BlkH"
   },
   "source": [
    "Оцените качество модели с помощью MSE."
   ]
  },
  {
   "cell_type": "code",
   "execution_count": 86,
   "metadata": {
    "id": "BkbXFdF8dF9k"
   },
   "outputs": [
    {
     "name": "stdout",
     "output_type": "stream",
     "text": [
      "mse_train: 2.4035940932759727\n",
      "mse_test: 2.3078508257662658\n"
     ]
    }
   ],
   "source": [
    "from sklearn.metrics import mean_squared_error\n",
    "\n",
    "# Вычисление MSE\n",
    "mse_train = mean_squared_error(train['y'], y_predict_train)\n",
    "mse_test = mean_squared_error(test['y'], y_predict_test)\n",
    "print(f\"mse_train: {mse_train}\")\n",
    "print(f\"mse_test: {mse_test}\")\n"
   ]
  },
  {
   "cell_type": "markdown",
   "metadata": {
    "id": "ZrTvAkHmPhqU"
   },
   "source": [
    "Оцените также качество модели с помощью MAE."
   ]
  },
  {
   "cell_type": "code",
   "execution_count": 87,
   "metadata": {
    "id": "hcp-irn8dJZQ"
   },
   "outputs": [
    {
     "name": "stdout",
     "output_type": "stream",
     "text": [
      "mae_train: 1.249117275460529\n",
      "mae_test: 1.2250964333659067\n"
     ]
    }
   ],
   "source": [
    "from sklearn.metrics import mean_absolute_error\n",
    "\n",
    "# Вычисление MAE\n",
    "mae_train = mean_absolute_error(train['y'], y_predict_train)\n",
    "mae_test = mean_absolute_error(test['y'], y_predict_test)\n",
    "print(f\"mae_train: {mae_train}\")\n",
    "print(f\"mae_test: {mae_test}\")"
   ]
  },
  {
   "cell_type": "markdown",
   "metadata": {
    "id": "N9CJ8JtvfQso"
   },
   "source": [
    "### 2. Дополните данные переменной `x2 = x**2` и постройте модель с использованием двух переменных"
   ]
  },
  {
   "cell_type": "code",
   "execution_count": 101,
   "metadata": {
    "id": "y1r5gfxhfeJQ"
   },
   "outputs": [
    {
     "data": {
      "text/html": [
       "<div>\n",
       "<style scoped>\n",
       "    .dataframe tbody tr th:only-of-type {\n",
       "        vertical-align: middle;\n",
       "    }\n",
       "\n",
       "    .dataframe tbody tr th {\n",
       "        vertical-align: top;\n",
       "    }\n",
       "\n",
       "    .dataframe thead th {\n",
       "        text-align: right;\n",
       "    }\n",
       "</style>\n",
       "<table border=\"1\" class=\"dataframe\">\n",
       "  <thead>\n",
       "    <tr style=\"text-align: right;\">\n",
       "      <th></th>\n",
       "      <th>x</th>\n",
       "      <th>y</th>\n",
       "      <th>x2</th>\n",
       "      <th>x3</th>\n",
       "    </tr>\n",
       "  </thead>\n",
       "  <tbody>\n",
       "    <tr>\n",
       "      <th>0</th>\n",
       "      <td>0.548814</td>\n",
       "      <td>8.160314</td>\n",
       "      <td>0.301196</td>\n",
       "      <td>0.301196</td>\n",
       "    </tr>\n",
       "    <tr>\n",
       "      <th>1</th>\n",
       "      <td>0.715189</td>\n",
       "      <td>12.267664</td>\n",
       "      <td>0.511496</td>\n",
       "      <td>0.511496</td>\n",
       "    </tr>\n",
       "    <tr>\n",
       "      <th>2</th>\n",
       "      <td>0.602763</td>\n",
       "      <td>11.313263</td>\n",
       "      <td>0.363324</td>\n",
       "      <td>0.363324</td>\n",
       "    </tr>\n",
       "    <tr>\n",
       "      <th>3</th>\n",
       "      <td>0.544883</td>\n",
       "      <td>7.963715</td>\n",
       "      <td>0.296898</td>\n",
       "      <td>0.296898</td>\n",
       "    </tr>\n",
       "    <tr>\n",
       "      <th>4</th>\n",
       "      <td>0.423655</td>\n",
       "      <td>5.311508</td>\n",
       "      <td>0.179483</td>\n",
       "      <td>0.179483</td>\n",
       "    </tr>\n",
       "    <tr>\n",
       "      <th>...</th>\n",
       "      <td>...</td>\n",
       "      <td>...</td>\n",
       "      <td>...</td>\n",
       "      <td>...</td>\n",
       "    </tr>\n",
       "    <tr>\n",
       "      <th>995</th>\n",
       "      <td>0.097676</td>\n",
       "      <td>1.621835</td>\n",
       "      <td>0.009541</td>\n",
       "      <td>0.009541</td>\n",
       "    </tr>\n",
       "    <tr>\n",
       "      <th>996</th>\n",
       "      <td>0.514922</td>\n",
       "      <td>5.754620</td>\n",
       "      <td>0.265145</td>\n",
       "      <td>0.265145</td>\n",
       "    </tr>\n",
       "    <tr>\n",
       "      <th>997</th>\n",
       "      <td>0.938412</td>\n",
       "      <td>18.099064</td>\n",
       "      <td>0.880617</td>\n",
       "      <td>0.880617</td>\n",
       "    </tr>\n",
       "    <tr>\n",
       "      <th>998</th>\n",
       "      <td>0.228647</td>\n",
       "      <td>3.120635</td>\n",
       "      <td>0.052279</td>\n",
       "      <td>0.052279</td>\n",
       "    </tr>\n",
       "    <tr>\n",
       "      <th>999</th>\n",
       "      <td>0.677141</td>\n",
       "      <td>12.560850</td>\n",
       "      <td>0.458520</td>\n",
       "      <td>0.458520</td>\n",
       "    </tr>\n",
       "  </tbody>\n",
       "</table>\n",
       "<p>1000 rows × 4 columns</p>\n",
       "</div>"
      ],
      "text/plain": [
       "            x          y        x2        x3\n",
       "0    0.548814   8.160314  0.301196  0.301196\n",
       "1    0.715189  12.267664  0.511496  0.511496\n",
       "2    0.602763  11.313263  0.363324  0.363324\n",
       "3    0.544883   7.963715  0.296898  0.296898\n",
       "4    0.423655   5.311508  0.179483  0.179483\n",
       "..        ...        ...       ...       ...\n",
       "995  0.097676   1.621835  0.009541  0.009541\n",
       "996  0.514922   5.754620  0.265145  0.265145\n",
       "997  0.938412  18.099064  0.880617  0.880617\n",
       "998  0.228647   3.120635  0.052279  0.052279\n",
       "999  0.677141  12.560850  0.458520  0.458520\n",
       "\n",
       "[1000 rows x 4 columns]"
      ]
     },
     "execution_count": 101,
     "metadata": {},
     "output_type": "execute_result"
    }
   ],
   "source": [
    "df['x2'] = df['x'] ** 2\n",
    "df"
   ]
  },
  {
   "cell_type": "code",
   "execution_count": 100,
   "metadata": {
    "id": "9P6m3n6CDaS8"
   },
   "outputs": [],
   "source": [
    "df['x3'] = df['x'].apply(lambda x: x ** 2)"
   ]
  },
  {
   "cell_type": "code",
   "execution_count": 96,
   "metadata": {
    "id": "xHWJiozgDaV2"
   },
   "outputs": [],
   "source": [
    "train, test = train_test_split(df, train_size=0.7, random_state=123) # random_state нужен для воспроизводимости результата"
   ]
  },
  {
   "cell_type": "code",
   "execution_count": 97,
   "metadata": {},
   "outputs": [
    {
     "data": {
      "text/html": [
       "<style>#sk-container-id-12 {color: black;background-color: white;}#sk-container-id-12 pre{padding: 0;}#sk-container-id-12 div.sk-toggleable {background-color: white;}#sk-container-id-12 label.sk-toggleable__label {cursor: pointer;display: block;width: 100%;margin-bottom: 0;padding: 0.3em;box-sizing: border-box;text-align: center;}#sk-container-id-12 label.sk-toggleable__label-arrow:before {content: \"▸\";float: left;margin-right: 0.25em;color: #696969;}#sk-container-id-12 label.sk-toggleable__label-arrow:hover:before {color: black;}#sk-container-id-12 div.sk-estimator:hover label.sk-toggleable__label-arrow:before {color: black;}#sk-container-id-12 div.sk-toggleable__content {max-height: 0;max-width: 0;overflow: hidden;text-align: left;background-color: #f0f8ff;}#sk-container-id-12 div.sk-toggleable__content pre {margin: 0.2em;color: black;border-radius: 0.25em;background-color: #f0f8ff;}#sk-container-id-12 input.sk-toggleable__control:checked~div.sk-toggleable__content {max-height: 200px;max-width: 100%;overflow: auto;}#sk-container-id-12 input.sk-toggleable__control:checked~label.sk-toggleable__label-arrow:before {content: \"▾\";}#sk-container-id-12 div.sk-estimator input.sk-toggleable__control:checked~label.sk-toggleable__label {background-color: #d4ebff;}#sk-container-id-12 div.sk-label input.sk-toggleable__control:checked~label.sk-toggleable__label {background-color: #d4ebff;}#sk-container-id-12 input.sk-hidden--visually {border: 0;clip: rect(1px 1px 1px 1px);clip: rect(1px, 1px, 1px, 1px);height: 1px;margin: -1px;overflow: hidden;padding: 0;position: absolute;width: 1px;}#sk-container-id-12 div.sk-estimator {font-family: monospace;background-color: #f0f8ff;border: 1px dotted black;border-radius: 0.25em;box-sizing: border-box;margin-bottom: 0.5em;}#sk-container-id-12 div.sk-estimator:hover {background-color: #d4ebff;}#sk-container-id-12 div.sk-parallel-item::after {content: \"\";width: 100%;border-bottom: 1px solid gray;flex-grow: 1;}#sk-container-id-12 div.sk-label:hover label.sk-toggleable__label {background-color: #d4ebff;}#sk-container-id-12 div.sk-serial::before {content: \"\";position: absolute;border-left: 1px solid gray;box-sizing: border-box;top: 0;bottom: 0;left: 50%;z-index: 0;}#sk-container-id-12 div.sk-serial {display: flex;flex-direction: column;align-items: center;background-color: white;padding-right: 0.2em;padding-left: 0.2em;position: relative;}#sk-container-id-12 div.sk-item {position: relative;z-index: 1;}#sk-container-id-12 div.sk-parallel {display: flex;align-items: stretch;justify-content: center;background-color: white;position: relative;}#sk-container-id-12 div.sk-item::before, #sk-container-id-12 div.sk-parallel-item::before {content: \"\";position: absolute;border-left: 1px solid gray;box-sizing: border-box;top: 0;bottom: 0;left: 50%;z-index: -1;}#sk-container-id-12 div.sk-parallel-item {display: flex;flex-direction: column;z-index: 1;position: relative;background-color: white;}#sk-container-id-12 div.sk-parallel-item:first-child::after {align-self: flex-end;width: 50%;}#sk-container-id-12 div.sk-parallel-item:last-child::after {align-self: flex-start;width: 50%;}#sk-container-id-12 div.sk-parallel-item:only-child::after {width: 0;}#sk-container-id-12 div.sk-dashed-wrapped {border: 1px dashed gray;margin: 0 0.4em 0.5em 0.4em;box-sizing: border-box;padding-bottom: 0.4em;background-color: white;}#sk-container-id-12 div.sk-label label {font-family: monospace;font-weight: bold;display: inline-block;line-height: 1.2em;}#sk-container-id-12 div.sk-label-container {text-align: center;}#sk-container-id-12 div.sk-container {/* jupyter's `normalize.less` sets `[hidden] { display: none; }` but bootstrap.min.css set `[hidden] { display: none !important; }` so we also need the `!important` here to be able to override the default hidden behavior on the sphinx rendered scikit-learn.org. See: https://github.com/scikit-learn/scikit-learn/issues/21755 */display: inline-block !important;position: relative;}#sk-container-id-12 div.sk-text-repr-fallback {display: none;}</style><div id=\"sk-container-id-12\" class=\"sk-top-container\"><div class=\"sk-text-repr-fallback\"><pre>LinearRegression()</pre><b>In a Jupyter environment, please rerun this cell to show the HTML representation or trust the notebook. <br />On GitHub, the HTML representation is unable to render, please try loading this page with nbviewer.org.</b></div><div class=\"sk-container\" hidden><div class=\"sk-item\"><div class=\"sk-estimator sk-toggleable\"><input class=\"sk-toggleable__control sk-hidden--visually\" id=\"sk-estimator-id-12\" type=\"checkbox\" checked><label for=\"sk-estimator-id-12\" class=\"sk-toggleable__label sk-toggleable__label-arrow\">LinearRegression</label><div class=\"sk-toggleable__content\"><pre>LinearRegression()</pre></div></div></div></div></div>"
      ],
      "text/plain": [
       "LinearRegression()"
      ]
     },
     "execution_count": 97,
     "metadata": {},
     "output_type": "execute_result"
    }
   ],
   "source": [
    "model.fit(train[['x', 'x2']], train[['y']])"
   ]
  },
  {
   "cell_type": "code",
   "execution_count": 103,
   "metadata": {
    "id": "RIV94DT9DQEZ"
   },
   "outputs": [],
   "source": [
    "y_predict_train = model.predict(train[['x', 'x2']])\n",
    "y_predict_test = model.predict(test[['x', 'x2']])"
   ]
  },
  {
   "cell_type": "markdown",
   "metadata": {
    "id": "PLO9SIuyfifA"
   },
   "source": [
    "Посмотрите на графике, какую модель мы получили."
   ]
  },
  {
   "cell_type": "code",
   "execution_count": 108,
   "metadata": {
    "id": "HtVPXJ3tfgwS"
   },
   "outputs": [
    {
     "data": {
      "image/png": "[encoded data removed]",
      "text/plain": [
       "<Figure size 640x480 with 1 Axes>"
      ]
     },
     "metadata": {},
     "output_type": "display_data"
    }
   ],
   "source": [
    "# расскомментируйте код перед запуском\n",
    "# если меняли названия объектов, то здесь также нужно их заменить\n",
    "plt.scatter(train['x'], train['y'], s=10, c='b')\n",
    "plt.scatter(test['x'], test['y'], s=10, c='r')\n",
    "plt.scatter(train['x'], y_predict_train, s=10, c='g')\n",
    "plt.xlabel('x')\n",
    "plt.ylabel('y')\n",
    "plt.show()"
   ]
  },
  {
   "cell_type": "markdown",
   "metadata": {
    "id": "fTwVMjqKfrW5"
   },
   "source": [
    "Оцените качество модели с помощью MSE."
   ]
  },
  {
   "cell_type": "code",
   "execution_count": 109,
   "metadata": {
    "id": "mUKDNXBzfudD"
   },
   "outputs": [
    {
     "name": "stdout",
     "output_type": "stream",
     "text": [
      "mse_train: 0.9553345559754467\n",
      "mse_test: 0.8643319642042341\n"
     ]
    }
   ],
   "source": [
    "# Вычисление MSE\n",
    "mse_train = mean_squared_error(train['y'], y_predict_train)\n",
    "mse_test = mean_squared_error(test['y'], y_predict_test)\n",
    "print(f\"mse_train: {mse_train}\")\n",
    "print(f\"mse_test: {mse_test}\")\n"
   ]
  },
  {
   "cell_type": "markdown",
   "metadata": {
    "id": "N1X1zHJhftL0"
   },
   "source": [
    "Оцените также качество модели с помощью MAE."
   ]
  },
  {
   "cell_type": "code",
   "execution_count": 110,
   "metadata": {
    "id": "7I3RftYbfvUR"
   },
   "outputs": [
    {
     "name": "stdout",
     "output_type": "stream",
     "text": [
      "mae_train: 0.7813137786760748\n",
      "mae_test: 0.7273715175787046\n"
     ]
    }
   ],
   "source": [
    "# Вычисление MAE\n",
    "mae_train = mean_absolute_error(train['y'], y_predict_train)\n",
    "mae_test = mean_absolute_error(test['y'], y_predict_test)\n",
    "print(f\"mae_train: {mae_train}\")\n",
    "print(f\"mae_test: {mae_test}\")"
   ]
  },
  {
   "cell_type": "markdown",
   "metadata": {
    "id": "VM_r2gSUfwxF"
   },
   "source": [
    "### 3. Сделайте выводы по результатам построения моделей"
   ]
  },
  {
   "cell_type": "markdown",
   "metadata": {
    "id": "oQG0zdKcdY5d"
   },
   "source": [
    "|"
   ]
  },
  {
   "cell_type": "markdown",
   "metadata": {
    "id": "1br1330NdY8E"
   },
   "source": [
    "|"
   ]
  },
  {
   "cell_type": "markdown",
   "metadata": {
    "id": "rWCn041MgzPn"
   },
   "source": [
    "|"
   ]
  },
  {
   "cell_type": "markdown",
   "metadata": {
    "id": "0b698CrRgzdy"
   },
   "source": [
    "|"
   ]
  },
  {
   "cell_type": "markdown",
   "metadata": {
    "id": "we5e8U5igzqd"
   },
   "source": [
    "|"
   ]
  },
  {
   "cell_type": "markdown",
   "metadata": {
    "id": "ZmkoTalKgz3U"
   },
   "source": [
    "|"
   ]
  },
  {
   "cell_type": "markdown",
   "metadata": {
    "id": "xO6s2j8Eg0C6"
   },
   "source": [
    "|"
   ]
  },
  {
   "cell_type": "markdown",
   "metadata": {
    "id": "qXZWOhhgg0QG"
   },
   "source": [
    "|"
   ]
  },
  {
   "cell_type": "markdown",
   "metadata": {
    "id": "U4sONAcBg0eJ"
   },
   "source": [
    "|"
   ]
  },
  {
   "cell_type": "markdown",
   "metadata": {
    "id": "6grDcejGg0qZ"
   },
   "source": [
    "|"
   ]
  },
  {
   "cell_type": "markdown",
   "metadata": {
    "id": "kaMLuwEdg06H"
   },
   "source": [
    "|"
   ]
  },
  {
   "cell_type": "markdown",
   "metadata": {
    "id": "H06Ys9Jlg1Gn"
   },
   "source": [
    "|"
   ]
  },
  {
   "cell_type": "markdown",
   "metadata": {
    "id": "eJ3KAIPjg1Sa"
   },
   "source": [
    "|"
   ]
  },
  {
   "cell_type": "markdown",
   "metadata": {
    "id": "27LL1wu7g1i5"
   },
   "source": [
    "|"
   ]
  },
  {
   "cell_type": "markdown",
   "metadata": {
    "id": "Im0LPzl7g1w9"
   },
   "source": [
    "|"
   ]
  },
  {
   "cell_type": "markdown",
   "metadata": {
    "id": "e95SnbkEg1_y"
   },
   "source": [
    "|"
   ]
  },
  {
   "cell_type": "markdown",
   "metadata": {
    "id": "R38qnBqmg2Mc"
   },
   "source": [
    "|"
   ]
  },
  {
   "cell_type": "markdown",
   "metadata": {
    "id": "Rcwpr1xMg2Z6"
   },
   "source": [
    "|"
   ]
  },
  {
   "cell_type": "markdown",
   "metadata": {
    "id": "iQgJ6grYdY-E"
   },
   "source": [
    "|"
   ]
  },
  {
   "cell_type": "markdown",
   "metadata": {
    "id": "yxd3nBZkxa0J"
   },
   "source": [
    "## Ответы для самостоятельной проверки"
   ]
  },
  {
   "cell_type": "code",
   "execution_count": 64,
   "metadata": {
    "id": "db2uIzZbdppo"
   },
   "outputs": [],
   "source": [
    "%matplotlib inline\n",
    "import matplotlib.pyplot as plt\n",
    "import numpy as np\n",
    "import pandas as pd"
   ]
  },
  {
   "cell_type": "code",
   "execution_count": 75,
   "metadata": {
    "colab": {
     "base_uri": "https://localhost:8080/",
     "height": 260
    },
    "id": "OC8s3ZgBxdHR",
    "outputId": "63af1a2a-8217-4bd1-f078-cae6af306a68"
   },
   "outputs": [
    {
     "data": {
      "text/html": [
       "<div>\n",
       "<style scoped>\n",
       "    .dataframe tbody tr th:only-of-type {\n",
       "        vertical-align: middle;\n",
       "    }\n",
       "\n",
       "    .dataframe tbody tr th {\n",
       "        vertical-align: top;\n",
       "    }\n",
       "\n",
       "    .dataframe thead th {\n",
       "        text-align: right;\n",
       "    }\n",
       "</style>\n",
       "<table border=\"1\" class=\"dataframe\">\n",
       "  <thead>\n",
       "    <tr style=\"text-align: right;\">\n",
       "      <th></th>\n",
       "      <th>x</th>\n",
       "      <th>y</th>\n",
       "    </tr>\n",
       "  </thead>\n",
       "  <tbody>\n",
       "    <tr>\n",
       "      <th>0</th>\n",
       "      <td>0.548814</td>\n",
       "      <td>8.160314</td>\n",
       "    </tr>\n",
       "    <tr>\n",
       "      <th>1</th>\n",
       "      <td>0.715189</td>\n",
       "      <td>12.267664</td>\n",
       "    </tr>\n",
       "    <tr>\n",
       "      <th>2</th>\n",
       "      <td>0.602763</td>\n",
       "      <td>11.313263</td>\n",
       "    </tr>\n",
       "    <tr>\n",
       "      <th>3</th>\n",
       "      <td>0.544883</td>\n",
       "      <td>7.963715</td>\n",
       "    </tr>\n",
       "    <tr>\n",
       "      <th>4</th>\n",
       "      <td>0.423655</td>\n",
       "      <td>5.311508</td>\n",
       "    </tr>\n",
       "  </tbody>\n",
       "</table>\n",
       "</div>"
      ],
      "text/plain": [
       "          x          y\n",
       "0  0.548814   8.160314\n",
       "1  0.715189  12.267664\n",
       "2  0.602763  11.313263\n",
       "3  0.544883   7.963715\n",
       "4  0.423655   5.311508"
      ]
     },
     "execution_count": 75,
     "metadata": {},
     "output_type": "execute_result"
    }
   ],
   "source": [
    "np.random.seed(0) # для воспроизведения результатов\n",
    "x = np.random.rand(1000, 1)\n",
    "y = 1 + 5 * x + 15 * x ** 2 + np.random.randn(1000, 1)\n",
    "\n",
    "d = {'x': x.reshape(1,1000)[0], 'y': y.reshape(1,1000)[0]}\n",
    "df = pd.DataFrame(data=d)\n",
    "df.head()"
   ]
  },
  {
   "cell_type": "code",
   "execution_count": 66,
   "metadata": {
    "colab": {
     "base_uri": "https://localhost:8080/",
     "height": 280
    },
    "id": "hVu_iw0UC_Mn",
    "outputId": "e9ac26c4-0fc7-45fa-ac8d-9ebd3a8da0b0"
   },
   "outputs": [
    {
     "data": {
      "image/png": "[encoded data removed]",
      "text/plain": [
       "<Figure size 640x480 with 1 Axes>"
      ]
     },
     "metadata": {},
     "output_type": "display_data"
    }
   ],
   "source": [
    "plt.scatter(df['x'], df['y'], s=10)\n",
    "plt.xlabel('x')\n",
    "plt.ylabel('y')\n",
    "plt.show()"
   ]
  },
  {
   "cell_type": "markdown",
   "metadata": {
    "id": "FShxu3r2L_Zu"
   },
   "source": [
    "Построим модель линейной регресии, предварительно разделив выборку на `train` и `test`."
   ]
  },
  {
   "cell_type": "code",
   "execution_count": 76,
   "metadata": {
    "id": "RPcLkzk7C_Qg"
   },
   "outputs": [],
   "source": [
    "from sklearn.model_selection import train_test_split\n",
    "\n",
    "train, test = train_test_split(df, train_size=0.7, random_state=123) # random_state нужен для воспроизводимости результата"
   ]
  },
  {
   "cell_type": "code",
   "execution_count": 77,
   "metadata": {
    "id": "myCY8xZyeEcQ"
   },
   "outputs": [],
   "source": [
    "from sklearn.linear_model import LinearRegression"
   ]
  },
  {
   "cell_type": "code",
   "execution_count": 78,
   "metadata": {
    "colab": {
     "base_uri": "https://localhost:8080/"
    },
    "id": "CHfsNg9lDGcl",
    "outputId": "7be01f74-7726-443f-d237-e711e0196895"
   },
   "outputs": [
    {
     "data": {
      "text/html": [
       "<style>#sk-container-id-10 {color: black;background-color: white;}#sk-container-id-10 pre{padding: 0;}#sk-container-id-10 div.sk-toggleable {background-color: white;}#sk-container-id-10 label.sk-toggleable__label {cursor: pointer;display: block;width: 100%;margin-bottom: 0;padding: 0.3em;box-sizing: border-box;text-align: center;}#sk-container-id-10 label.sk-toggleable__label-arrow:before {content: \"▸\";float: left;margin-right: 0.25em;color: #696969;}#sk-container-id-10 label.sk-toggleable__label-arrow:hover:before {color: black;}#sk-container-id-10 div.sk-estimator:hover label.sk-toggleable__label-arrow:before {color: black;}#sk-container-id-10 div.sk-toggleable__content {max-height: 0;max-width: 0;overflow: hidden;text-align: left;background-color: #f0f8ff;}#sk-container-id-10 div.sk-toggleable__content pre {margin: 0.2em;color: black;border-radius: 0.25em;background-color: #f0f8ff;}#sk-container-id-10 input.sk-toggleable__control:checked~div.sk-toggleable__content {max-height: 200px;max-width: 100%;overflow: auto;}#sk-container-id-10 input.sk-toggleable__control:checked~label.sk-toggleable__label-arrow:before {content: \"▾\";}#sk-container-id-10 div.sk-estimator input.sk-toggleable__control:checked~label.sk-toggleable__label {background-color: #d4ebff;}#sk-container-id-10 div.sk-label input.sk-toggleable__control:checked~label.sk-toggleable__label {background-color: #d4ebff;}#sk-container-id-10 input.sk-hidden--visually {border: 0;clip: rect(1px 1px 1px 1px);clip: rect(1px, 1px, 1px, 1px);height: 1px;margin: -1px;overflow: hidden;padding: 0;position: absolute;width: 1px;}#sk-container-id-10 div.sk-estimator {font-family: monospace;background-color: #f0f8ff;border: 1px dotted black;border-radius: 0.25em;box-sizing: border-box;margin-bottom: 0.5em;}#sk-container-id-10 div.sk-estimator:hover {background-color: #d4ebff;}#sk-container-id-10 div.sk-parallel-item::after {content: \"\";width: 100%;border-bottom: 1px solid gray;flex-grow: 1;}#sk-container-id-10 div.sk-label:hover label.sk-toggleable__label {background-color: #d4ebff;}#sk-container-id-10 div.sk-serial::before {content: \"\";position: absolute;border-left: 1px solid gray;box-sizing: border-box;top: 0;bottom: 0;left: 50%;z-index: 0;}#sk-container-id-10 div.sk-serial {display: flex;flex-direction: column;align-items: center;background-color: white;padding-right: 0.2em;padding-left: 0.2em;position: relative;}#sk-container-id-10 div.sk-item {position: relative;z-index: 1;}#sk-container-id-10 div.sk-parallel {display: flex;align-items: stretch;justify-content: center;background-color: white;position: relative;}#sk-container-id-10 div.sk-item::before, #sk-container-id-10 div.sk-parallel-item::before {content: \"\";position: absolute;border-left: 1px solid gray;box-sizing: border-box;top: 0;bottom: 0;left: 50%;z-index: -1;}#sk-container-id-10 div.sk-parallel-item {display: flex;flex-direction: column;z-index: 1;position: relative;background-color: white;}#sk-container-id-10 div.sk-parallel-item:first-child::after {align-self: flex-end;width: 50%;}#sk-container-id-10 div.sk-parallel-item:last-child::after {align-self: flex-start;width: 50%;}#sk-container-id-10 div.sk-parallel-item:only-child::after {width: 0;}#sk-container-id-10 div.sk-dashed-wrapped {border: 1px dashed gray;margin: 0 0.4em 0.5em 0.4em;box-sizing: border-box;padding-bottom: 0.4em;background-color: white;}#sk-container-id-10 div.sk-label label {font-family: monospace;font-weight: bold;display: inline-block;line-height: 1.2em;}#sk-container-id-10 div.sk-label-container {text-align: center;}#sk-container-id-10 div.sk-container {/* jupyter's `normalize.less` sets `[hidden] { display: none; }` but bootstrap.min.css set `[hidden] { display: none !important; }` so we also need the `!important` here to be able to override the default hidden behavior on the sphinx rendered scikit-learn.org. See: https://github.com/scikit-learn/scikit-learn/issues/21755 */display: inline-block !important;position: relative;}#sk-container-id-10 div.sk-text-repr-fallback {display: none;}</style><div id=\"sk-container-id-10\" class=\"sk-top-container\"><div class=\"sk-text-repr-fallback\"><pre>LinearRegression()</pre><b>In a Jupyter environment, please rerun this cell to show the HTML representation or trust the notebook. <br />On GitHub, the HTML representation is unable to render, please try loading this page with nbviewer.org.</b></div><div class=\"sk-container\" hidden><div class=\"sk-item\"><div class=\"sk-estimator sk-toggleable\"><input class=\"sk-toggleable__control sk-hidden--visually\" id=\"sk-estimator-id-10\" type=\"checkbox\" checked><label for=\"sk-estimator-id-10\" class=\"sk-toggleable__label sk-toggleable__label-arrow\">LinearRegression</label><div class=\"sk-toggleable__content\"><pre>LinearRegression()</pre></div></div></div></div></div>"
      ],
      "text/plain": [
       "LinearRegression()"
      ]
     },
     "execution_count": 78,
     "metadata": {},
     "output_type": "execute_result"
    }
   ],
   "source": [
    "model = LinearRegression()\n",
    "model.fit(train[['x']], train[['y']])"
   ]
  },
  {
   "cell_type": "code",
   "execution_count": 79,
   "metadata": {
    "colab": {
     "base_uri": "https://localhost:8080/"
    },
    "id": "FG5Xe97WeX7d",
    "outputId": "4b49a9d6-e03e-416d-de6a-5dba62b225f0"
   },
   "outputs": [
    {
     "name": "stdout",
     "output_type": "stream",
     "text": [
      "w_0: [-1.40630312]\n",
      "w_1: [[19.9722818]]\n"
     ]
    }
   ],
   "source": [
    "# коэффициенты модели\n",
    "print('w_0:', model.intercept_)\n",
    "print('w_1:', model.coef_)"
   ]
  },
  {
   "cell_type": "markdown",
   "metadata": {
    "id": "gMeUWn6te-SD"
   },
   "source": [
    "Полученная модель имеет вид `y = -1.4 + 19.9 * x1`\n",
    "\n",
    "Напомним, что исходная модель — `y = 1 + 5 * x + 15 * x ** 2`"
   ]
  },
  {
   "cell_type": "code",
   "execution_count": null,
   "metadata": {
    "id": "T4hniBJODStw"
   },
   "outputs": [],
   "source": [
    "y_predict_train = model.predict(train[['x']])\n",
    "y_predict_test = model.predict(test[['x']])"
   ]
  },
  {
   "cell_type": "code",
   "execution_count": null,
   "metadata": {
    "colab": {
     "base_uri": "https://localhost:8080/",
     "height": 280
    },
    "id": "3AmQGbvkDGe3",
    "outputId": "8003e1e3-e397-423d-f9d4-e749bc919750"
   },
   "outputs": [
    {
     "data": {
      "image/png": "[encoded data removed]",
      "text/plain": [
       "<Figure size 432x288 with 1 Axes>"
      ]
     },
     "metadata": {
      "needs_background": "light"
     },
     "output_type": "display_data"
    }
   ],
   "source": [
    "plt.scatter(train['x'], train['y'], s=10, c='b')\n",
    "plt.scatter(test['x'], test['y'], s=10, c='r')\n",
    "plt.scatter(train['x'], y_predict_train, s=10, c='g')\n",
    "plt.xlabel('x')\n",
    "plt.ylabel('y')\n",
    "plt.show()"
   ]
  },
  {
   "cell_type": "markdown",
   "metadata": {
    "id": "pQ0iAFvuMSQb"
   },
   "source": [
    "Посмотрим на качество модели."
   ]
  },
  {
   "cell_type": "code",
   "execution_count": null,
   "metadata": {
    "colab": {
     "base_uri": "https://localhost:8080/"
    },
    "id": "N7BqsIdADP_i",
    "outputId": "dd9e5189-3329-4570-c66e-a82d495ed84c"
   },
   "outputs": [
    {
     "name": "stdout",
     "output_type": "stream",
     "text": [
      "Train MSE: 2.4035940932759727\n",
      "Test MSE: 2.3078508257662658\n"
     ]
    }
   ],
   "source": [
    "from sklearn.metrics import mean_squared_error\n",
    "\n",
    "train_mse = mean_squared_error(train[['y']], y_predict_train)\n",
    "test_mse = mean_squared_error(test[['y']], y_predict_test)\n",
    "print(\"Train MSE: {}\".format(train_mse))\n",
    "print(\"Test MSE: {}\".format(test_mse))"
   ]
  },
  {
   "cell_type": "code",
   "execution_count": null,
   "metadata": {
    "colab": {
     "base_uri": "https://localhost:8080/"
    },
    "id": "8qnJn--uPnZ4",
    "outputId": "92b450c7-1234-40af-9bc5-618b022dd291"
   },
   "outputs": [
    {
     "name": "stdout",
     "output_type": "stream",
     "text": [
      "Train MAE: 1.249117275460529\n",
      "Test MAE: 1.2250964333659067\n"
     ]
    }
   ],
   "source": [
    "from sklearn.metrics import mean_absolute_error\n",
    "\n",
    "train_mae = mean_absolute_error(train[['y']], y_predict_train)\n",
    "test_mae = mean_absolute_error(test[['y']], y_predict_test)\n",
    "print(\"Train MAE: {}\".format(train_mae))\n",
    "print(\"Test MAE: {}\".format(test_mae))"
   ]
  },
  {
   "cell_type": "markdown",
   "metadata": {
    "id": "mn4iwSH7NAH9"
   },
   "source": [
    "Как вы уже знаете, задача машинного обучения — найти наиболее оптимальную модель. Попробуем улучшить нашу модель, добавив переменную квадрата переменной `x`."
   ]
  },
  {
   "cell_type": "code",
   "execution_count": 95,
   "metadata": {
    "id": "9P6m3n6CDaS8"
   },
   "outputs": [],
   "source": [
    "df['x2'] = df['x'].apply(lambda x: x ** 2)"
   ]
  },
  {
   "cell_type": "code",
   "execution_count": null,
   "metadata": {
    "id": "xHWJiozgDaV2"
   },
   "outputs": [],
   "source": [
    "train, test = train_test_split(df, train_size=0.7, random_state=123) # random_state нужен для воспроизводимости результата"
   ]
  },
  {
   "cell_type": "markdown",
   "metadata": {
    "id": "oBYVwkPkNkkw"
   },
   "source": [
    "Обратите внимание, что здесь и далее будем использовать уже две переменных: `x` и `x2`."
   ]
  },
  {
   "cell_type": "code",
   "execution_count": null,
   "metadata": {
    "colab": {
     "base_uri": "https://localhost:8080/"
    },
    "id": "CKzFk1qUDaYd",
    "outputId": "10bdd318-5b52-458c-b0b0-52d7c166a397"
   },
   "outputs": [
    {
     "data": {
      "text/plain": [
       "LinearRegression()"
      ]
     },
     "execution_count": 28,
     "metadata": {},
     "output_type": "execute_result"
    }
   ],
   "source": [
    "model = LinearRegression()\n",
    "model.fit(train[['x', 'x2']], train[['y']])"
   ]
  },
  {
   "cell_type": "code",
   "execution_count": 102,
   "metadata": {
    "colab": {
     "base_uri": "https://localhost:8080/"
    },
    "id": "0beD5VCzgL6X",
    "outputId": "1bff5290-7fdd-4d31-aea9-748132f6bdd0"
   },
   "outputs": [
    {
     "name": "stdout",
     "output_type": "stream",
     "text": [
      "w_0: [1.23205489]\n",
      "w_1, w_2: [[ 3.93880839 15.90084072]]\n"
     ]
    }
   ],
   "source": [
    "# коэффициенты модели\n",
    "print('w_0:', model.intercept_)\n",
    "print('w_1, w_2:', model.coef_)"
   ]
  },
  {
   "cell_type": "markdown",
   "metadata": {
    "id": "ZmVtt42qgQ_g"
   },
   "source": [
    "Полученная модель имеет вид `y = 1.2 + 3.9 * x + 15.9 * x**2`\n",
    "\n",
    "Напомним, что исходная модель — `y = 1 + 5 * x + 15 * x**2`"
   ]
  },
  {
   "cell_type": "code",
   "execution_count": 105,
   "metadata": {
    "id": "RIV94DT9DQEZ"
   },
   "outputs": [],
   "source": [
    "y_predict_train = model.predict(train[['x', 'x2']])\n",
    "y_predict_test = model.predict(test[['x', 'x2']])"
   ]
  },
  {
   "cell_type": "code",
   "execution_count": 106,
   "metadata": {
    "colab": {
     "base_uri": "https://localhost:8080/",
     "height": 280
    },
    "id": "5cI6SruNDvyS",
    "outputId": "843d235a-f184-4536-ebe2-93c31e0a35fd"
   },
   "outputs": [
    {
     "data": {
      "image/png": "[encoded data removed]",
      "text/plain": [
       "<Figure size 640x480 with 1 Axes>"
      ]
     },
     "metadata": {},
     "output_type": "display_data"
    }
   ],
   "source": [
    "plt.scatter(train['x'], train['y'], s=10, c='b')\n",
    "plt.scatter(test['x'], test['y'], s=10, c='r')\n",
    "plt.scatter(train['x'], y_predict_train, s=10, c='g')\n",
    "plt.xlabel('x')\n",
    "plt.ylabel('y')\n",
    "plt.show()"
   ]
  },
  {
   "cell_type": "markdown",
   "metadata": {
    "id": "jjuXJ5AdN1PD"
   },
   "source": [
    "Видим, что график уже выглядит лучше. Оценим качество."
   ]
  },
  {
   "cell_type": "code",
   "execution_count": null,
   "metadata": {
    "colab": {
     "base_uri": "https://localhost:8080/"
    },
    "id": "IZkwft1RDv0n",
    "outputId": "86e4981f-9f1f-4c25-8858-8b74181c49e4"
   },
   "outputs": [
    {
     "name": "stdout",
     "output_type": "stream",
     "text": [
      "Train MSE: 0.9553345559754468\n",
      "Test MSE: 0.8643319642042345\n"
     ]
    }
   ],
   "source": [
    "train_mse = mean_squared_error(train[['y']], y_predict_train)\n",
    "test_mse = mean_squared_error(test[['y']], y_predict_test)\n",
    "print(\"Train MSE: {}\".format(train_mse))\n",
    "print(\"Test MSE: {}\".format(test_mse))"
   ]
  },
  {
   "cell_type": "code",
   "execution_count": null,
   "metadata": {
    "colab": {
     "base_uri": "https://localhost:8080/"
    },
    "id": "aPjyylR7Poan",
    "outputId": "c67e035e-eb18-49f9-9494-56cbe64b8dfb"
   },
   "outputs": [
    {
     "name": "stdout",
     "output_type": "stream",
     "text": [
      "Train MAE: 0.781313778676075\n",
      "Test MAE: 0.7273715175787049\n"
     ]
    }
   ],
   "source": [
    "from sklearn.metrics import mean_absolute_error\n",
    "\n",
    "train_mae = mean_absolute_error(train[['y']], y_predict_train)\n",
    "test_mae = mean_absolute_error(test[['y']], y_predict_test)\n",
    "print(\"Train MAE: {}\".format(train_mae))\n",
    "print(\"Test MAE: {}\".format(test_mae))"
   ]
  },
  {
   "cell_type": "markdown",
   "metadata": {
    "id": "n6c_PStiN8OY"
   },
   "source": [
    "**Вывод:** в результате добавление переменной квадрата `x` позволило улучшить качество модели, то есть снизить ошибку."
   ]
  }
 ],
 "metadata": {
  "colab": {
   "collapsed_sections": [],
   "name": "Урок 5 Задание на самопроверку.ipynb",
   "provenance": []
  },
  "kernelspec": {
   "display_name": "Python 3 (ipykernel)",
   "language": "python",
   "name": "python3"
  },
  "language_info": {
   "codemirror_mode": {
    "name": "ipython",
    "version": 3
   },
   "file_extension": ".py",
   "mimetype": "text/x-python",
   "name": "python",
   "nbconvert_exporter": "python",
   "pygments_lexer": "ipython3",
   "version": "3.9.7"
  }
 },
 "nbformat": 4,
 "nbformat_minor": 4
}
