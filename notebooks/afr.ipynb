{
  "nbformat": 4,
  "nbformat_minor": 0,
  "metadata": {
    "colab": {
      "provenance": [],
      "mount_file_id": "1C_6yzm965s5SSns9ahwqC_gQtAscSZ26",
      "authorship_tag": "ABX9TyPhQuPX41nQHLRy8pXx65o3",
      "include_colab_link": true
    },
    "kernelspec": {
      "name": "python3",
      "display_name": "Python 3"
    },
    "language_info": {
      "name": "python"
    }
  },
  "cells": [
    {
      "cell_type": "markdown",
      "metadata": {
        "id": "view-in-github",
        "colab_type": "text"
      },
      "source": [
        "<a href=\"https://colab.research.google.com/github/UzunDemir/uzundemir.github.io/blob/master/notebooks/afr.ipynb\" target=\"_parent\"><img src=\"https://colab.research.google.com/assets/colab-badge.svg\" alt=\"Open In Colab\"/></a>"
      ]
    },
    {
      "cell_type": "markdown",
      "source": [
        "# Генерация правил для антифродовой системы с использованием ML\n",
        "\n",
        "https://github.com/user-attachments/assets/58469d03-7de1-465f-b67b-d020d8189480"
      ],
      "metadata": {
        "id": "ke864b8TW-me"
      }
    },
    {
      "cell_type": "markdown",
      "source": [
        "## Шаг 1: Импорт необходимых библиотек"
      ],
      "metadata": {
        "id": "cP-f_k-jXZLL"
      }
    },
    {
      "cell_type": "code",
      "source": [
        "#!pip install pyarrow\n"
      ],
      "metadata": {
        "id": "yzY1t25bjYD5"
      },
      "execution_count": 1,
      "outputs": []
    },
    {
      "cell_type": "code",
      "source": [
        "import numpy as np\n",
        "import pandas as pd\n",
        "import matplotlib.pyplot as plt\n",
        "import seaborn as sns\n",
        "from pyspark.sql import SparkSession\n",
        "from pyspark.ml.feature import VectorAssembler, StringIndexer\n",
        "from pyspark.ml.classification import DecisionTreeClassifier, RandomForestClassifier, GBTClassifier\n",
        "from pyspark.ml.evaluation import BinaryClassificationEvaluator\n",
        "from pyspark.ml.tuning import ParamGridBuilder, CrossValidator\n",
        "from pyspark.ml import Pipeline\n",
        "import graphviz\n",
        "from sklearn.metrics import confusion_matrix, classification_report\n",
        "from imblearn.under_sampling import RandomUnderSampler"
      ],
      "metadata": {
        "id": "9iKy4eXQXOG7"
      },
      "execution_count": 2,
      "outputs": []
    },
    {
      "cell_type": "markdown",
      "source": [
        "## Шаг 2: Инициализация Spark и загрузка данных"
      ],
      "metadata": {
        "id": "ZIJ29WctXjW8"
      }
    },
    {
      "cell_type": "code",
      "source": [
        "import zipfile\n",
        "\n",
        "# Путь к архиву\n",
        "zip_path = \"/content/drive/MyDrive/fraud_data/fraud_detection_dataset_1.zip\"\n",
        "\n",
        "# Путь для извлечения\n",
        "extract_to = \"/content/fraud_data\"\n",
        "\n",
        "# Извлечение файлов\n",
        "with zipfile.ZipFile(zip_path, 'r') as zip_ref:\n",
        "    zip_ref.extractall(extract_to)\n",
        "\n",
        "print(f\"Файлы успешно извлечены в {extract_to}\")\n"
      ],
      "metadata": {
        "colab": {
          "base_uri": "https://localhost:8080/"
        },
        "id": "MLbptWqEd-nM",
        "outputId": "477a387c-cf1f-497c-8b62-b863b895fa06"
      },
      "execution_count": 3,
      "outputs": [
        {
          "output_type": "stream",
          "name": "stdout",
          "text": [
            "Файлы успешно извлечены в /content/fraud_data\n"
          ]
        }
      ]
    },
    {
      "cell_type": "code",
      "source": [
        "# Инициализация SparkSession (если ещё не инициализирована)\n",
        "from pyspark.sql import SparkSession\n",
        "\n",
        "spark = SparkSession.builder \\\n",
        "    .appName(\"Load Parquet File\") \\\n",
        "    .getOrCreate()\n",
        "\n",
        "# Загрузка Parquet-файла\n",
        "parquet_path = \"/content/fraud_data/fraud_detection_dataset_1.parquet\"\n",
        "df = spark.read.parquet(parquet_path)\n",
        "\n",
        "# Отображение схемы и первых строк\n",
        "df.printSchema()\n",
        "df.show(5)\n"
      ],
      "metadata": {
        "colab": {
          "base_uri": "https://localhost:8080/"
        },
        "id": "3tIMg-Osj0TF",
        "outputId": "582c5d1e-ad22-405e-d0c1-669b11bf0e0d"
      },
      "execution_count": 4,
      "outputs": [
        {
          "output_type": "stream",
          "name": "stdout",
          "text": [
            "root\n",
            " |-- transaction_id: string (nullable = true)\n",
            " |-- customer_id: string (nullable = true)\n",
            " |-- merchant_id: string (nullable = true)\n",
            " |-- timestamp: timestamp (nullable = true)\n",
            " |-- date: date (nullable = true)\n",
            " |-- amount: double (nullable = true)\n",
            " |-- currency: string (nullable = true)\n",
            " |-- is_fraud: integer (nullable = true)\n",
            " |-- is_foreign: integer (nullable = true)\n",
            " |-- is_online: integer (nullable = true)\n",
            " |-- is_night: integer (nullable = true)\n",
            " |-- is_weekend: integer (nullable = true)\n",
            " |-- hour: double (nullable = true)\n",
            " |-- day_of_week: integer (nullable = true)\n",
            " |-- ip_address: string (nullable = true)\n",
            " |-- device_id: string (nullable = true)\n",
            " |-- operating_system: string (nullable = true)\n",
            " |-- age: integer (nullable = true)\n",
            " |-- income: integer (nullable = true)\n",
            " |-- credit_score: integer (nullable = true)\n",
            " |-- merchant_category: string (nullable = true)\n",
            " |-- risk_score: double (nullable = true)\n",
            " |-- merchant_country: string (nullable = true)\n",
            " |-- amount_deviation: double (nullable = true)\n",
            " |-- time_since_last_tx: double (nullable = true)\n",
            " |-- rule_high_amount_night: integer (nullable = true)\n",
            " |-- rule_foreign_new_device: integer (nullable = true)\n",
            " |-- rule_high_risk_merchant: integer (nullable = true)\n",
            " |-- rule_fast_sequence: integer (nullable = true)\n",
            " |-- rule_country_change: integer (nullable = true)\n",
            "\n",
            "+--------------+-----------+-----------+--------------------+----------+------------------+--------+--------+----------+---------+--------+----------+------------------+-----------+---------------+--------------------+----------------+---+------+------------+-----------------+------------------+----------------+--------------------+------------------+----------------------+-----------------------+-----------------------+------------------+-------------------+\n",
            "|transaction_id|customer_id|merchant_id|           timestamp|      date|            amount|currency|is_fraud|is_foreign|is_online|is_night|is_weekend|              hour|day_of_week|     ip_address|           device_id|operating_system|age|income|credit_score|merchant_category|        risk_score|merchant_country|    amount_deviation|time_since_last_tx|rule_high_amount_night|rule_foreign_new_device|rule_high_risk_merchant|rule_fast_sequence|rule_country_change|\n",
            "+--------------+-----------+-----------+--------------------+----------+------------------+--------+--------+----------+---------+--------+----------+------------------+-----------+---------------+--------------------+----------------+---+------+------------+-----------------+------------------+----------------+--------------------+------------------+----------------------+-----------------------+-----------------------+------------------+-------------------+\n",
            "|     T00571253|    C008610|    M008908|2025-02-25 06:52:...|2025-02-25|345.58186301632423|     USD|       0|         0|        0|       0|         0|5.9640595765948925|          1|           NULL|                NULL|            NULL| 36| 18698|         646|           travel|              0.02|              VE|  0.2113840830449826| 37.25410320938716|                     0|                      0|                      0|                 0|                  0|\n",
            "|     T00571254|    C022511|    M009900|2025-03-28 10:43:...|2025-03-28| 279.6787951231888|     EUR|       0|         0|        0|       0|         0| 9.854451530894076|          4|122.213.156.144|0deac9fb-c7ec-4d0...|             iOS| 25|  9421|         668|         services|0.8519543953510891|              AM|   2.329878048780488| 12.12917963277563|                     0|                      0|                      1|                 0|                  0|\n",
            "|     T00571255|    C038295|    M001094|2025-03-22 17:15:...|2025-03-22| 35.06248515089446|     EUR|       0|         1|        0|       0|         1| 16.97677968103712|          5|           NULL|158d9c49-7057-40b...|         Android| 62| 24601|         717|         services|              0.19|              LV| -0.7264655172413793| 5.148566040041109|                     0|                      0|                      0|                 0|                  1|\n",
            "|     T00571256|    C037959|    M006987|2025-02-24 09:40:...|2025-02-24| 123.6396203506149|     GBP|       0|         1|        0|       0|         0| 8.824913784284456|          0|           NULL|                NULL|           MacOS| 23| 28756|         597|           travel|              0.03|              NO|-0.05647540983606...| 23.85826127538488|                     0|                      1|                      0|                 0|                  0|\n",
            "|     T00571257|    C029308|    M005145|2025-03-03 14:49:...|2025-03-03| 235.5344775346398|     EUR|       0|         0|        1|       0|         0|14.935929556331502|          0| 215.193.40.227|                NULL|         Windows| 41| 18316|         374|        groceries|              0.15|              TZ|  1.6936250000000002| 9.267828050753794|                     0|                      0|                      0|                 0|                  0|\n",
            "+--------------+-----------+-----------+--------------------+----------+------------------+--------+--------+----------+---------+--------+----------+------------------+-----------+---------------+--------------------+----------------+---+------+------------+-----------------+------------------+----------------+--------------------+------------------+----------------------+-----------------------+-----------------------+------------------+-------------------+\n",
            "only showing top 5 rows\n",
            "\n"
          ]
        }
      ]
    },
    {
      "cell_type": "code",
      "source": [
        "# from google.colab import drive\n",
        "# drive.mount('/content/drive')\n",
        "\n",
        "# Импорт Spark\n",
        "from pyspark.sql import SparkSession\n",
        "\n",
        "# # Инициализация Spark-сессии\n",
        "# spark = SparkSession.builder \\\n",
        "#     .appName(\"FraudDetectionRules\") \\\n",
        "#     .config(\"spark.driver.memory\", \"8g\") \\\n",
        "#     .getOrCreate()\n",
        "\n",
        "# Пути к данным\n",
        "base_path = \"/content/drive/MyDrive/fraud_data/\"\n",
        "transactions_path = base_path + \"fraud_detection_dataset.parquet\"\n",
        "customers_path = base_path + \"customer_data.parquet\"\n",
        "merchants_path = base_path + \"merchant_data.parquet\"\n",
        "\n",
        "# Загрузка данных\n",
        "#df_transactions = spark.read.parquet(transactions_path)\n",
        "df_customers = spark.read.parquet(customers_path)\n",
        "df_merchants = spark.read.parquet(merchants_path)\n",
        "\n",
        "# Просмотр схемы и примеров\n",
        "#df_transactions.printSchema()\n",
        "#df_transactions.show(5)\n",
        "df_customers.printSchema()\n",
        "df_customers.show(5)"
      ],
      "metadata": {
        "colab": {
          "base_uri": "https://localhost:8080/"
        },
        "id": "EJ5ItFkKXrI8",
        "outputId": "1a4a1ebd-9ce2-4b76-a31e-09e37bcdd2c5"
      },
      "execution_count": 5,
      "outputs": [
        {
          "output_type": "stream",
          "name": "stdout",
          "text": [
            "root\n",
            " |-- customer_id: string (nullable = true)\n",
            " |-- age: long (nullable = true)\n",
            " |-- income: long (nullable = true)\n",
            " |-- credit_score: long (nullable = true)\n",
            " |-- registration_date: date (nullable = true)\n",
            " |-- is_active: boolean (nullable = true)\n",
            " |-- country: string (nullable = true)\n",
            " |-- device_type: string (nullable = true)\n",
            " |-- avg_transaction_amount: long (nullable = true)\n",
            " |-- transaction_frequency: long (nullable = true)\n",
            "\n",
            "+-----------+---+------+------------+-----------------+---------+-------+-----------+----------------------+---------------------+\n",
            "|customer_id|age|income|credit_score|registration_date|is_active|country|device_type|avg_transaction_amount|transaction_frequency|\n",
            "+-----------+---+------+------------+-----------------+---------+-------+-----------+----------------------+---------------------+\n",
            "|    C000000| 56| 48578|         683|       2023-07-06|     true|     MX|     mobile|                    41|                    4|\n",
            "|    C000001| 69| 18560|         740|       2021-07-01|     true|     GA|     tablet|                    49|                    4|\n",
            "|    C000002| 46| 20754|         803|       2022-11-16|    false|     LY|     mobile|                   322|                    7|\n",
            "|    C000003| 32| 11392|         526|       2021-05-29|     true|     GE|     mobile|                   479|                    6|\n",
            "|    C000004| 60| 19991|         698|       2021-05-24|     true|     NO|    desktop|                   106|                   11|\n",
            "+-----------+---+------+------------+-----------------+---------+-------+-----------+----------------------+---------------------+\n",
            "only showing top 5 rows\n",
            "\n"
          ]
        }
      ]
    },
    {
      "cell_type": "code",
      "source": [
        "df_merchants.printSchema()"
      ],
      "metadata": {
        "colab": {
          "base_uri": "https://localhost:8080/"
        },
        "id": "iGRX714mjNvg",
        "outputId": "a5fbd4af-90d9-474f-c259-19ce6b0210a4"
      },
      "execution_count": 6,
      "outputs": [
        {
          "output_type": "stream",
          "name": "stdout",
          "text": [
            "root\n",
            " |-- merchant_id: string (nullable = true)\n",
            " |-- merchant_name: string (nullable = true)\n",
            " |-- merchant_category: string (nullable = true)\n",
            " |-- merchant_country: string (nullable = true)\n",
            " |-- risk_score: double (nullable = true)\n",
            "\n"
          ]
        }
      ]
    },
    {
      "cell_type": "code",
      "source": [
        "from pyspark.sql.functions import col\n",
        "\n",
        "# Получим список колонок, которые уже есть в df\n",
        "df_cols = set(df.columns)\n",
        "\n",
        "# Выберем только новые столбцы из df_customers\n",
        "df_customers_new_cols = [col(c) for c in df_customers.columns if c not in df_cols and c != 'customer_id']\n",
        "df_customers_trimmed = df_customers.select('customer_id', *df_customers_new_cols)\n",
        "\n",
        "# Джойним по customer_id\n",
        "df = df.join(df_customers_trimmed, on='customer_id', how='left')\n",
        "\n",
        "# Обновим список колонок и сделаем то же самое с df_merchants\n",
        "df_cols = set(df.columns)\n",
        "df_merchants_new_cols = [col(c) for c in df_merchants.columns if c not in df_cols and c != 'merchant_id']\n",
        "df_merchants_trimmed = df_merchants.select('merchant_id', *df_merchants_new_cols)\n",
        "\n",
        "# Джойним по merchant_id\n",
        "df = df.join(df_merchants_trimmed, on='merchant_id', how='left')\n",
        "\n",
        "# Посмотрим итоговую схему\n",
        "df.printSchema()\n"
      ],
      "metadata": {
        "colab": {
          "base_uri": "https://localhost:8080/"
        },
        "id": "2U__gVWql3J0",
        "outputId": "d95ce3d0-534c-474b-e7f5-057b162f1bf9"
      },
      "execution_count": 7,
      "outputs": [
        {
          "output_type": "stream",
          "name": "stdout",
          "text": [
            "root\n",
            " |-- merchant_id: string (nullable = true)\n",
            " |-- customer_id: string (nullable = true)\n",
            " |-- transaction_id: string (nullable = true)\n",
            " |-- timestamp: timestamp (nullable = true)\n",
            " |-- date: date (nullable = true)\n",
            " |-- amount: double (nullable = true)\n",
            " |-- currency: string (nullable = true)\n",
            " |-- is_fraud: integer (nullable = true)\n",
            " |-- is_foreign: integer (nullable = true)\n",
            " |-- is_online: integer (nullable = true)\n",
            " |-- is_night: integer (nullable = true)\n",
            " |-- is_weekend: integer (nullable = true)\n",
            " |-- hour: double (nullable = true)\n",
            " |-- day_of_week: integer (nullable = true)\n",
            " |-- ip_address: string (nullable = true)\n",
            " |-- device_id: string (nullable = true)\n",
            " |-- operating_system: string (nullable = true)\n",
            " |-- age: integer (nullable = true)\n",
            " |-- income: integer (nullable = true)\n",
            " |-- credit_score: integer (nullable = true)\n",
            " |-- merchant_category: string (nullable = true)\n",
            " |-- risk_score: double (nullable = true)\n",
            " |-- merchant_country: string (nullable = true)\n",
            " |-- amount_deviation: double (nullable = true)\n",
            " |-- time_since_last_tx: double (nullable = true)\n",
            " |-- rule_high_amount_night: integer (nullable = true)\n",
            " |-- rule_foreign_new_device: integer (nullable = true)\n",
            " |-- rule_high_risk_merchant: integer (nullable = true)\n",
            " |-- rule_fast_sequence: integer (nullable = true)\n",
            " |-- rule_country_change: integer (nullable = true)\n",
            " |-- registration_date: date (nullable = true)\n",
            " |-- is_active: boolean (nullable = true)\n",
            " |-- country: string (nullable = true)\n",
            " |-- device_type: string (nullable = true)\n",
            " |-- avg_transaction_amount: long (nullable = true)\n",
            " |-- transaction_frequency: long (nullable = true)\n",
            " |-- merchant_name: string (nullable = true)\n",
            "\n"
          ]
        }
      ]
    },
    {
      "cell_type": "markdown",
      "source": [
        "## Признаки\n",
        "---\n",
        "\n",
        "### **Основная информация о транзакции:**\n",
        "\n",
        "- **`transaction_id`** – уникальный идентификатор транзакции.  \n",
        "- **`customer_id`** – уникальный идентификатор клиента.  \n",
        "- **`merchant_id`** – уникальный идентификатор торговой точки или продавца.  \n",
        "- **`timestamp`** – точное время совершения транзакции.  \n",
        "- **`date`** – дата транзакции (может быть выделена отдельно из `timestamp`).  \n",
        "- **`amount`** – сумма транзакции.  \n",
        "- **`currency`** – валюта транзакции (например, USD, EUR).  \n",
        "- **`is_fraud`** – метка, является ли транзакция мошеннической (1 — да, 0 — нет).  \n",
        "\n",
        "---\n",
        "\n",
        "### **Контекст транзакции:**\n",
        "\n",
        "- **`is_foreign`** – признак, была ли транзакция международной (за пределами страны клиента).  \n",
        "- **`is_online`** – признак, была ли транзакция онлайн.  \n",
        "- **`is_night`** – признак, была ли транзакция совершена ночью.  \n",
        "- **`is_weekend`** – признак, была ли транзакция в выходной день.  \n",
        "- **`hour`** – час суток, когда была совершена транзакция.  \n",
        "- **`day_of_week`** – день недели (0 — понедельник, 6 — воскресенье).  \n",
        "\n",
        "---\n",
        "\n",
        "### **Техническая информация:**\n",
        "\n",
        "- **`ip_address`** – IP-адрес, с которого была совершена транзакция.  \n",
        "- **`device_id`** – идентификатор устройства, с которого была совершена транзакция.  \n",
        "- **`operating_system`** – операционная система устройства (например, iOS, Android, Windows).  \n",
        "\n",
        "---\n",
        "\n",
        "### **Профиль клиента:**\n",
        "\n",
        "- **`age`** – возраст клиента.  \n",
        "- **`income`** – уровень дохода клиента.  \n",
        "- **`credit_score`** – кредитный рейтинг клиента.  \n",
        "\n",
        "---\n",
        "\n",
        "### **Профиль торговой точки:**\n",
        "\n",
        "- **`merchant_category`** – категория торговой точки (например, рестораны, электроника).  \n",
        "- **`risk_score`** – оценка риска торговой точки (чем выше, тем подозрительнее).  \n",
        "- **`merchant_country`** – страна, в которой зарегистрирован продавец.  \n",
        "\n",
        "---\n",
        "\n",
        "### **Аналитические признаки:**\n",
        "\n",
        "- **`amount_deviation`** – отклонение суммы транзакции от среднего значения для клиента.  \n",
        "- **`time_since_last_tx`** – время, прошедшее с последней транзакции этого клиента.  \n",
        "\n",
        "---\n",
        "\n",
        "### **Правила фрод-детекции (rule-based):**\n",
        "\n",
        "- **`rule_high_amount_night`** – признак срабатывания правила: высокая сумма ночью.  \n",
        "- **`rule_foreign_new_device`** – правило: иностранная транзакция с нового устройства.  \n",
        "- **`rule_high_risk_merchant`** – правило: транзакция у продавца с высоким риском.  \n",
        "- **`rule_fast_sequence`** – правило: слишком быстрые транзакции подряд.  \n",
        "- **`rule_country_change`** – правило: смена страны клиента по сравнению с предыдущей транзакцией.\n",
        "\n",
        "---\n"
      ],
      "metadata": {
        "id": "7do-TSN8niGU"
      }
    },
    {
      "cell_type": "code",
      "source": [
        "df.show(10)"
      ],
      "metadata": {
        "colab": {
          "base_uri": "https://localhost:8080/"
        },
        "id": "hcW43LGPnhWD",
        "outputId": "cf27a2c7-638d-4ed6-949e-2432d61ab1c8"
      },
      "execution_count": 8,
      "outputs": [
        {
          "output_type": "stream",
          "name": "stdout",
          "text": [
            "+-----------+-----------+--------------+--------------------+----------+------------------+--------+--------+----------+---------+--------+----------+------------------+-----------+---------------+--------------------+----------------+---+------+------------+-----------------+------------------+----------------+--------------------+------------------+----------------------+-----------------------+-----------------------+------------------+-------------------+-----------------+---------+-------+-----------+----------------------+---------------------+--------------------+\n",
            "|merchant_id|customer_id|transaction_id|           timestamp|      date|            amount|currency|is_fraud|is_foreign|is_online|is_night|is_weekend|              hour|day_of_week|     ip_address|           device_id|operating_system|age|income|credit_score|merchant_category|        risk_score|merchant_country|    amount_deviation|time_since_last_tx|rule_high_amount_night|rule_foreign_new_device|rule_high_risk_merchant|rule_fast_sequence|rule_country_change|registration_date|is_active|country|device_type|avg_transaction_amount|transaction_frequency|       merchant_name|\n",
            "+-----------+-----------+--------------+--------------------+----------+------------------+--------+--------+----------+---------+--------+----------+------------------+-----------+---------------+--------------------+----------------+---+------+------------+-----------------+------------------+----------------+--------------------+------------------+----------------------+-----------------------+-----------------------+------------------+-------------------+-----------------+---------+-------+-----------+----------------------+---------------------+--------------------+\n",
            "|    M008908|    C008610|     T00571253|2025-02-25 06:52:...|2025-02-25|345.58186301632423|     USD|       0|         0|        0|       0|         0|5.9640595765948925|          1|           NULL|                NULL|            NULL| 36| 18698|         646|           travel|              0.02|              VE|  0.2113840830449826| 37.25410320938716|                     0|                      0|                      0|                 0|                  0|       2022-10-17|     true|     NZ|     tablet|                   289|                    8|       Young-Johnson|\n",
            "|    M009900|    C022511|     T00571254|2025-03-28 10:43:...|2025-03-28| 279.6787951231888|     EUR|       0|         0|        0|       0|         0| 9.854451530894076|          4|122.213.156.144|0deac9fb-c7ec-4d0...|             iOS| 25|  9421|         668|         services|0.8519543953510891|              AM|   2.329878048780488| 12.12917963277563|                     0|                      0|                      1|                 0|                  0|       2021-07-02|     true|     AG|     tablet|                    82|                    3|Martin, Moreno an...|\n",
            "|    M001094|    C038295|     T00571255|2025-03-22 17:15:...|2025-03-22| 35.06248515089446|     EUR|       0|         1|        0|       0|         1| 16.97677968103712|          5|           NULL|158d9c49-7057-40b...|         Android| 62| 24601|         717|         services|              0.19|              LV| -0.7264655172413793| 5.148566040041109|                     0|                      0|                      0|                 0|                  1|       2021-03-24|     true|     MM|    desktop|                   116|                    8|Aguilar, Hill and...|\n",
            "|    M006987|    C037959|     T00571256|2025-02-24 09:40:...|2025-02-24| 123.6396203506149|     GBP|       0|         1|        0|       0|         0| 8.824913784284456|          0|           NULL|                NULL|           MacOS| 23| 28756|         597|           travel|              0.03|              NO|-0.05647540983606...| 23.85826127538488|                     0|                      1|                      0|                 0|                  0|       2021-05-09|     true|     SI|     tablet|                   122|                    9|      Meyer-Mcdonald|\n",
            "|    M005145|    C029308|     T00571257|2025-03-03 14:49:...|2025-03-03| 235.5344775346398|     EUR|       0|         0|        1|       0|         0|14.935929556331502|          0| 215.193.40.227|                NULL|         Windows| 41| 18316|         374|        groceries|              0.15|              TZ|  1.6936250000000002| 9.267828050753794|                     0|                      0|                      0|                 0|                  0|       2022-12-31|     true|     TG|    desktop|                    80|                    5|             Lee PLC|\n",
            "|    M004817|    C048166|     T00571258|2025-04-06 11:01:...|2025-04-06| 84.31680256874843|     USD|       0|         1|        0|       0|         1|11.202574976730101|          6|   14.138.204.3|                NULL|             iOS| 29|  3651|         538|           travel|  0.85090586136916|              IE| 0.21897058823529414|14.580209462559703|                     0|                      1|                      0|                 0|                  1|       2020-11-26|     true|     IL|     mobile|                    68|                    7|Wilson, Mccoy and...|\n",
            "|    M005778|    C019945|     T00571259|2025-03-13 11:41:...|2025-03-13| 43.35095985440278|     USD|       0|         0|        0|       0|         0| 10.56718426528703|          3|189.136.144.142|e8f43a8d-afa3-411...|           MacOS| 41| 20790|         757|           travel| 0.934734484540901|              UA| -0.5507291666666666| 3.623867481878597|                     0|                      0|                      0|                 0|                  0|       2022-11-30|     true|     DO|     mobile|                    96|                    5|            Tran Inc|\n",
            "|    M002664|    C004999|     T00571260|2025-03-01 15:33:...|2025-03-01|19.732094139019253|     GBP|       0|         1|        1|       0|         1|14.651654660412628|          5|  115.153.247.7|609eca62-eae3-46c...|             iOS| 36| 40495|         698|      restaurants|              0.07|              AZ| -0.9344984802431611| 5.409145146876569|                     0|                      0|                      0|                 0|                  1|       2023-07-25|     true|     LK|     mobile|                   329|                    5|       Scott-Collins|\n",
            "|    M001535|    C000375|     T00571261|2025-04-15 08:26:...|2025-04-15| 63.97579073093143|     USD|       0|         0|        1|       0|         0| 7.639981966134627|          1|           NULL|8121cfbf-c2b1-469...|             iOS| 45| 19922|         481|         clothing|              0.07|              NE|   -0.83321608040201| 21.34835863712479|                     0|                      0|                      0|                 0|                  0|       2021-02-20|     true|     LA|     mobile|                   398|                    6|      Williams Group|\n",
            "|    M004203|    C027082|     T00571262|2025-04-07 17:14:...|2025-04-07| 40.77910760036716|     USD|       0|         0|        1|       0|         0| 17.12974774847495|          0|  184.52.56.181|4252e3b7-bc51-4e4...|         Android| 66| 21533|         778|        utilities|              0.01|              SM| -0.3544444444444444|  4.10536321614681|                     0|                      0|                      0|                 0|                  0|       2023-03-25|     true|     IE|     mobile|                    63|                    4|   Johnston and Sons|\n",
            "+-----------+-----------+--------------+--------------------+----------+------------------+--------+--------+----------+---------+--------+----------+------------------+-----------+---------------+--------------------+----------------+---+------+------------+-----------------+------------------+----------------+--------------------+------------------+----------------------+-----------------------+-----------------------+------------------+-------------------+-----------------+---------+-------+-----------+----------------------+---------------------+--------------------+\n",
            "only showing top 10 rows\n",
            "\n"
          ]
        }
      ]
    },
    {
      "cell_type": "code",
      "source": [
        "# Количество строк (наблюдений)\n",
        "num_rows = df.count()\n",
        "\n",
        "# Количество признаков (столбцов)\n",
        "num_columns = len(df.columns)\n",
        "\n",
        "# Имя целевого признака\n",
        "target_column = 'is_fraud'\n",
        "\n",
        "# Выводим информацию\n",
        "print(f\"Количество строк: {num_rows}\")\n",
        "print(f\"Количество признаков: {num_columns}\")\n",
        "print(f\"Целевая переменная: '{target_column}'\")\n"
      ],
      "metadata": {
        "colab": {
          "base_uri": "https://localhost:8080/"
        },
        "id": "MdpC3eIpoHDy",
        "outputId": "a3f06172-d16b-4389-fb0c-847c57e3515b"
      },
      "execution_count": 9,
      "outputs": [
        {
          "output_type": "stream",
          "name": "stdout",
          "text": [
            "Количество строк: 2000000\n",
            "Количество признаков: 37\n",
            "Целевая переменная: 'is_fraud'\n"
          ]
        }
      ]
    },
    {
      "cell_type": "code",
      "source": [
        "df.groupBy('is_fraud').count().show()\n"
      ],
      "metadata": {
        "colab": {
          "base_uri": "https://localhost:8080/"
        },
        "id": "8P3G0i2IoqDK",
        "outputId": "fb9f204c-a59e-42c5-c067-67a25247b87a"
      },
      "execution_count": 10,
      "outputs": [
        {
          "output_type": "stream",
          "name": "stdout",
          "text": [
            "+--------+-------+\n",
            "|is_fraud|  count|\n",
            "+--------+-------+\n",
            "|       1|  10000|\n",
            "|       0|1990000|\n",
            "+--------+-------+\n",
            "\n"
          ]
        }
      ]
    },
    {
      "cell_type": "code",
      "source": [
        "df.printSchema()"
      ],
      "metadata": {
        "colab": {
          "base_uri": "https://localhost:8080/"
        },
        "id": "gy9WYVaao7h5",
        "outputId": "bcc20fbc-90d2-47ca-c103-1370d2b7d501"
      },
      "execution_count": 11,
      "outputs": [
        {
          "output_type": "stream",
          "name": "stdout",
          "text": [
            "root\n",
            " |-- merchant_id: string (nullable = true)\n",
            " |-- customer_id: string (nullable = true)\n",
            " |-- transaction_id: string (nullable = true)\n",
            " |-- timestamp: timestamp (nullable = true)\n",
            " |-- date: date (nullable = true)\n",
            " |-- amount: double (nullable = true)\n",
            " |-- currency: string (nullable = true)\n",
            " |-- is_fraud: integer (nullable = true)\n",
            " |-- is_foreign: integer (nullable = true)\n",
            " |-- is_online: integer (nullable = true)\n",
            " |-- is_night: integer (nullable = true)\n",
            " |-- is_weekend: integer (nullable = true)\n",
            " |-- hour: double (nullable = true)\n",
            " |-- day_of_week: integer (nullable = true)\n",
            " |-- ip_address: string (nullable = true)\n",
            " |-- device_id: string (nullable = true)\n",
            " |-- operating_system: string (nullable = true)\n",
            " |-- age: integer (nullable = true)\n",
            " |-- income: integer (nullable = true)\n",
            " |-- credit_score: integer (nullable = true)\n",
            " |-- merchant_category: string (nullable = true)\n",
            " |-- risk_score: double (nullable = true)\n",
            " |-- merchant_country: string (nullable = true)\n",
            " |-- amount_deviation: double (nullable = true)\n",
            " |-- time_since_last_tx: double (nullable = true)\n",
            " |-- rule_high_amount_night: integer (nullable = true)\n",
            " |-- rule_foreign_new_device: integer (nullable = true)\n",
            " |-- rule_high_risk_merchant: integer (nullable = true)\n",
            " |-- rule_fast_sequence: integer (nullable = true)\n",
            " |-- rule_country_change: integer (nullable = true)\n",
            " |-- registration_date: date (nullable = true)\n",
            " |-- is_active: boolean (nullable = true)\n",
            " |-- country: string (nullable = true)\n",
            " |-- device_type: string (nullable = true)\n",
            " |-- avg_transaction_amount: long (nullable = true)\n",
            " |-- transaction_frequency: long (nullable = true)\n",
            " |-- merchant_name: string (nullable = true)\n",
            "\n"
          ]
        }
      ]
    },
    {
      "cell_type": "markdown",
      "source": [
        "### 🔍 Проверим пропущенные значения"
      ],
      "metadata": {
        "id": "-NrihWsvpjj8"
      }
    },
    {
      "cell_type": "code",
      "source": [
        "from pyspark.sql.functions import col, sum as spark_sum\n",
        "\n",
        "df.select([spark_sum(col(c).isNull().cast(\"int\")).alias(c) for c in df.columns]).show()\n"
      ],
      "metadata": {
        "colab": {
          "base_uri": "https://localhost:8080/"
        },
        "id": "RcqPO-VfpCNh",
        "outputId": "47df5301-99d8-46e5-f830-2b14b1f5ef03"
      },
      "execution_count": 12,
      "outputs": [
        {
          "output_type": "stream",
          "name": "stdout",
          "text": [
            "+-----------+-----------+--------------+---------+----+------+--------+--------+----------+---------+--------+----------+----+-----------+----------+---------+----------------+---+------+------------+-----------------+----------+----------------+----------------+------------------+----------------------+-----------------------+-----------------------+------------------+-------------------+-----------------+---------+-------+-----------+----------------------+---------------------+-------------+\n",
            "|merchant_id|customer_id|transaction_id|timestamp|date|amount|currency|is_fraud|is_foreign|is_online|is_night|is_weekend|hour|day_of_week|ip_address|device_id|operating_system|age|income|credit_score|merchant_category|risk_score|merchant_country|amount_deviation|time_since_last_tx|rule_high_amount_night|rule_foreign_new_device|rule_high_risk_merchant|rule_fast_sequence|rule_country_change|registration_date|is_active|country|device_type|avg_transaction_amount|transaction_frequency|merchant_name|\n",
            "+-----------+-----------+--------------+---------+----+------+--------+--------+----------+---------+--------+----------+----+-----------+----------+---------+----------------+---+------+------------+-----------------+----------+----------------+----------------+------------------+----------------------+-----------------------+-----------------------+------------------+-------------------+-----------------+---------+-------+-----------+----------------------+---------------------+-------------+\n",
            "|          0|          0|             0|        0|   0|     0|       0|       0|         0|        0|       0|         0|   0|          0|    600056|  1000809|          200201|  0|     0|           0|                0|         0|               0|               0|                 0|                     0|                      0|                      0|                 0|                  0|                0|        0|      0|          0|                     0|                    0|            0|\n",
            "+-----------+-----------+--------------+---------+----+------+--------+--------+----------+---------+--------+----------+----+-----------+----------+---------+----------------+---+------+------------+-----------------+----------+----------------+----------------+------------------+----------------------+-----------------------+-----------------------+------------------+-------------------+-----------------+---------+-------+-----------+----------------------+---------------------+-------------+\n",
            "\n"
          ]
        }
      ]
    },
    {
      "cell_type": "markdown",
      "source": [
        "### 📈 Статистики по числовым признакам"
      ],
      "metadata": {
        "id": "KjB2JbBNpyfr"
      }
    },
    {
      "cell_type": "code",
      "source": [
        "df.describe().show()\n"
      ],
      "metadata": {
        "colab": {
          "base_uri": "https://localhost:8080/"
        },
        "id": "gIEeGcs1pvK9",
        "outputId": "af3eae2d-9c35-42b1-a306-c21d7327aa06"
      },
      "execution_count": 13,
      "outputs": [
        {
          "output_type": "stream",
          "name": "stdout",
          "text": [
            "+-------+-----------+-----------+--------------+-------------------+--------+-------------------+-------------------+------------------+------------------+------------------+------------------+------------------+------------+--------------------+----------------+------------------+------------------+-----------------+-----------------+------------------+----------------+-------------------+------------------+----------------------+-----------------------+-----------------------+-------------------+-------------------+-------+-----------+----------------------+---------------------+-------------+\n",
            "|summary|merchant_id|customer_id|transaction_id|             amount|currency|           is_fraud|         is_foreign|         is_online|          is_night|        is_weekend|              hour|       day_of_week|  ip_address|           device_id|operating_system|               age|            income|     credit_score|merchant_category|        risk_score|merchant_country|   amount_deviation|time_since_last_tx|rule_high_amount_night|rule_foreign_new_device|rule_high_risk_merchant| rule_fast_sequence|rule_country_change|country|device_type|avg_transaction_amount|transaction_frequency|merchant_name|\n",
            "+-------+-----------+-----------+--------------+-------------------+--------+-------------------+-------------------+------------------+------------------+------------------+------------------+------------------+------------+--------------------+----------------+------------------+------------------+-----------------+-----------------+------------------+----------------+-------------------+------------------+----------------------+-----------------------+-----------------------+-------------------+-------------------+-------+-----------+----------------------+---------------------+-------------+\n",
            "|  count|    2000000|    2000000|       2000000|            2000000| 2000000|            2000000|            2000000|           2000000|           2000000|           2000000|           2000000|           2000000|     1399944|              999191|         1799799|           2000000|           2000000|          2000000|          2000000|           2000000|         2000000|            2000000|           2000000|               2000000|                2000000|                2000000|            2000000|            2000000|2000000|    2000000|               2000000|              2000000|      2000000|\n",
            "|   mean|       NULL|       NULL|          NULL| 119.09543252511627|    NULL|              0.005|           0.159939|          0.600034|         0.2938175|          0.278968|11.499855887781079|          2.935688|        NULL|                NULL|            NULL|         43.490912|       24961.05413|      648.6385625|             NULL|0.3513411900667285|            NULL|0.06971534954749592| 9.999122957780589|             0.0225375|               0.075747|               0.032045|           0.005357|          0.0907905|   NULL|       NULL|           203.4197935|            6.0043135|         NULL|\n",
            "| stddev|       NULL|       NULL|          NULL| 253.59340111557316|    NULL|0.07053369753175646|0.36654956480439355|0.4898911295794828|0.4555094734889581|0.4484918678732905| 6.968433611997078|2.0189056453054093|        NULL|                NULL|            NULL|14.988857819766883|13243.543554664158|98.00082020837357|             NULL|0.3656393027866261|            NULL|  2.859453598574645|10.029931603679417|    0.1484236238222744|    0.26459294585403015|     0.1761196567225431|0.07299524104455415|0.28731102725715885|   NULL|       NULL|    190.56198750499155|   2.2418836737749963|         NULL|\n",
            "|    min|    M000000|    C000000|     T00000000|0.21471504060207028|     EUR|                  0|                  0|                 0|                 0|                 0|               0.0|                 0|    1.0.0.85|000002a2-b4c1-47f...|         Android|                18|              2361|              300|         clothing|               0.0|              AD|-0.9998258850841556|               0.0|                     0|                      0|                      0|                  0|                  0|     AD|    desktop|                     4|                    1|   Abbott PLC|\n",
            "|    max|    M009999|    C049999|     T01999999|  67218.26315777328|     USD|                  1|                  1|                 1|                 1|                 1|28.029900271060715|                 6|99.99.90.201|fffffa71-b0c4-49f...|             iOS|                69|            144361|              850|        utilities|0.9999297159428588|              ZW|             363.99|158.12376899802865|                     1|                      1|                      1|                  1|                  1|     ZW|     tablet|                  3265|                   17|  Zuniga-Ruiz|\n",
            "+-------+-----------+-----------+--------------+-------------------+--------+-------------------+-------------------+------------------+------------------+------------------+------------------+------------------+------------+--------------------+----------------+------------------+------------------+-----------------+-----------------+------------------+----------------+-------------------+------------------+----------------------+-----------------------+-----------------------+-------------------+-------------------+-------+-----------+----------------------+---------------------+-------------+\n",
            "\n"
          ]
        }
      ]
    },
    {
      "cell_type": "markdown",
      "source": [
        "## 🔎 EDA (Exploratory Data Analysis)"
      ],
      "metadata": {
        "id": "t33iGwBBriXh"
      }
    },
    {
      "cell_type": "markdown",
      "source": [
        "### ✅ Шаг 1: Распределение целевой переменной"
      ],
      "metadata": {
        "id": "-wbtANZqrzOB"
      }
    },
    {
      "cell_type": "code",
      "source": [
        "import matplotlib.pyplot as plt\n",
        "import seaborn as sns\n",
        "\n",
        "fraud_df = df.select(\"is_fraud\").toPandas()\n",
        "\n",
        "sns.countplot(x=\"is_fraud\", data=fraud_df)\n",
        "plt.title(\"Распределение целевой переменной (is_fraud)\")\n",
        "plt.xlabel(\"Мошенническая транзакция\")\n",
        "plt.ylabel(\"Количество\")\n",
        "plt.xticks([0, 1], ['Нет', 'Да'])\n",
        "plt.show()\n"
      ],
      "metadata": {
        "colab": {
          "base_uri": "https://localhost:8080/",
          "height": 472
        },
        "id": "IbvDCej-rHNC",
        "outputId": "15df628e-7acc-4511-9602-4dc538b5f29e"
      },
      "execution_count": 14,
      "outputs": [
        {
          "output_type": "display_data",
          "data": {
            "text/plain": [
              "<Figure size 640x480 with 1 Axes>"
            ],
            "image/png": "[encoded data removed]"
          },
          "metadata": {}
        }
      ]
    },
    {
      "cell_type": "markdown",
      "source": [
        "### ✅ Шаг 2: Распределение по amount (сумма транзакции)"
      ],
      "metadata": {
        "id": "4VVmeBF9r50x"
      }
    },
    {
      "cell_type": "code",
      "source": [
        "amount_df = df.select(\"amount\", \"is_fraud\").toPandas()\n",
        "\n",
        "plt.figure(figsize=(12, 6))\n",
        "sns.histplot(data=amount_df, x=\"amount\", hue=\"is_fraud\", bins=100, log_scale=(True, False), kde=True, stat=\"density\", common_norm=False)\n",
        "plt.title(\"Распределение суммы транзакций (лог-масштаб)\")\n",
        "plt.xlabel(\"Сумма транзакции\")\n",
        "plt.ylabel(\"Плотность\")\n",
        "plt.legend([\"Не фрод\", \"Фрод\"])\n",
        "plt.show()\n"
      ],
      "metadata": {
        "colab": {
          "base_uri": "https://localhost:8080/",
          "height": 569
        },
        "id": "IsRcra4IrTV3",
        "outputId": "6110af7d-17d8-47a6-f46d-53a86e6951be"
      },
      "execution_count": 15,
      "outputs": [
        {
          "output_type": "display_data",
          "data": {
            "text/plain": [
              "<Figure size 1200x600 with 1 Axes>"
            ],
            "image/png": "[encoded data removed]"
          },
          "metadata": {}
        }
      ]
    },
    {
      "cell_type": "markdown",
      "source": [
        "### ✅ Шаг 3: Категориальные переменные vs Фрод"
      ],
      "metadata": {
        "id": "3PdiYeA7sAgp"
      }
    },
    {
      "cell_type": "code",
      "source": [
        "categorical_cols = [\"is_online\", \"is_foreign\", \"is_night\", \"device_type\", \"country\"]\n",
        "\n",
        "for col in categorical_cols:\n",
        "    temp_df = df.select(col, \"is_fraud\").toPandas()\n",
        "    plt.figure(figsize=(8, 4))\n",
        "    sns.countplot(data=temp_df, x=col, hue=\"is_fraud\")\n",
        "    plt.title(f\"{col} vs is_fraud\")\n",
        "    plt.xlabel(col)\n",
        "    plt.ylabel(\"Количество\")\n",
        "    plt.legend([\"Не фрод\", \"Фрод\"])\n",
        "    plt.xticks(rotation=45)\n",
        "    plt.tight_layout()\n",
        "    plt.show()\n"
      ],
      "metadata": {
        "colab": {
          "base_uri": "https://localhost:8080/",
          "height": 1000
        },
        "id": "AvwHPx9CsBsv",
        "outputId": "1e71b534-95ab-4b4d-b26c-8ba54f2bba64"
      },
      "execution_count": 16,
      "outputs": [
        {
          "output_type": "display_data",
          "data": {
            "text/plain": [
              "<Figure size 800x400 with 1 Axes>"
            ],
            "image/png": "[encoded data removed]"
          },
          "metadata": {}
        },
        {
          "output_type": "display_data",
          "data": {
            "text/plain": [
              "<Figure size 800x400 with 1 Axes>"
            ],
            "image/png": "[encoded data removed]"
          },
          "metadata": {}
        },
        {
          "output_type": "display_data",
          "data": {
            "text/plain": [
              "<Figure size 800x400 with 1 Axes>"
            ],
            "image/png": "[encoded data removed]"
          },
          "metadata": {}
        },
        {
          "output_type": "display_data",
          "data": {
            "text/plain": [
              "<Figure size 800x400 with 1 Axes>"
            ],
            "image/png": "[encoded data removed]"
          },
          "metadata": {}
        },
        {
          "output_type": "display_data",
          "data": {
            "text/plain": [
              "<Figure size 800x400 with 1 Axes>"
            ],
            "image/png": "[encoded data removed]"
          },
          "metadata": {}
        }
      ]
    },
    {
      "cell_type": "markdown",
      "source": [
        "### ✅ Шаг 4: Влияние времени"
      ],
      "metadata": {
        "id": "DK2f9v2WsV7Z"
      }
    },
    {
      "cell_type": "code",
      "source": [
        "time_cols = [\"hour\", \"day_of_week\"]\n",
        "\n",
        "for col in time_cols:\n",
        "    temp_df = df.select(col, \"is_fraud\").toPandas()\n",
        "    plt.figure(figsize=(10, 5))\n",
        "    sns.boxplot(data=temp_df, x=\"is_fraud\", y=col)\n",
        "    plt.title(f\"{col} vs is_fraud\")\n",
        "    plt.xlabel(\"Мошенническая транзакция\")\n",
        "    plt.ylabel(col)\n",
        "    plt.xticks([0, 1], ['Нет', 'Да'])\n",
        "    plt.show()\n"
      ],
      "metadata": {
        "colab": {
          "base_uri": "https://localhost:8080/",
          "height": 957
        },
        "id": "Z9ZFJGzgsXWm",
        "outputId": "6c8309ee-161e-4002-f310-6bad2ee166a5"
      },
      "execution_count": 17,
      "outputs": [
        {
          "output_type": "display_data",
          "data": {
            "text/plain": [
              "<Figure size 1000x500 with 1 Axes>"
            ],
            "image/png": "[encoded data removed]"
          },
          "metadata": {}
        },
        {
          "output_type": "display_data",
          "data": {
            "text/plain": [
              "<Figure size 1000x500 with 1 Axes>"
            ],
            "image/png": "[encoded data removed]"
          },
          "metadata": {}
        }
      ]
    },
    {
      "cell_type": "code",
      "source": [
        "from pyspark.sql.functions import col, isnan, count\n",
        "\n",
        "df.select('currency') \\\n",
        "  .groupBy('currency') \\\n",
        "  .count() \\\n",
        "  .orderBy('currency') \\\n",
        "  .show(50, truncate=False)\n"
      ],
      "metadata": {
        "colab": {
          "base_uri": "https://localhost:8080/"
        },
        "id": "4OXid3BbtCr3",
        "outputId": "173734a4-89b2-43bd-ce0c-bfb77398451f"
      },
      "execution_count": 18,
      "outputs": [
        {
          "output_type": "stream",
          "name": "stdout",
          "text": [
            "+--------+-------+\n",
            "|currency|count  |\n",
            "+--------+-------+\n",
            "|EUR     |599909 |\n",
            "|GBP     |399899 |\n",
            "|USD     |1000192|\n",
            "+--------+-------+\n",
            "\n"
          ]
        }
      ]
    },
    {
      "cell_type": "code",
      "source": [
        "from pyspark.sql.functions import col, count, when, isnan, lower\n",
        "\n",
        "df.select(\n",
        "    count(when(col('amount').isNull(), True)).alias('null'),\n",
        "    count(when(isnan(col('amount')), True)).alias('NaN'),\n",
        "    count(when(col('amount') == 0, True)).alias('Zero'),\n",
        "    count(when(col('amount') == '', True)).alias('Empty string'),\n",
        "    count(when(lower(col('amount').cast(\"string\")) == 'null', True)).alias(\"String 'null'\"),\n",
        "    count(when(lower(col('amount').cast(\"string\")) == 'nan', True)).alias(\"String 'nan'\"),\n",
        "    count(when(lower(col('amount').cast(\"string\")) == 'none', True)).alias(\"String 'none'\")\n",
        ").show()\n"
      ],
      "metadata": {
        "colab": {
          "base_uri": "https://localhost:8080/"
        },
        "id": "cvLWhnIdt6y5",
        "outputId": "7390bfaf-7cbb-42e1-c44a-b2f659c3ba1d"
      },
      "execution_count": 19,
      "outputs": [
        {
          "output_type": "stream",
          "name": "stdout",
          "text": [
            "+----+---+----+------------+-------------+------------+-------------+\n",
            "|null|NaN|Zero|Empty string|String 'null'|String 'nan'|String 'none'|\n",
            "+----+---+----+------------+-------------+------------+-------------+\n",
            "|   0|  0|   0|           0|            0|           0|            0|\n",
            "+----+---+----+------------+-------------+------------+-------------+\n",
            "\n"
          ]
        }
      ]
    },
    {
      "cell_type": "code",
      "source": [
        "from pyspark.sql.functions import col\n",
        "\n",
        "# Получим все строковые столбцы\n",
        "string_cols = [field.name for field in df.schema.fields if field.dataType.simpleString() == 'string']\n",
        "\n",
        "# Для каждого столбца выводим распределение значений\n",
        "for col_name in string_cols:\n",
        "    print(f\"\\n🔹 Распределение значений в колонке: {col_name}\")\n",
        "    df.groupBy(col(col_name)).count().orderBy(col(col_name)).show(50, truncate=False)\n"
      ],
      "metadata": {
        "colab": {
          "base_uri": "https://localhost:8080/"
        },
        "id": "k_Ych_ib2zy9",
        "outputId": "24c1389f-f433-49d3-c82f-aac1305b6c1a"
      },
      "execution_count": 20,
      "outputs": [
        {
          "output_type": "stream",
          "name": "stdout",
          "text": [
            "\n",
            "🔹 Распределение значений в колонке: merchant_id\n",
            "+-----------+-----+\n",
            "|merchant_id|count|\n",
            "+-----------+-----+\n",
            "|M000000    |224  |\n",
            "|M000001    |193  |\n",
            "|M000002    |193  |\n",
            "|M000003    |179  |\n",
            "|M000004    |190  |\n",
            "|M000005    |189  |\n",
            "|M000006    |221  |\n",
            "|M000007    |210  |\n",
            "|M000008    |217  |\n",
            "|M000009    |223  |\n",
            "|M000010    |202  |\n",
            "|M000011    |189  |\n",
            "|M000012    |168  |\n",
            "|M000013    |184  |\n",
            "|M000014    |210  |\n",
            "|M000015    |177  |\n",
            "|M000016    |192  |\n",
            "|M000017    |208  |\n",
            "|M000018    |184  |\n",
            "|M000019    |191  |\n",
            "|M000020    |185  |\n",
            "|M000021    |171  |\n",
            "|M000022    |187  |\n",
            "|M000023    |207  |\n",
            "|M000024    |217  |\n",
            "|M000025    |219  |\n",
            "|M000026    |183  |\n",
            "|M000027    |209  |\n",
            "|M000028    |191  |\n",
            "|M000029    |205  |\n",
            "|M000030    |200  |\n",
            "|M000031    |229  |\n",
            "|M000032    |198  |\n",
            "|M000033    |199  |\n",
            "|M000034    |202  |\n",
            "|M000035    |200  |\n",
            "|M000036    |214  |\n",
            "|M000037    |209  |\n",
            "|M000038    |204  |\n",
            "|M000039    |205  |\n",
            "|M000040    |188  |\n",
            "|M000041    |192  |\n",
            "|M000042    |209  |\n",
            "|M000043    |186  |\n",
            "|M000044    |205  |\n",
            "|M000045    |209  |\n",
            "|M000046    |211  |\n",
            "|M000047    |188  |\n",
            "|M000048    |177  |\n",
            "|M000049    |213  |\n",
            "+-----------+-----+\n",
            "only showing top 50 rows\n",
            "\n",
            "\n",
            "🔹 Распределение значений в колонке: customer_id\n",
            "+-----------+-----+\n",
            "|customer_id|count|\n",
            "+-----------+-----+\n",
            "|C000000    |44   |\n",
            "|C000001    |41   |\n",
            "|C000002    |29   |\n",
            "|C000003    |53   |\n",
            "|C000004    |38   |\n",
            "|C000005    |35   |\n",
            "|C000006    |50   |\n",
            "|C000007    |39   |\n",
            "|C000008    |45   |\n",
            "|C000009    |34   |\n",
            "|C000010    |39   |\n",
            "|C000011    |33   |\n",
            "|C000012    |37   |\n",
            "|C000013    |44   |\n",
            "|C000014    |37   |\n",
            "|C000015    |37   |\n",
            "|C000016    |37   |\n",
            "|C000017    |38   |\n",
            "|C000018    |41   |\n",
            "|C000019    |38   |\n",
            "|C000020    |40   |\n",
            "|C000021    |42   |\n",
            "|C000022    |55   |\n",
            "|C000023    |35   |\n",
            "|C000024    |47   |\n",
            "|C000025    |38   |\n",
            "|C000026    |31   |\n",
            "|C000027    |43   |\n",
            "|C000028    |47   |\n",
            "|C000029    |36   |\n",
            "|C000030    |36   |\n",
            "|C000031    |39   |\n",
            "|C000032    |39   |\n",
            "|C000033    |33   |\n",
            "|C000034    |33   |\n",
            "|C000035    |48   |\n",
            "|C000036    |44   |\n",
            "|C000037    |45   |\n",
            "|C000038    |52   |\n",
            "|C000039    |38   |\n",
            "|C000040    |39   |\n",
            "|C000041    |54   |\n",
            "|C000042    |47   |\n",
            "|C000043    |51   |\n",
            "|C000044    |37   |\n",
            "|C000045    |36   |\n",
            "|C000046    |38   |\n",
            "|C000047    |37   |\n",
            "|C000048    |47   |\n",
            "|C000049    |34   |\n",
            "+-----------+-----+\n",
            "only showing top 50 rows\n",
            "\n",
            "\n",
            "🔹 Распределение значений в колонке: transaction_id\n",
            "+--------------+-----+\n",
            "|transaction_id|count|\n",
            "+--------------+-----+\n",
            "|T00000000     |1    |\n",
            "|T00000001     |1    |\n",
            "|T00000002     |1    |\n",
            "|T00000003     |1    |\n",
            "|T00000004     |1    |\n",
            "|T00000005     |1    |\n",
            "|T00000006     |1    |\n",
            "|T00000007     |1    |\n",
            "|T00000008     |1    |\n",
            "|T00000009     |1    |\n",
            "|T00000010     |1    |\n",
            "|T00000011     |1    |\n",
            "|T00000012     |1    |\n",
            "|T00000013     |1    |\n",
            "|T00000014     |1    |\n",
            "|T00000015     |1    |\n",
            "|T00000016     |1    |\n",
            "|T00000017     |1    |\n",
            "|T00000018     |1    |\n",
            "|T00000019     |1    |\n",
            "|T00000020     |1    |\n",
            "|T00000021     |1    |\n",
            "|T00000022     |1    |\n",
            "|T00000023     |1    |\n",
            "|T00000024     |1    |\n",
            "|T00000025     |1    |\n",
            "|T00000026     |1    |\n",
            "|T00000027     |1    |\n",
            "|T00000028     |1    |\n",
            "|T00000029     |1    |\n",
            "|T00000030     |1    |\n",
            "|T00000031     |1    |\n",
            "|T00000032     |1    |\n",
            "|T00000033     |1    |\n",
            "|T00000034     |1    |\n",
            "|T00000035     |1    |\n",
            "|T00000036     |1    |\n",
            "|T00000037     |1    |\n",
            "|T00000038     |1    |\n",
            "|T00000039     |1    |\n",
            "|T00000040     |1    |\n",
            "|T00000041     |1    |\n",
            "|T00000042     |1    |\n",
            "|T00000043     |1    |\n",
            "|T00000044     |1    |\n",
            "|T00000045     |1    |\n",
            "|T00000046     |1    |\n",
            "|T00000047     |1    |\n",
            "|T00000048     |1    |\n",
            "|T00000049     |1    |\n",
            "+--------------+-----+\n",
            "only showing top 50 rows\n",
            "\n",
            "\n",
            "🔹 Распределение значений в колонке: currency\n",
            "+--------+-------+\n",
            "|currency|count  |\n",
            "+--------+-------+\n",
            "|EUR     |599909 |\n",
            "|GBP     |399899 |\n",
            "|USD     |1000192|\n",
            "+--------+-------+\n",
            "\n",
            "\n",
            "🔹 Распределение значений в колонке: ip_address\n",
            "+-----------+------+\n",
            "|ip_address |count |\n",
            "+-----------+------+\n",
            "|NULL       |600056|\n",
            "|1.0.0.85   |1     |\n",
            "|1.0.10.213 |1     |\n",
            "|1.0.115.2  |1     |\n",
            "|1.0.139.131|1     |\n",
            "|1.0.139.75 |1     |\n",
            "|1.0.16.206 |1     |\n",
            "|1.0.189.232|1     |\n",
            "|1.0.190.4  |1     |\n",
            "|1.0.193.16 |1     |\n",
            "|1.0.197.10 |1     |\n",
            "|1.0.199.143|1     |\n",
            "|1.0.215.207|1     |\n",
            "|1.0.220.6  |1     |\n",
            "|1.0.221.167|1     |\n",
            "|1.0.221.173|1     |\n",
            "|1.0.225.189|1     |\n",
            "|1.0.225.64 |1     |\n",
            "|1.0.239.245|1     |\n",
            "|1.0.244.16 |1     |\n",
            "|1.0.253.49 |1     |\n",
            "|1.0.33.130 |1     |\n",
            "|1.0.36.27  |1     |\n",
            "|1.0.65.140 |1     |\n",
            "|1.0.70.150 |1     |\n",
            "|1.0.78.237 |1     |\n",
            "|1.0.88.94  |1     |\n",
            "|1.0.90.22  |1     |\n",
            "|1.1.0.218  |1     |\n",
            "|1.1.10.225 |1     |\n",
            "|1.1.10.232 |1     |\n",
            "|1.1.11.132 |1     |\n",
            "|1.1.135.218|1     |\n",
            "|1.1.139.215|1     |\n",
            "|1.1.152.104|1     |\n",
            "|1.1.152.194|1     |\n",
            "|1.1.153.102|1     |\n",
            "|1.1.160.101|1     |\n",
            "|1.1.174.243|1     |\n",
            "|1.1.175.34 |1     |\n",
            "|1.1.177.250|1     |\n",
            "|1.1.185.254|1     |\n",
            "|1.1.194.179|1     |\n",
            "|1.1.196.39 |1     |\n",
            "|1.1.199.173|1     |\n",
            "|1.1.202.106|1     |\n",
            "|1.1.216.74 |1     |\n",
            "|1.1.219.8  |1     |\n",
            "|1.1.225.143|1     |\n",
            "|1.1.227.61 |1     |\n",
            "+-----------+------+\n",
            "only showing top 50 rows\n",
            "\n",
            "\n",
            "🔹 Распределение значений в колонке: device_id\n",
            "+------------------------------------+-------+\n",
            "|device_id                           |count  |\n",
            "+------------------------------------+-------+\n",
            "|NULL                                |1000809|\n",
            "|000002a2-b4c1-47fa-b9a2-7a129d86d753|1      |\n",
            "|000005b3-5380-49be-b595-16f4fcfca446|1      |\n",
            "|00001262-48c4-49f2-86b9-8e746c9abc2c|1      |\n",
            "|000017b2-4177-400f-a27d-0a1494f677c5|1      |\n",
            "|00002bb3-7999-4bd1-b0b3-7c7d35cd537a|1      |\n",
            "|00006520-9307-4ff7-b30d-c9abf0de546e|1      |\n",
            "|0000674e-a602-47cf-b53a-6ce132c2950f|1      |\n",
            "|00007c4e-b4c7-4e48-8903-da8612e3f401|1      |\n",
            "|00007d23-a8f4-45ec-8891-d87fdbd4499a|1      |\n",
            "|000097e6-1507-4006-be41-0e3b30542f3b|1      |\n",
            "|0000acda-ac09-4ce5-ad98-c6cd8d5d570d|1      |\n",
            "|0000ad76-f506-49ca-9c6d-d10397a7d1c4|1      |\n",
            "|0000e273-1f94-4675-8156-4c35020b7130|1      |\n",
            "|0000ef4c-f87d-4707-adc2-0bbbdbe809bb|1      |\n",
            "|0000fc80-eac1-4732-b87c-c236fbf64abb|1      |\n",
            "|00010239-4d82-41a9-b0d2-47a75ee76d36|1      |\n",
            "|000103a6-1381-4346-b1af-e7fc526fa985|1      |\n",
            "|00013344-6573-4c82-ab39-bcd3dc0e2ec2|1      |\n",
            "|000141c3-901d-4196-8525-1e7f5873dd63|1      |\n",
            "|0001b68e-a711-4fdc-971b-7cb96beb3611|1      |\n",
            "|0001c4f8-70ee-4edc-9d47-eae8ed738c1a|1      |\n",
            "|0001d60d-bb34-4029-a2af-ebafeb660d22|1      |\n",
            "|0001dc91-7bb5-4a72-8033-1991b34c0d15|1      |\n",
            "|0001efee-c31a-4796-bd71-5721d63efeaa|1      |\n",
            "|00020024-27d3-4a88-a3b2-071a2b7caca3|1      |\n",
            "|0002106b-a3e8-4282-bc2a-41a0b77069c2|1      |\n",
            "|00021537-13b3-4c3d-a145-2a7f2d2bbc0a|1      |\n",
            "|00022335-9615-430f-aedb-f82eded72371|1      |\n",
            "|00026093-ca52-46d9-9601-0dce194fd1ec|1      |\n",
            "|00027172-f2d2-4fec-bcce-4c775c82a928|1      |\n",
            "|00028eda-ac3c-4722-b5cf-58ab5c61a255|1      |\n",
            "|0002a028-9d5c-4593-9bdc-13c93fd2eb6f|1      |\n",
            "|0002bf5a-0eb0-4be5-bd02-5163524b0f2b|1      |\n",
            "|0002d2d5-b79a-422b-b5b3-9bc6449c0f9f|1      |\n",
            "|0002eefe-80ae-47b9-b025-d68bb9dec5e0|1      |\n",
            "|0002f118-8359-4586-aa91-cf05372e5e88|1      |\n",
            "|00031bef-6e6b-49ef-aaa9-5808c11f6a19|1      |\n",
            "|00033744-aa9c-4b8d-947d-e94db0e55260|1      |\n",
            "|000338da-b942-4d5f-a63a-a9b7adc2f760|1      |\n",
            "|00033fe2-c754-43f5-9686-518b5a4c3ef7|1      |\n",
            "|000346ec-5fe1-4afd-9aec-2c51894214df|1      |\n",
            "|00035a16-5cbd-4d0e-a834-142b4871c5f2|1      |\n",
            "|000370d2-1b9b-44e1-8b2d-266bebb7540b|1      |\n",
            "|00039b71-9b3c-4b05-a95e-dac853e239c3|1      |\n",
            "|00039b92-c7cd-43dd-a75d-add87b974a35|1      |\n",
            "|0003a740-f0f9-4242-9e9c-ba22a3acf860|1      |\n",
            "|0003c1ac-2785-4fb0-bce6-a348efe9e218|1      |\n",
            "|0003c1f7-3275-4145-9a3d-e6b6f5e40ee1|1      |\n",
            "|0003d970-e143-44e5-b135-d657488d37ab|1      |\n",
            "+------------------------------------+-------+\n",
            "only showing top 50 rows\n",
            "\n",
            "\n",
            "🔹 Распределение значений в колонке: operating_system\n",
            "+----------------+------+\n",
            "|operating_system|count |\n",
            "+----------------+------+\n",
            "|NULL            |200201|\n",
            "|Android         |600459|\n",
            "|MacOS           |199551|\n",
            "|Windows         |399743|\n",
            "|iOS             |600046|\n",
            "+----------------+------+\n",
            "\n",
            "\n",
            "🔹 Распределение значений в колонке: merchant_category\n",
            "+-----------------+------+\n",
            "|merchant_category|count |\n",
            "+-----------------+------+\n",
            "|clothing         |251380|\n",
            "|electronics      |254812|\n",
            "|entertainment    |239501|\n",
            "|groceries        |253857|\n",
            "|restaurants      |253733|\n",
            "|services         |254839|\n",
            "|travel           |241922|\n",
            "|utilities        |249956|\n",
            "+-----------------+------+\n",
            "\n",
            "\n",
            "🔹 Распределение значений в колонке: merchant_country\n",
            "+----------------+-----+\n",
            "|merchant_country|count|\n",
            "+----------------+-----+\n",
            "|AD              |9079 |\n",
            "|AE              |10085|\n",
            "|AF              |9757 |\n",
            "|AG              |12858|\n",
            "|AL              |9710 |\n",
            "|AM              |12806|\n",
            "|AO              |8364 |\n",
            "|AR              |9746 |\n",
            "|AT              |9695 |\n",
            "|AU              |8500 |\n",
            "|AZ              |12703|\n",
            "|BA              |9949 |\n",
            "|BB              |8952 |\n",
            "|BD              |10086|\n",
            "|BE              |10777|\n",
            "|BF              |10938|\n",
            "|BG              |11796|\n",
            "|BH              |10824|\n",
            "|BI              |8894 |\n",
            "|BJ              |9805 |\n",
            "|BN              |7647 |\n",
            "|BO              |13263|\n",
            "|BR              |8140 |\n",
            "|BS              |13907|\n",
            "|BT              |9781 |\n",
            "|BW              |11047|\n",
            "|BY              |12310|\n",
            "|BZ              |10451|\n",
            "|CA              |10676|\n",
            "|CD              |9131 |\n",
            "|CF              |10019|\n",
            "|CG              |8170 |\n",
            "|CH              |10471|\n",
            "|CI              |12288|\n",
            "|CL              |12182|\n",
            "|CM              |9513 |\n",
            "|CN              |12448|\n",
            "|CO              |10258|\n",
            "|CR              |8429 |\n",
            "|CU              |11143|\n",
            "|CV              |8530 |\n",
            "|CY              |10115|\n",
            "|CZ              |12286|\n",
            "|DE              |11223|\n",
            "|DJ              |10069|\n",
            "|DK              |11618|\n",
            "|DM              |8988 |\n",
            "|DO              |8852 |\n",
            "|DZ              |12367|\n",
            "|EC              |10305|\n",
            "+----------------+-----+\n",
            "only showing top 50 rows\n",
            "\n",
            "\n",
            "🔹 Распределение значений в колонке: country\n",
            "+-------+-----+\n",
            "|country|count|\n",
            "+-------+-----+\n",
            "|AD     |10146|\n",
            "|AE     |11417|\n",
            "|AF     |10600|\n",
            "|AG     |9388 |\n",
            "|AL     |10138|\n",
            "|AM     |10249|\n",
            "|AO     |10401|\n",
            "|AR     |9884 |\n",
            "|AT     |11045|\n",
            "|AU     |10115|\n",
            "|AZ     |10213|\n",
            "|BA     |10979|\n",
            "|BB     |10324|\n",
            "|BD     |8913 |\n",
            "|BE     |8732 |\n",
            "|BF     |10233|\n",
            "|BG     |10889|\n",
            "|BH     |10234|\n",
            "|BI     |11005|\n",
            "|BJ     |10897|\n",
            "|BN     |9807 |\n",
            "|BO     |9700 |\n",
            "|BR     |9485 |\n",
            "|BS     |11479|\n",
            "|BT     |10533|\n",
            "|BW     |11064|\n",
            "|BY     |11085|\n",
            "|BZ     |9903 |\n",
            "|CA     |9998 |\n",
            "|CD     |11163|\n",
            "|CF     |10164|\n",
            "|CG     |10751|\n",
            "|CH     |10259|\n",
            "|CI     |10208|\n",
            "|CL     |9905 |\n",
            "|CM     |10006|\n",
            "|CN     |9720 |\n",
            "|CO     |10926|\n",
            "|CR     |11188|\n",
            "|CU     |9325 |\n",
            "|CV     |11080|\n",
            "|CY     |10555|\n",
            "|CZ     |10865|\n",
            "|DE     |9532 |\n",
            "|DJ     |9773 |\n",
            "|DK     |10806|\n",
            "|DM     |10196|\n",
            "|DO     |9413 |\n",
            "|DZ     |11599|\n",
            "|EC     |9368 |\n",
            "+-------+-----+\n",
            "only showing top 50 rows\n",
            "\n",
            "\n",
            "🔹 Распределение значений в колонке: device_type\n",
            "+-----------+-------+\n",
            "|device_type|count  |\n",
            "+-----------+-------+\n",
            "|desktop    |595765 |\n",
            "|mobile     |1199723|\n",
            "|tablet     |204512 |\n",
            "+-----------+-------+\n",
            "\n",
            "\n",
            "🔹 Распределение значений в колонке: merchant_name\n",
            "+-----------------------------+-----+\n",
            "|merchant_name                |count|\n",
            "+-----------------------------+-----+\n",
            "|Abbott PLC                   |205  |\n",
            "|Abbott, Bryant and Johnson   |202  |\n",
            "|Abbott, Hood and Charles     |212  |\n",
            "|Abbott, Norman and Sanchez   |186  |\n",
            "|Abbott-Jones                 |187  |\n",
            "|Acevedo Ltd                  |196  |\n",
            "|Acevedo and Sons             |187  |\n",
            "|Acevedo, Rogers and Bailey   |221  |\n",
            "|Acevedo, Smith and Evans     |165  |\n",
            "|Acevedo, Thomas and Glass    |198  |\n",
            "|Acosta Group                 |187  |\n",
            "|Acosta Inc                   |201  |\n",
            "|Acosta, Adams and Rivera     |214  |\n",
            "|Acosta, Carey and Farmer     |187  |\n",
            "|Acosta, Fowler and Clark     |189  |\n",
            "|Acosta, Turner and Cohen     |193  |\n",
            "|Acosta-Herrera               |206  |\n",
            "|Acosta-Peters                |211  |\n",
            "|Acosta-Solis                 |224  |\n",
            "|Adams Group                  |228  |\n",
            "|Adams Inc                    |398  |\n",
            "|Adams LLC                    |417  |\n",
            "|Adams Ltd                    |194  |\n",
            "|Adams PLC                    |593  |\n",
            "|Adams and Sons               |366  |\n",
            "|Adams, Anderson and Weiss    |194  |\n",
            "|Adams, Bell and Yang         |228  |\n",
            "|Adams, Chambers and Matthews |212  |\n",
            "|Adams, Christensen and Barker|209  |\n",
            "|Adams, Conner and Leon       |189  |\n",
            "|Adams, French and Williams   |189  |\n",
            "|Adams, Fry and Clark         |203  |\n",
            "|Adams, Graham and York       |197  |\n",
            "|Adams, Jones and Gonzalez    |199  |\n",
            "|Adams, Lopez and Mosley      |206  |\n",
            "|Adams, Mccormick and Everett |223  |\n",
            "|Adams, Nichols and Schmidt   |182  |\n",
            "|Adams, Wong and Woodard      |210  |\n",
            "|Adams-Burke                  |198  |\n",
            "|Adams-Cox                    |206  |\n",
            "|Adams-Davis                  |193  |\n",
            "|Adams-Long                   |203  |\n",
            "|Adams-Martinez               |196  |\n",
            "|Adams-Riley                  |228  |\n",
            "|Adams-Rodriguez              |219  |\n",
            "|Adams-Smith                  |205  |\n",
            "|Adams-Sullivan               |191  |\n",
            "|Adkins Inc                   |189  |\n",
            "|Adkins Ltd                   |412  |\n",
            "|Adkins and Sons              |199  |\n",
            "+-----------------------------+-----+\n",
            "only showing top 50 rows\n",
            "\n"
          ]
        }
      ]
    },
    {
      "cell_type": "code",
      "source": [
        "# Например, для логических и категориальных числовых столбцов:\n",
        "int_cols = [f.name for f in df.schema.fields if f.dataType.simpleString() in ['int', 'boolean']]\n",
        "\n",
        "for col_name in int_cols:\n",
        "    print(f\"\\n🔹 Распределение значений в колонке: {col_name}\")\n",
        "    df.groupBy(col(col_name)).count().orderBy(col(col_name)).show()\n"
      ],
      "metadata": {
        "colab": {
          "base_uri": "https://localhost:8080/"
        },
        "id": "jjPl-wg5402B",
        "outputId": "80d455e3-3008-4fc7-eb0b-522da4d486aa"
      },
      "execution_count": 21,
      "outputs": [
        {
          "output_type": "stream",
          "name": "stdout",
          "text": [
            "\n",
            "🔹 Распределение значений в колонке: is_fraud\n",
            "+--------+-------+\n",
            "|is_fraud|  count|\n",
            "+--------+-------+\n",
            "|       0|1990000|\n",
            "|       1|  10000|\n",
            "+--------+-------+\n",
            "\n",
            "\n",
            "🔹 Распределение значений в колонке: is_foreign\n",
            "+----------+-------+\n",
            "|is_foreign|  count|\n",
            "+----------+-------+\n",
            "|         0|1680122|\n",
            "|         1| 319878|\n",
            "+----------+-------+\n",
            "\n",
            "\n",
            "🔹 Распределение значений в колонке: is_online\n",
            "+---------+-------+\n",
            "|is_online|  count|\n",
            "+---------+-------+\n",
            "|        0| 799932|\n",
            "|        1|1200068|\n",
            "+---------+-------+\n",
            "\n",
            "\n",
            "🔹 Распределение значений в колонке: is_night\n",
            "+--------+-------+\n",
            "|is_night|  count|\n",
            "+--------+-------+\n",
            "|       0|1412365|\n",
            "|       1| 587635|\n",
            "+--------+-------+\n",
            "\n",
            "\n",
            "🔹 Распределение значений в колонке: is_weekend\n",
            "+----------+-------+\n",
            "|is_weekend|  count|\n",
            "+----------+-------+\n",
            "|         0|1442064|\n",
            "|         1| 557936|\n",
            "+----------+-------+\n",
            "\n",
            "\n",
            "🔹 Распределение значений в колонке: day_of_week\n",
            "+-----------+------+\n",
            "|day_of_week| count|\n",
            "+-----------+------+\n",
            "|          0|300758|\n",
            "|          1|299766|\n",
            "|          2|300340|\n",
            "|          3|274702|\n",
            "|          4|266498|\n",
            "|          5|266784|\n",
            "|          6|291152|\n",
            "+-----------+------+\n",
            "\n",
            "\n",
            "🔹 Распределение значений в колонке: age\n",
            "+---+-----+\n",
            "|age|count|\n",
            "+---+-----+\n",
            "| 18|36441|\n",
            "| 19|38389|\n",
            "| 20|38316|\n",
            "| 21|38986|\n",
            "| 22|38551|\n",
            "| 23|36759|\n",
            "| 24|37880|\n",
            "| 25|38145|\n",
            "| 26|38420|\n",
            "| 27|38881|\n",
            "| 28|37826|\n",
            "| 29|37122|\n",
            "| 30|42120|\n",
            "| 31|37621|\n",
            "| 32|40739|\n",
            "| 33|38899|\n",
            "| 34|41319|\n",
            "| 35|39673|\n",
            "| 36|38599|\n",
            "| 37|36356|\n",
            "+---+-----+\n",
            "only showing top 20 rows\n",
            "\n",
            "\n",
            "🔹 Распределение значений в колонке: income\n",
            "+------+-----+\n",
            "|income|count|\n",
            "+------+-----+\n",
            "|  2361|   32|\n",
            "|  2571|   43|\n",
            "|  2754|   31|\n",
            "|  3266|   37|\n",
            "|  3418|   41|\n",
            "|  3583|   32|\n",
            "|  3651|   36|\n",
            "|  3765|   50|\n",
            "|  3837|   41|\n",
            "|  3917|   36|\n",
            "|  3928|   57|\n",
            "|  3951|   36|\n",
            "|  3968|   82|\n",
            "|  3981|   42|\n",
            "|  3984|   88|\n",
            "|  4007|   42|\n",
            "|  4036|   37|\n",
            "|  4089|   38|\n",
            "|  4147|   34|\n",
            "|  4171|   43|\n",
            "+------+-----+\n",
            "only showing top 20 rows\n",
            "\n",
            "\n",
            "🔹 Распределение значений в колонке: credit_score\n",
            "+------------+-----+\n",
            "|credit_score|count|\n",
            "+------------+-----+\n",
            "|         300|  359|\n",
            "|         302|   39|\n",
            "|         303|   47|\n",
            "|         306|   38|\n",
            "|         307|   39|\n",
            "|         308|   41|\n",
            "|         310|   70|\n",
            "|         312|   35|\n",
            "|         313|   92|\n",
            "|         317|   37|\n",
            "|         318|   33|\n",
            "|         319|   31|\n",
            "|         321|   46|\n",
            "|         322|   45|\n",
            "|         325|   36|\n",
            "|         326|   33|\n",
            "|         328|   42|\n",
            "|         330|  133|\n",
            "|         331|   39|\n",
            "|         334|   86|\n",
            "+------------+-----+\n",
            "only showing top 20 rows\n",
            "\n",
            "\n",
            "🔹 Распределение значений в колонке: rule_high_amount_night\n",
            "+----------------------+-------+\n",
            "|rule_high_amount_night|  count|\n",
            "+----------------------+-------+\n",
            "|                     0|1954925|\n",
            "|                     1|  45075|\n",
            "+----------------------+-------+\n",
            "\n",
            "\n",
            "🔹 Распределение значений в колонке: rule_foreign_new_device\n",
            "+-----------------------+-------+\n",
            "|rule_foreign_new_device|  count|\n",
            "+-----------------------+-------+\n",
            "|                      0|1848506|\n",
            "|                      1| 151494|\n",
            "+-----------------------+-------+\n",
            "\n",
            "\n",
            "🔹 Распределение значений в колонке: rule_high_risk_merchant\n",
            "+-----------------------+-------+\n",
            "|rule_high_risk_merchant|  count|\n",
            "+-----------------------+-------+\n",
            "|                      0|1935910|\n",
            "|                      1|  64090|\n",
            "+-----------------------+-------+\n",
            "\n",
            "\n",
            "🔹 Распределение значений в колонке: rule_fast_sequence\n",
            "+------------------+-------+\n",
            "|rule_fast_sequence|  count|\n",
            "+------------------+-------+\n",
            "|                 0|1989286|\n",
            "|                 1|  10714|\n",
            "+------------------+-------+\n",
            "\n",
            "\n",
            "🔹 Распределение значений в колонке: rule_country_change\n",
            "+-------------------+-------+\n",
            "|rule_country_change|  count|\n",
            "+-------------------+-------+\n",
            "|                  0|1818419|\n",
            "|                  1| 181581|\n",
            "+-------------------+-------+\n",
            "\n",
            "\n",
            "🔹 Распределение значений в колонке: is_active\n",
            "+---------+-------+\n",
            "|is_active|  count|\n",
            "+---------+-------+\n",
            "|    false| 300919|\n",
            "|     true|1699081|\n",
            "+---------+-------+\n",
            "\n"
          ]
        }
      ]
    },
    {
      "cell_type": "code",
      "source": [
        "from pyspark.sql.functions import col\n",
        "\n",
        "# Фильтруем NULL, группируем по ip_address и считаем количество\n",
        "ip_counts = df.filter(col(\"operating_system\").isNotNull()) \\\n",
        "              .groupBy(\"operating_system\") \\\n",
        "              .count() \\\n",
        "              .orderBy(\"count\", ascending=False)\n",
        "\n",
        "# Показываем топ-N самых частых IP-адресов\n",
        "ip_counts.show(20, truncate=False)"
      ],
      "metadata": {
        "colab": {
          "base_uri": "https://localhost:8080/"
        },
        "id": "NxspmUXl7WYr",
        "outputId": "166cdef8-7c0c-45d8-9964-b1b9c6052b09"
      },
      "execution_count": 22,
      "outputs": [
        {
          "output_type": "stream",
          "name": "stdout",
          "text": [
            "+----------------+------+\n",
            "|operating_system|count |\n",
            "+----------------+------+\n",
            "|Android         |600459|\n",
            "|iOS             |600046|\n",
            "|Windows         |399743|\n",
            "|MacOS           |199551|\n",
            "+----------------+------+\n",
            "\n"
          ]
        }
      ]
    },
    {
      "cell_type": "code",
      "source": [
        "df_result = df.drop(\"ip_address\")\n"
      ],
      "metadata": {
        "id": "EbHJfDht9txB"
      },
      "execution_count": 23,
      "outputs": []
    },
    {
      "cell_type": "code",
      "source": [
        "count_fraud_null = df.filter(col(\"operating_system\").isNull() & (col(\"is_fraud\") == True)).count()\n",
        "\n",
        "print(f\"Количество таких строк: {count_fraud_null}\")\n"
      ],
      "metadata": {
        "colab": {
          "base_uri": "https://localhost:8080/"
        },
        "id": "JYrXRa-5-qjq",
        "outputId": "4be55530-de77-4e62-da9f-e7ff4ae7db0f"
      },
      "execution_count": 24,
      "outputs": [
        {
          "output_type": "stream",
          "name": "stdout",
          "text": [
            "Количество таких строк: 1016\n"
          ]
        }
      ]
    },
    {
      "cell_type": "code",
      "source": [
        "df = df.fillna({\"operating_system\": \"Unknown\"})\n"
      ],
      "metadata": {
        "id": "5ElUV4po_w0X"
      },
      "execution_count": 25,
      "outputs": []
    },
    {
      "cell_type": "code",
      "source": [
        "from pyspark.sql.functions import col\n",
        "\n",
        "# Фильтруем NULL, группируем по ip_address и считаем количество\n",
        "ip_counts = df.filter(col(\"operating_system\").isNotNull()) \\\n",
        "              .groupBy(\"operating_system\") \\\n",
        "              .count() \\\n",
        "              .orderBy(\"count\", ascending=False)\n",
        "\n",
        "# Показываем топ-N самых частых IP-адресов\n",
        "ip_counts.show(20, truncate=False)"
      ],
      "metadata": {
        "colab": {
          "base_uri": "https://localhost:8080/"
        },
        "id": "COaeUslW_3rP",
        "outputId": "49ed1f7b-9f4d-4fb0-b57a-6f5c3e6f2cc0"
      },
      "execution_count": 26,
      "outputs": [
        {
          "output_type": "stream",
          "name": "stdout",
          "text": [
            "+----------------+------+\n",
            "|operating_system|count |\n",
            "+----------------+------+\n",
            "|Android         |600459|\n",
            "|iOS             |600046|\n",
            "|Windows         |399743|\n",
            "|Unknown         |200201|\n",
            "|MacOS           |199551|\n",
            "+----------------+------+\n",
            "\n"
          ]
        }
      ]
    },
    {
      "cell_type": "code",
      "source": [
        "count_fraud_null = df.filter(col(\"device_id\").isNull() & (col(\"is_fraud\") == True)).count()\n",
        "\n",
        "print(f\"Количество таких строк: {count_fraud_null}\")\n"
      ],
      "metadata": {
        "colab": {
          "base_uri": "https://localhost:8080/"
        },
        "id": "xkgbyUAGBl41",
        "outputId": "379819c7-c2e3-4554-9049-f4107898775c"
      },
      "execution_count": 27,
      "outputs": [
        {
          "output_type": "stream",
          "name": "stdout",
          "text": [
            "Количество таких строк: 4993\n"
          ]
        }
      ]
    },
    {
      "cell_type": "code",
      "source": [
        "df_result = df.drop(\"ip_address\", \"device_id\")"
      ],
      "metadata": {
        "id": "Qy7uId9NB1xk"
      },
      "execution_count": 28,
      "outputs": []
    },
    {
      "cell_type": "code",
      "source": [
        "df_result.select([spark_sum(col(c).isNull().cast(\"int\")).alias(c) for c in df_result.columns]).show()\n"
      ],
      "metadata": {
        "colab": {
          "base_uri": "https://localhost:8080/"
        },
        "id": "OiCysYP0B_o_",
        "outputId": "7bf338bc-6e9c-43fa-993b-69f1fbe28a35"
      },
      "execution_count": 29,
      "outputs": [
        {
          "output_type": "stream",
          "name": "stdout",
          "text": [
            "+-----------+-----------+--------------+---------+----+------+--------+--------+----------+---------+--------+----------+----+-----------+----------------+---+------+------------+-----------------+----------+----------------+----------------+------------------+----------------------+-----------------------+-----------------------+------------------+-------------------+-----------------+---------+-------+-----------+----------------------+---------------------+-------------+\n",
            "|merchant_id|customer_id|transaction_id|timestamp|date|amount|currency|is_fraud|is_foreign|is_online|is_night|is_weekend|hour|day_of_week|operating_system|age|income|credit_score|merchant_category|risk_score|merchant_country|amount_deviation|time_since_last_tx|rule_high_amount_night|rule_foreign_new_device|rule_high_risk_merchant|rule_fast_sequence|rule_country_change|registration_date|is_active|country|device_type|avg_transaction_amount|transaction_frequency|merchant_name|\n",
            "+-----------+-----------+--------------+---------+----+------+--------+--------+----------+---------+--------+----------+----+-----------+----------------+---+------+------------+-----------------+----------+----------------+----------------+------------------+----------------------+-----------------------+-----------------------+------------------+-------------------+-----------------+---------+-------+-----------+----------------------+---------------------+-------------+\n",
            "|          0|          0|             0|        0|   0|     0|       0|       0|         0|        0|       0|         0|   0|          0|               0|  0|     0|           0|                0|         0|               0|               0|                 0|                     0|                      0|                      0|                 0|                  0|                0|        0|      0|          0|                     0|                    0|            0|\n",
            "+-----------+-----------+--------------+---------+----+------+--------+--------+----------+---------+--------+----------+----+-----------+----------------+---+------+------------+-----------------+----------+----------------+----------------+------------------+----------------------+-----------------------+-----------------------+------------------+-------------------+-----------------+---------+-------+-----------+----------------------+---------------------+-------------+\n",
            "\n"
          ]
        }
      ]
    },
    {
      "cell_type": "code",
      "source": [
        "df_result.printSchema()"
      ],
      "metadata": {
        "colab": {
          "base_uri": "https://localhost:8080/"
        },
        "id": "_F6E4Ju3CSC3",
        "outputId": "8bb96e58-70d8-47af-8114-d1f4fdb0da82"
      },
      "execution_count": 30,
      "outputs": [
        {
          "output_type": "stream",
          "name": "stdout",
          "text": [
            "root\n",
            " |-- merchant_id: string (nullable = true)\n",
            " |-- customer_id: string (nullable = true)\n",
            " |-- transaction_id: string (nullable = true)\n",
            " |-- timestamp: timestamp (nullable = true)\n",
            " |-- date: date (nullable = true)\n",
            " |-- amount: double (nullable = true)\n",
            " |-- currency: string (nullable = true)\n",
            " |-- is_fraud: integer (nullable = true)\n",
            " |-- is_foreign: integer (nullable = true)\n",
            " |-- is_online: integer (nullable = true)\n",
            " |-- is_night: integer (nullable = true)\n",
            " |-- is_weekend: integer (nullable = true)\n",
            " |-- hour: double (nullable = true)\n",
            " |-- day_of_week: integer (nullable = true)\n",
            " |-- operating_system: string (nullable = false)\n",
            " |-- age: integer (nullable = true)\n",
            " |-- income: integer (nullable = true)\n",
            " |-- credit_score: integer (nullable = true)\n",
            " |-- merchant_category: string (nullable = true)\n",
            " |-- risk_score: double (nullable = true)\n",
            " |-- merchant_country: string (nullable = true)\n",
            " |-- amount_deviation: double (nullable = true)\n",
            " |-- time_since_last_tx: double (nullable = true)\n",
            " |-- rule_high_amount_night: integer (nullable = true)\n",
            " |-- rule_foreign_new_device: integer (nullable = true)\n",
            " |-- rule_high_risk_merchant: integer (nullable = true)\n",
            " |-- rule_fast_sequence: integer (nullable = true)\n",
            " |-- rule_country_change: integer (nullable = true)\n",
            " |-- registration_date: date (nullable = true)\n",
            " |-- is_active: boolean (nullable = true)\n",
            " |-- country: string (nullable = true)\n",
            " |-- device_type: string (nullable = true)\n",
            " |-- avg_transaction_amount: long (nullable = true)\n",
            " |-- transaction_frequency: long (nullable = true)\n",
            " |-- merchant_name: string (nullable = true)\n",
            "\n"
          ]
        }
      ]
    },
    {
      "cell_type": "markdown",
      "source": [
        "### Преобразование категориальных признаков в числовые"
      ],
      "metadata": {
        "id": "DI7rPC9YDMV-"
      }
    },
    {
      "cell_type": "code",
      "source": [
        "from pyspark.ml.feature import StringIndexer\n",
        "\n",
        "# Индексация категориальных признаков\n",
        "categorical_columns = ['merchant_id', 'currency', 'merchant_category', 'merchant_country', 'country', 'device_type', 'merchant_name', 'operating_system']\n",
        "\n",
        "for column in categorical_columns:\n",
        "    # Удаляем уже существующую колонку, если она есть\n",
        "    if column + \"_index\" in df_result.columns:\n",
        "        df_result = df_result.drop(column + \"_index\")\n",
        "\n",
        "    indexer = StringIndexer(inputCol=column, outputCol=column + \"_index\")\n",
        "    df_result = indexer.fit(df_result).transform(df_result)\n",
        "\n"
      ],
      "metadata": {
        "id": "lL0VqDxUCXV0"
      },
      "execution_count": 31,
      "outputs": []
    },
    {
      "cell_type": "markdown",
      "source": [
        "### Обработка бинарных признаков"
      ],
      "metadata": {
        "id": "H-Xy7y-0EVQG"
      }
    },
    {
      "cell_type": "code",
      "source": [
        "# Проверяем, что бинарные признаки представлены как 0 и 1\n",
        "binary_columns = ['is_fraud', 'is_foreign', 'is_online', 'is_night', 'is_weekend', 'rule_high_amount_night',\n",
        "                  'rule_foreign_new_device', 'rule_high_risk_merchant', 'rule_fast_sequence', 'rule_country_change']\n",
        "for column in binary_columns:\n",
        "    df_result = df_result.withColumn(column, col(column).cast(\"integer\"))\n"
      ],
      "metadata": {
        "id": "qXR7ia2tEWjj"
      },
      "execution_count": 32,
      "outputs": []
    },
    {
      "cell_type": "markdown",
      "source": [
        "### Масштабирование числовых признаков"
      ],
      "metadata": {
        "id": "iBsIFKYfEjkd"
      }
    },
    {
      "cell_type": "code",
      "source": [
        "from pyspark.ml.feature import StandardScaler\n",
        "from pyspark.ml.linalg import Vectors\n",
        "from pyspark.sql.functions import col\n",
        "\n",
        "# Выбираем числовые признаки\n",
        "numerical_columns = ['amount', 'age', 'income', 'credit_score', 'risk_score', 'amount_deviation', 'time_since_last_tx']\n",
        "\n",
        "# Создаем вектор для масштабирования\n",
        "assembler = VectorAssembler(inputCols=numerical_columns, outputCol=\"features\")\n",
        "df_result = assembler.transform(df_result)\n",
        "\n",
        "# Масштабируем данные\n",
        "scaler = StandardScaler(inputCol=\"features\", outputCol=\"scaled_features\", withStd=True, withMean=False)\n",
        "scaler_model = scaler.fit(df_result)\n",
        "df_result = scaler_model.transform(df_result)\n",
        "\n",
        "# Удаляем колонку 'features' (она больше не нужна)\n",
        "df_result = df_result.drop(\"features\")\n"
      ],
      "metadata": {
        "id": "U5AO6ThWEdxT"
      },
      "execution_count": 33,
      "outputs": []
    },
    {
      "cell_type": "markdown",
      "source": [
        "### Трансформация времени"
      ],
      "metadata": {
        "id": "4_02bvyWFBbF"
      }
    },
    {
      "cell_type": "code",
      "source": [
        "from pyspark.sql.functions import dayofweek, hour, month, year\n",
        "\n",
        "df_result = df_result.withColumn(\"day_of_week\", dayofweek(col(\"timestamp\")))\n",
        "df_result = df_result.withColumn(\"hour\", hour(col(\"timestamp\")))\n",
        "df_result = df_result.withColumn(\"month\", month(col(\"timestamp\")))\n",
        "df_result = df_result.withColumn(\"year\", year(col(\"timestamp\")))\n"
      ],
      "metadata": {
        "id": "fY3SxkwxFCwa"
      },
      "execution_count": 34,
      "outputs": []
    },
    {
      "cell_type": "code",
      "source": [
        "df_result.show(5)"
      ],
      "metadata": {
        "colab": {
          "base_uri": "https://localhost:8080/"
        },
        "id": "yzQLPU-1FMSi",
        "outputId": "16a76f33-615c-4d48-9588-6ece2a191f9c"
      },
      "execution_count": 35,
      "outputs": [
        {
          "output_type": "stream",
          "name": "stdout",
          "text": [
            "+-----------+-----------+--------------+--------------------+----------+------------------+--------+--------+----------+---------+--------+----------+----+-----------+----------------+---+------+------------+-----------------+------------------+----------------+--------------------+------------------+----------------------+-----------------------+-----------------------+------------------+-------------------+-----------------+---------+-------+-----------+----------------------+---------------------+--------------------+-----------------+--------------+-----------------------+----------------------+-------------+-----------------+-------------------+----------------------+--------------------+-----+----+\n",
            "|merchant_id|customer_id|transaction_id|           timestamp|      date|            amount|currency|is_fraud|is_foreign|is_online|is_night|is_weekend|hour|day_of_week|operating_system|age|income|credit_score|merchant_category|        risk_score|merchant_country|    amount_deviation|time_since_last_tx|rule_high_amount_night|rule_foreign_new_device|rule_high_risk_merchant|rule_fast_sequence|rule_country_change|registration_date|is_active|country|device_type|avg_transaction_amount|transaction_frequency|       merchant_name|merchant_id_index|currency_index|merchant_category_index|merchant_country_index|country_index|device_type_index|merchant_name_index|operating_system_index|     scaled_features|month|year|\n",
            "+-----------+-----------+--------------+--------------------+----------+------------------+--------+--------+----------+---------+--------+----------+----+-----------+----------------+---+------+------------+-----------------+------------------+----------------+--------------------+------------------+----------------------+-----------------------+-----------------------+------------------+-------------------+-----------------+---------+-------+-----------+----------------------+---------------------+--------------------+-----------------+--------------+-----------------------+----------------------+-------------+-----------------+-------------------+----------------------+--------------------+-----+----+\n",
            "|    M008908|    C008610|     T00571253|2025-02-25 06:52:...|2025-02-25|345.58186301632423|     USD|       0|         0|        0|       0|         0|   6|          3|         Unknown| 36| 18698|         646|           travel|              0.02|              VE|  0.2113840830449826| 37.25410320938716|                     0|                      0|                      0|                 0|                  0|       2022-10-17|     true|     NZ|     tablet|                   289|                    8|       Young-Johnson|           1058.0|           0.0|                    6.0|                  41.0|         32.0|              2.0|             1587.0|                   3.0|[1.36273996679759...|    2|2025|\n",
            "|    M009900|    C022511|     T00571254|2025-03-28 10:43:...|2025-03-28| 279.6787951231888|     EUR|       0|         0|        0|       0|         0|  10|          6|             iOS| 25|  9421|         668|         services|0.8519543953510891|              AM|   2.329878048780488| 12.12917963277563|                     0|                      0|                      1|                 0|                  0|       2021-07-02|     true|     AG|     tablet|                    82|                    3|Martin, Moreno an...|           9182.0|           1.0|                    0.0|                   6.0|        176.0|              2.0|             7946.0|                   1.0|[1.10286306304842...|    3|2025|\n",
            "|    M001094|    C038295|     T00571255|2025-03-22 17:15:...|2025-03-22| 35.06248515089446|     EUR|       0|         1|        0|       0|         1|  17|          7|         Android| 62| 24601|         717|         services|              0.19|              LV| -0.7264655172413793| 5.148566040041109|                     0|                      0|                      0|                 0|                  1|       2021-03-24|     true|     MM|    desktop|                   116|                    8|Aguilar, Hill and...|           5112.0|           1.0|                    0.0|                 126.0|         56.0|              1.0|             4761.0|                   0.0|[0.13826260855626...|    3|2025|\n",
            "|    M006987|    C037959|     T00571256|2025-02-24 09:40:...|2025-02-24| 123.6396203506149|     GBP|       0|         1|        0|       0|         0|   9|          2|           MacOS| 23| 28756|         597|           travel|              0.03|              NO|-0.05647540983606...| 23.85826127538488|                     0|                      1|                      0|                 0|                  0|       2021-05-09|     true|     SI|     tablet|                   122|                    9|      Meyer-Mcdonald|           7175.0|           2.0|                    6.0|                  65.0|        140.0|              2.0|             6371.0|                   4.0|[0.48755062161206...|    2|2025|\n",
            "|    M005145|    C029308|     T00571257|2025-03-03 14:49:...|2025-03-03| 235.5344775346398|     EUR|       0|         0|        1|       0|         0|  14|          2|         Windows| 41| 18316|         374|        groceries|              0.15|              TZ|  1.6936250000000002| 9.267828050753794|                     0|                      0|                      0|                 0|                  0|       2022-12-31|     true|     TG|    desktop|                    80|                    5|             Lee PLC|           6884.0|           1.0|                    2.0|                  98.0|         23.0|              1.0|              105.0|                   2.0|[0.92878788051467...|    3|2025|\n",
            "+-----------+-----------+--------------+--------------------+----------+------------------+--------+--------+----------+---------+--------+----------+----+-----------+----------------+---+------+------------+-----------------+------------------+----------------+--------------------+------------------+----------------------+-----------------------+-----------------------+------------------+-------------------+-----------------+---------+-------+-----------+----------------------+---------------------+--------------------+-----------------+--------------+-----------------------+----------------------+-------------+-----------------+-------------------+----------------------+--------------------+-----+----+\n",
            "only showing top 5 rows\n",
            "\n"
          ]
        }
      ]
    },
    {
      "cell_type": "markdown",
      "source": [
        "### Преобразование булевых признаков в 0 и 1"
      ],
      "metadata": {
        "id": "T8LGi8XPFdD-"
      }
    },
    {
      "cell_type": "code",
      "source": [
        "# Преобразуем булевые значения в 0 и 1\n",
        "df_result = df_result.withColumn(\"is_active\", col(\"is_active\").cast(\"integer\"))\n"
      ],
      "metadata": {
        "id": "j3ZiJFKzFP_8"
      },
      "execution_count": 36,
      "outputs": []
    },
    {
      "cell_type": "code",
      "source": [
        "df_result.printSchema()"
      ],
      "metadata": {
        "colab": {
          "base_uri": "https://localhost:8080/"
        },
        "id": "31weskNpGFnu",
        "outputId": "58f3fabc-e8c4-4a0f-b485-9f3d83e69d2c"
      },
      "execution_count": 37,
      "outputs": [
        {
          "output_type": "stream",
          "name": "stdout",
          "text": [
            "root\n",
            " |-- merchant_id: string (nullable = true)\n",
            " |-- customer_id: string (nullable = true)\n",
            " |-- transaction_id: string (nullable = true)\n",
            " |-- timestamp: timestamp (nullable = true)\n",
            " |-- date: date (nullable = true)\n",
            " |-- amount: double (nullable = true)\n",
            " |-- currency: string (nullable = true)\n",
            " |-- is_fraud: integer (nullable = true)\n",
            " |-- is_foreign: integer (nullable = true)\n",
            " |-- is_online: integer (nullable = true)\n",
            " |-- is_night: integer (nullable = true)\n",
            " |-- is_weekend: integer (nullable = true)\n",
            " |-- hour: integer (nullable = true)\n",
            " |-- day_of_week: integer (nullable = true)\n",
            " |-- operating_system: string (nullable = false)\n",
            " |-- age: integer (nullable = true)\n",
            " |-- income: integer (nullable = true)\n",
            " |-- credit_score: integer (nullable = true)\n",
            " |-- merchant_category: string (nullable = true)\n",
            " |-- risk_score: double (nullable = true)\n",
            " |-- merchant_country: string (nullable = true)\n",
            " |-- amount_deviation: double (nullable = true)\n",
            " |-- time_since_last_tx: double (nullable = true)\n",
            " |-- rule_high_amount_night: integer (nullable = true)\n",
            " |-- rule_foreign_new_device: integer (nullable = true)\n",
            " |-- rule_high_risk_merchant: integer (nullable = true)\n",
            " |-- rule_fast_sequence: integer (nullable = true)\n",
            " |-- rule_country_change: integer (nullable = true)\n",
            " |-- registration_date: date (nullable = true)\n",
            " |-- is_active: integer (nullable = true)\n",
            " |-- country: string (nullable = true)\n",
            " |-- device_type: string (nullable = true)\n",
            " |-- avg_transaction_amount: long (nullable = true)\n",
            " |-- transaction_frequency: long (nullable = true)\n",
            " |-- merchant_name: string (nullable = true)\n",
            " |-- merchant_id_index: double (nullable = false)\n",
            " |-- currency_index: double (nullable = false)\n",
            " |-- merchant_category_index: double (nullable = false)\n",
            " |-- merchant_country_index: double (nullable = false)\n",
            " |-- country_index: double (nullable = false)\n",
            " |-- device_type_index: double (nullable = false)\n",
            " |-- merchant_name_index: double (nullable = false)\n",
            " |-- operating_system_index: double (nullable = false)\n",
            " |-- scaled_features: vector (nullable = true)\n",
            " |-- month: integer (nullable = true)\n",
            " |-- year: integer (nullable = true)\n",
            "\n"
          ]
        }
      ]
    },
    {
      "cell_type": "code",
      "source": [
        "# Список колонок, которые нужно оставить\n",
        "columns_to_keep = [\n",
        "    'merchant_id', 'customer_id', 'amount', 'currency', 'is_fraud', 'is_foreign', 'is_online',\n",
        "    'is_night', 'is_weekend', 'hour', 'day_of_week', 'operating_system', 'age', 'income', 'credit_score',\n",
        "    'merchant_category', 'risk_score', 'merchant_country', 'amount_deviation', 'time_since_last_tx',\n",
        "    'rule_high_amount_night', 'rule_foreign_new_device', 'rule_high_risk_merchant', 'rule_fast_sequence',\n",
        "    'rule_country_change', 'is_active', 'country', 'device_type', 'avg_transaction_amount',\n",
        "    'transaction_frequency', 'merchant_name', 'month', 'year',\n",
        "    'merchant_id_index', 'currency_index', 'merchant_category_index', 'merchant_country_index',\n",
        "    'country_index', 'device_type_index', 'merchant_name_index', 'operating_system_index', 'scaled_features'\n",
        "]\n",
        "\n",
        "# Удаляем все колонки, которые не указаны в columns_to_keep\n",
        "columns_to_drop = [col for col in df_result.columns if col not in columns_to_keep]\n",
        "df_result = df_result.drop(*columns_to_drop)\n"
      ],
      "metadata": {
        "id": "IFlqVH9OGJk6"
      },
      "execution_count": 38,
      "outputs": []
    },
    {
      "cell_type": "markdown",
      "source": [
        "### Разделение данных на тренировочную и тестовую выборки"
      ],
      "metadata": {
        "id": "JpMWUc6cGll0"
      }
    },
    {
      "cell_type": "code",
      "source": [
        "train_df, test_df = df_result.randomSplit([0.8, 0.2], seed=1234)\n"
      ],
      "metadata": {
        "id": "s6BG6eo3Gnop"
      },
      "execution_count": 39,
      "outputs": []
    },
    {
      "cell_type": "markdown",
      "source": [
        "### RandomForestClassifier"
      ],
      "metadata": {
        "id": "Yc0urVG_j6E4"
      }
    },
    {
      "cell_type": "code",
      "source": [
        "from pyspark.ml.classification import RandomForestClassifier\n",
        "\n",
        "# Пример: обучение модели Random Forest\n",
        "rf = RandomForestClassifier(labelCol=\"is_fraud\", featuresCol=\"scaled_features\")\n",
        "model = rf.fit(train_df)\n"
      ],
      "metadata": {
        "id": "LfMEZhk2G3yl"
      },
      "execution_count": 40,
      "outputs": []
    },
    {
      "cell_type": "code",
      "source": [
        "predictions = model.transform(test_df)\n"
      ],
      "metadata": {
        "id": "kOZE_BBiIBTh"
      },
      "execution_count": 41,
      "outputs": []
    },
    {
      "cell_type": "code",
      "source": [
        "from pyspark.ml.evaluation import BinaryClassificationEvaluator\n",
        "\n",
        "evaluator = BinaryClassificationEvaluator(\n",
        "    labelCol=\"is_fraud\",\n",
        "    rawPredictionCol=\"rawPrediction\",\n",
        "    metricName=\"areaUnderROC\"  # Можно также \"areaUnderPR\"\n",
        ")\n",
        "\n",
        "auc = evaluator.evaluate(predictions)\n",
        "print(f\"AUC: {auc}\")\n"
      ],
      "metadata": {
        "colab": {
          "base_uri": "https://localhost:8080/"
        },
        "id": "c3ldJjWjIJbh",
        "outputId": "5c66cb4e-735d-44c6-81ca-87908ffb8cb3"
      },
      "execution_count": 42,
      "outputs": [
        {
          "output_type": "stream",
          "name": "stdout",
          "text": [
            "AUC: 0.5828116245108013\n"
          ]
        }
      ]
    },
    {
      "cell_type": "markdown",
      "source": [
        "### Применим undersampling"
      ],
      "metadata": {
        "id": "4fWJRADOJuaa"
      }
    },
    {
      "cell_type": "code",
      "source": [
        "# Разделим данные на major (0) и minor (1)\n",
        "major_df = df_result.filter(df_result.is_fraud == 0)\n",
        "minor_df = df_result.filter(df_result.is_fraud == 1)\n",
        "\n",
        "# Посчитаем соотношение\n",
        "ratio = minor_df.count() / major_df.count()\n",
        "\n",
        "# Отсэмплируем majority класс (можно настроить множитель, например, x3)\n",
        "sampled_major_df = major_df.sample(withReplacement=False, fraction=ratio * 3)\n",
        "\n",
        "# Объединим в сбалансированный датафрейм\n",
        "balanced_df = sampled_major_df.union(minor_df)\n"
      ],
      "metadata": {
        "id": "2-HnvlYXI_Q3"
      },
      "execution_count": 43,
      "outputs": []
    },
    {
      "cell_type": "markdown",
      "source": [
        "### Перемешаем"
      ],
      "metadata": {
        "id": "UAV3Oyw1J1ZD"
      }
    },
    {
      "cell_type": "code",
      "source": [
        "from pyspark.sql import functions as F\n",
        "\n",
        "balanced_df = balanced_df.orderBy(F.rand())\n"
      ],
      "metadata": {
        "id": "EW3pN_RJJDSX"
      },
      "execution_count": 44,
      "outputs": []
    },
    {
      "cell_type": "code",
      "source": [
        "train_df, test_df = balanced_df.randomSplit([0.8, 0.2], seed=42)\n"
      ],
      "metadata": {
        "id": "ng-F7IG8JTKv"
      },
      "execution_count": 45,
      "outputs": []
    },
    {
      "cell_type": "code",
      "source": [
        "from pyspark.ml.classification import RandomForestClassifier\n",
        "\n",
        "rf = RandomForestClassifier(labelCol=\"is_fraud\", featuresCol=\"scaled_features\", seed=42)\n",
        "model = rf.fit(train_df)\n"
      ],
      "metadata": {
        "id": "l1MH8fN9JVnP"
      },
      "execution_count": 46,
      "outputs": []
    },
    {
      "cell_type": "code",
      "source": [
        "from pyspark.ml.evaluation import BinaryClassificationEvaluator\n",
        "\n",
        "predictions_rf = model.transform(test_df)\n",
        "\n",
        "evaluator = BinaryClassificationEvaluator(\n",
        "    labelCol=\"is_fraud\", rawPredictionCol=\"rawPrediction\", metricName=\"areaUnderROC\"\n",
        ")\n",
        "\n",
        "auc = evaluator.evaluate(predictions_rf)\n",
        "print(f\"AUC: {auc}\")\n"
      ],
      "metadata": {
        "colab": {
          "base_uri": "https://localhost:8080/"
        },
        "id": "leFZI5zhJZQ3",
        "outputId": "10727810-76aa-49ff-c300-e98db22dc4be"
      },
      "execution_count": 54,
      "outputs": [
        {
          "output_type": "stream",
          "name": "stdout",
          "text": [
            "AUC: 0.7736286303985586\n"
          ]
        }
      ]
    },
    {
      "cell_type": "markdown",
      "source": [
        "### Пример итогового пайплайна:"
      ],
      "metadata": {
        "id": "sun58ibDKuJY"
      }
    },
    {
      "cell_type": "markdown",
      "source": [
        "#### ✨ Перед обучением всегда чисти старые index-колонки, если переобучаешь пайплайн."
      ],
      "metadata": {
        "id": "RXi_W5pDLeKI"
      }
    },
    {
      "cell_type": "code",
      "source": [
        "# Удаляем ранее созданные индексированные колонки\n",
        "index_cols_to_remove = [\n",
        "    \"merchant_id_index\", \"currency_index\", \"merchant_category_index\",\n",
        "    \"merchant_country_index\", \"country_index\", \"device_type_index\",\n",
        "    \"merchant_name_index\", \"operating_system_index\"\n",
        "]\n",
        "\n",
        "train_df = train_df.drop(*index_cols_to_remove)\n",
        "test_df = test_df.drop(*index_cols_to_remove)\n"
      ],
      "metadata": {
        "id": "_Zp5PGWQLM0F"
      },
      "execution_count": 48,
      "outputs": []
    },
    {
      "cell_type": "markdown",
      "source": [
        "### DecisionTreeClassifier"
      ],
      "metadata": {
        "id": "opFjiXy1VxIL"
      }
    },
    {
      "cell_type": "code",
      "source": [
        "from pyspark.ml import Pipeline\n",
        "from pyspark.ml.classification import DecisionTreeClassifier\n",
        "from pyspark.ml.feature import StringIndexer, VectorAssembler\n",
        "from pyspark.ml.evaluation import BinaryClassificationEvaluator\n",
        "\n",
        "# Категориальные признаки с обработкой неизвестных меток\n",
        "indexers = [StringIndexer(inputCol=col, outputCol=col + \"_index\", handleInvalid=\"skip\")\n",
        "            for col in [\"merchant_id\", \"currency\", \"merchant_category\",\n",
        "                        \"merchant_country\", \"country\", \"device_type\",\n",
        "                        \"merchant_name\", \"operating_system\"]]\n",
        "\n",
        "# Числовые + индексированные признаки\n",
        "feature_cols = [\n",
        "    \"amount\", \"amount_deviation\", \"risk_score\", \"hour\", \"day_of_week\",\n",
        "    \"is_night\", \"is_weekend\", \"is_foreign\", \"is_online\",\n",
        "    \"merchant_id_index\", \"currency_index\", \"merchant_category_index\",\n",
        "    \"merchant_country_index\", \"country_index\", \"device_type_index\",\n",
        "    \"merchant_name_index\", \"operating_system_index\"\n",
        "]\n",
        "\n",
        "# Векторизация признаков\n",
        "assembler = VectorAssembler(inputCols=feature_cols, outputCol=\"features\")\n",
        "\n",
        "# # Модель\n",
        "# dt = DecisionTreeClassifier(labelCol=\"is_fraud\", featuresCol=\"features\",\n",
        "#                             maxDepth=10, minInstancesPerNode=100)\n",
        "\n",
        "# # Пайплайн\n",
        "# pipeline_dt = Pipeline(stages=indexers + [assembler, dt])\n",
        "\n",
        "# # Обучение\n",
        "# model_dt = pipeline_dt.fit(train_df)\n",
        "\n",
        "# # Предсказание\n",
        "# predictions_dt = model_dt.transform(test_df)\n",
        "\n",
        "# # AUC\n",
        "# evaluator = BinaryClassificationEvaluator(labelCol=\"is_fraud\", rawPredictionCol=\"rawPrediction\")\n",
        "# auc = evaluator.evaluate(predictions_dt)\n",
        "# print(f\"AUC: {auc:.4f}\")\n",
        "\n",
        "# Увеличиваем maxBins для дерева решений\n",
        "dt = DecisionTreeClassifier(labelCol=\"is_fraud\", featuresCol=\"features\",\n",
        "                            maxDepth=10, minInstancesPerNode=100, maxBins=10000)\n",
        "\n",
        "# Пайплайн\n",
        "pipeline_dt = Pipeline(stages=indexers + [assembler, dt])\n",
        "\n",
        "# Обучение\n",
        "model_dt = pipeline_dt.fit(train_df)\n",
        "\n",
        "# Предсказание\n",
        "predictions_dt = model_dt.transform(test_df)\n",
        "\n",
        "# AUC\n",
        "evaluator = BinaryClassificationEvaluator(labelCol=\"is_fraud\", rawPredictionCol=\"rawPrediction\")\n",
        "auc = evaluator.evaluate(predictions_dt)\n",
        "print(f\"AUC: {auc:.4f}\")\n"
      ],
      "metadata": {
        "colab": {
          "base_uri": "https://localhost:8080/"
        },
        "id": "cZIqod2wKqSv",
        "outputId": "391891d3-da0e-4591-d46d-e9264a37e821"
      },
      "execution_count": 49,
      "outputs": [
        {
          "output_type": "stream",
          "name": "stdout",
          "text": [
            "AUC: 0.8810\n"
          ]
        }
      ]
    },
    {
      "cell_type": "markdown",
      "source": [
        "### GBTClassifier (Gradient Boosted Trees)"
      ],
      "metadata": {
        "id": "mctG21ByXHRz"
      }
    },
    {
      "cell_type": "code",
      "source": [
        "from pyspark.ml.classification import GBTClassifier\n",
        "\n",
        "# GBTClassifier требует, чтобы метка была числовой с типом Double\n",
        "gbt = GBTClassifier(labelCol=\"is_fraud\", featuresCol=\"scaled_features\", seed=42)\n",
        "\n",
        "# Обучение модели\n",
        "model = gbt.fit(train_df)\n"
      ],
      "metadata": {
        "id": "rdKuBEauzY77"
      },
      "execution_count": 50,
      "outputs": []
    },
    {
      "cell_type": "code",
      "source": [
        "from pyspark.ml.evaluation import BinaryClassificationEvaluator\n",
        "\n",
        "# Предсказания на тестовых данных\n",
        "predictions_gbt = model.transform(test_df)\n",
        "\n",
        "# Оценка AUC\n",
        "evaluator = BinaryClassificationEvaluator(\n",
        "    labelCol=\"is_fraud\",\n",
        "    rawPredictionCol=\"rawPrediction\",  # GBTClassifier выводит rawPrediction\n",
        "    metricName=\"areaUnderROC\"\n",
        ")\n",
        "\n",
        "auc = evaluator.evaluate(predictions_gbt)\n",
        "print(f\"AUC: {auc:.4f}\")\n"
      ],
      "metadata": {
        "colab": {
          "base_uri": "https://localhost:8080/"
        },
        "id": "W5ZY6vruz4Cg",
        "outputId": "ef1ba3ae-185e-4349-8869-60b2b35354e8"
      },
      "execution_count": 55,
      "outputs": [
        {
          "output_type": "stream",
          "name": "stdout",
          "text": [
            "AUC: 0.7809\n"
          ]
        }
      ]
    },
    {
      "cell_type": "code",
      "source": [
        "def evaluate_model(predictions, model_name):\n",
        "    evaluator_pr = BinaryClassificationEvaluator(labelCol=\"is_fraud\",\n",
        "                                              metricName=\"areaUnderPR\")\n",
        "    evaluator_roc = BinaryClassificationEvaluator(labelCol=\"is_fraud\",\n",
        "                                               metricName=\"areaUnderROC\")\n",
        "\n",
        "    pr = evaluator_pr.evaluate(predictions)\n",
        "    roc = evaluator_roc.evaluate(predictions)\n",
        "\n",
        "    # Конвертация в pandas для sklearn метрик\n",
        "    pred_pandas = predictions.select([\"is_fraud\", \"prediction\"]).toPandas()\n",
        "\n",
        "    print(f\"\\n{model_name} Evaluation:\")\n",
        "    print(f\"PR AUC: {pr:.4f}\")\n",
        "    print(f\"ROC AUC: {roc:.4f}\")\n",
        "    print(\"\\nClassification Report:\")\n",
        "    print(classification_report(pred_pandas[\"is_fraud\"], pred_pandas[\"prediction\"]))\n",
        "\n",
        "    # Матрица ошибок\n",
        "    cm = confusion_matrix(pred_pandas[\"is_fraud\"], pred_pandas[\"prediction\"])\n",
        "    plt.figure(figsize=(6, 6))\n",
        "    sns.heatmap(cm, annot=True, fmt=\"d\", cmap=\"Blues\")\n",
        "    plt.title(f\"Confusion Matrix - {model_name}\")\n",
        "    plt.xlabel(\"Predicted\")\n",
        "    plt.ylabel(\"Actual\")\n",
        "    plt.show()\n",
        "\n",
        "# Оценка всех моделей\n",
        "evaluate_model(predictions_dt, \"Decision Tree\")\n",
        "evaluate_model(predictions_rf, \"Random Forest\")\n",
        "evaluate_model(predictions_gbt, \"Gradient Boosted Trees\")"
      ],
      "metadata": {
        "colab": {
          "base_uri": "https://localhost:8080/",
          "height": 1000
        },
        "id": "Urjv1m-x0faB",
        "outputId": "2b19079d-6134-4f1c-80f8-95550bee29a3"
      },
      "execution_count": 56,
      "outputs": [
        {
          "output_type": "stream",
          "name": "stdout",
          "text": [
            "\n",
            "Decision Tree Evaluation:\n",
            "PR AUC: 0.8474\n",
            "ROC AUC: 0.9101\n",
            "\n",
            "Classification Report:\n",
            "              precision    recall  f1-score   support\n",
            "\n",
            "           0       0.94      0.92      0.93      5817\n",
            "           1       0.78      0.82      0.80      1963\n",
            "\n",
            "    accuracy                           0.90      7780\n",
            "   macro avg       0.86      0.87      0.87      7780\n",
            "weighted avg       0.90      0.90      0.90      7780\n",
            "\n"
          ]
        },
        {
          "output_type": "display_data",
          "data": {
            "text/plain": [
              "<Figure size 600x600 with 2 Axes>"
            ],
            "image/png": "[encoded data removed]"
          },
          "metadata": {}
        },
        {
          "output_type": "stream",
          "name": "stdout",
          "text": [
            "\n",
            "Random Forest Evaluation:\n",
            "PR AUC: 0.5925\n",
            "ROC AUC: 0.7885\n",
            "\n",
            "Classification Report:\n",
            "              precision    recall  f1-score   support\n",
            "\n",
            "           0       0.81      0.96      0.88      5968\n",
            "           1       0.70      0.33      0.44      1927\n",
            "\n",
            "    accuracy                           0.80      7895\n",
            "   macro avg       0.76      0.64      0.66      7895\n",
            "weighted avg       0.79      0.80      0.77      7895\n",
            "\n"
          ]
        },
        {
          "output_type": "display_data",
          "data": {
            "text/plain": [
              "<Figure size 600x600 with 2 Axes>"
            ],
            "image/png": "[encoded data removed]"
          },
          "metadata": {}
        },
        {
          "output_type": "stream",
          "name": "stdout",
          "text": [
            "\n",
            "Gradient Boosted Trees Evaluation:\n",
            "PR AUC: 0.5787\n",
            "ROC AUC: 0.7826\n",
            "\n",
            "Classification Report:\n",
            "              precision    recall  f1-score   support\n",
            "\n",
            "           0       0.81      0.96      0.88      5939\n",
            "           1       0.69      0.31      0.43      1952\n",
            "\n",
            "    accuracy                           0.80      7891\n",
            "   macro avg       0.75      0.63      0.65      7891\n",
            "weighted avg       0.78      0.80      0.76      7891\n",
            "\n"
          ]
        },
        {
          "output_type": "display_data",
          "data": {
            "text/plain": [
              "<Figure size 600x600 with 2 Axes>"
            ],
            "image/png": "[encoded data removed]"
          },
          "metadata": {}
        }
      ]
    }
  ]
}